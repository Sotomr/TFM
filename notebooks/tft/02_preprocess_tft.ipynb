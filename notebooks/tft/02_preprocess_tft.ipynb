{
 "cells": [
  {
   "cell_type": "code",
   "execution_count": 1,
   "id": "7a9c474c-4d55-49d1-bf26-f1205bc8760a",
   "metadata": {},
   "outputs": [
    {
     "name": "stdout",
     "output_type": "stream",
     "text": [
      "Torch      : 2.1.2+cpu\n",
      "Lightning  : 2.5.2\n",
      "Forecasting: 1.4.0\n",
      "NumPy      : 1.26.4\n",
      "TensorFlow : 2.16.2\n"
     ]
    }
   ],
   "source": [
    "import torch, lightning, pytorch_forecasting as pf, tensorflow as tf, numpy\n",
    "print(\"Torch      :\", torch.__version__)\n",
    "print(\"Lightning  :\", lightning.__version__)\n",
    "print(\"Forecasting:\", pf.__version__)\n",
    "print(\"NumPy      :\", numpy.__version__)\n",
    "print(\"TensorFlow :\", tf.__version__)"
   ]
  },
  {
   "cell_type": "code",
   "execution_count": 5,
   "id": "3b167807-bcff-4d94-be0e-59a1758e61e7",
   "metadata": {},
   "outputs": [
    {
     "name": "stdout",
     "output_type": "stream",
     "text": [
      "VIX columns: Index(['^VIX'], dtype='object', name='Ticker')\n",
      "Fed Funds columns: Index(['^IRX'], dtype='object', name='Ticker')\n"
     ]
    }
   ],
   "source": [
    "import pandas as pd, numpy as np, pathlib, sys, warnings\n",
    "from sklearn.preprocessing import StandardScaler\n",
    "from pytorch_forecasting import TimeSeriesDataSet\n",
    "from pytorch_forecasting.data.encoders import TorchNormalizer\n",
    "import torch, pickle\n",
    "\n",
    "warnings.simplefilter(\"ignore\")\n",
    "\n",
    "# ----------------------------------------------------------\n",
    "# Configuración de paths\n",
    "# ----------------------------------------------------------\n",
    "ROOT = pathlib.Path().resolve().parent.parent\n",
    "if str(ROOT) not in sys.path:\n",
    "    sys.path.insert(0, str(ROOT))\n",
    "\n",
    "from src import config as cfg\n",
    "\n",
    "# ----------------------------------------------------------\n",
    "# 1. Cargar datos base\n",
    "# ----------------------------------------------------------\n",
    "prices = pd.read_parquet(cfg.DATA / \"raw\" / \"prices.parquet\")\n",
    "vix    = pd.read_parquet(cfg.DATA / \"raw\" / \"vix.parquet\")\n",
    "ff     = pd.read_parquet(cfg.DATA / \"raw\" / \"fedfunds.parquet\")\n",
    "\n",
    "# Asegurar que el índice tenga nombre\n",
    "prices.index.name = \"date\"\n",
    "vix.index.name = \"date\"\n",
    "ff.index.name = \"date\"\n",
    "\n",
    "# Mostrar columnas para confirmar nombres reales\n",
    "print(\"VIX columns:\", vix.columns)\n",
    "print(\"Fed Funds columns:\", ff.columns)\n"
   ]
  },
  {
   "cell_type": "code",
   "execution_count": 7,
   "id": "a61e4a00-0df8-4e8f-ab0f-a42788a04569",
   "metadata": {},
   "outputs": [
    {
     "name": "stdout",
     "output_type": "stream",
     "text": [
      "Final DataFrame columns: Index(['date', 'ticker', 'ret', 'ma50', 'zscore', 'vix', 'irx', 'group_id',\n",
      "       'time_idx'],\n",
      "      dtype='object')\n",
      "✅ Dataset TFT guardado en: C:\\Users\\ferra\\Documents\\TFM\\data\\processed\\tft_data.pkl\n"
     ]
    }
   ],
   "source": [
    "\n",
    "# ----------------------------------------------------------\n",
    "# 2. Calcular log-retornos y features\n",
    "# ----------------------------------------------------------\n",
    "rets    = np.log(prices / prices.shift(1)).dropna()\n",
    "ma50    = prices.rolling(50).mean()\n",
    "zscore  = (prices - ma50) / prices.rolling(50).std()\n",
    "\n",
    "# ------------ Pasar a formato largo ----------------\n",
    "def _to_long(df_wide, value_name):\n",
    "    df_long = df_wide.stack().reset_index()\n",
    "    df_long.columns = [\"date\", \"ticker\", value_name]\n",
    "    return df_long\n",
    "\n",
    "rets_long   = _to_long(rets,    \"ret\")\n",
    "ma50_long   = _to_long(ma50,    \"ma50\")\n",
    "zscore_long = _to_long(zscore,  \"zscore\")\n",
    "\n",
    "# ------------ Merge de las features ----------------\n",
    "df = (\n",
    "    rets_long\n",
    "    .merge(ma50_long,   on=[\"date\", \"ticker\"])\n",
    "    .merge(zscore_long, on=[\"date\", \"ticker\"])\n",
    ")\n",
    "\n",
    "# ----------------------------------------------------------\n",
    "# 2b. Añadir covariables exógenas\n",
    "# ----------------------------------------------------------\n",
    "# Detectar nombres reales de columnas y renombrar si es necesario\n",
    "vix_col = vix.columns[0]\n",
    "ff_col = ff.columns[0]\n",
    "\n",
    "df = (\n",
    "    df.merge(vix.rename(columns={vix_col: \"vix\"}), left_on=\"date\", right_index=True, how=\"left\")\n",
    "      .merge(ff.rename(columns={ff_col: \"irx\"}),   left_on=\"date\", right_index=True, how=\"left\")\n",
    "      .dropna()\n",
    ")\n",
    "\n",
    "# ----------------------------------------------------------\n",
    "# 3. Codificar índices requeridos por TFT\n",
    "# ----------------------------------------------------------\n",
    "df[\"group_id\"] = df[\"ticker\"]\n",
    "df[\"time_idx\"] = (df[\"date\"] - df[\"date\"].min()).dt.days.astype(\"int64\")\n",
    "\n",
    "# Confirmación de columnas finales\n",
    "print(\"Final DataFrame columns:\", df.columns)\n",
    "\n",
    "# ----------------------------------------------------------\n",
    "# 4. Definir TimeSeriesDataSet\n",
    "# ----------------------------------------------------------\n",
    "context_length     = 60\n",
    "prediction_length  = 5\n",
    "\n",
    "training = TimeSeriesDataSet(\n",
    "    df,\n",
    "    time_idx=\"time_idx\",\n",
    "    target=\"ret\",\n",
    "    group_ids=[\"group_id\"],\n",
    "    max_encoder_length=context_length,\n",
    "    max_prediction_length=prediction_length,\n",
    "    time_varying_known_reals=[\"time_idx\", \"vix\", \"irx\"],\n",
    "    time_varying_unknown_reals=[\"ret\", \"ma50\", \"zscore\"],\n",
    "    static_categoricals=[\"group_id\"],\n",
    "    target_normalizer=TorchNormalizer(method=\"identity\"),\n",
    "    add_relative_time_idx=True,\n",
    "    add_target_scales=True,\n",
    "    add_encoder_length=True,\n",
    "    allow_missing_timesteps=True  # 🔧 esta línea es clave\n",
    ")\n",
    "\n",
    "\n",
    "# ----------------------------------------------------------\n",
    "# 5. Guardar dataset serializado\n",
    "# ----------------------------------------------------------\n",
    "out_path = cfg.DATA / \"processed\" / \"tft_data.pkl\"\n",
    "out_path.parent.mkdir(parents=True, exist_ok=True)\n",
    "\n",
    "with open(out_path, \"wb\") as f:\n",
    "    pickle.dump(training, f)\n",
    "\n",
    "print(\"✅ Dataset TFT guardado en:\", out_path)\n"
   ]
  },
  {
   "cell_type": "code",
   "execution_count": null,
   "id": "117d3804-6f32-422a-bb88-f9c09099c8c1",
   "metadata": {},
   "outputs": [],
   "source": []
  }
 ],
 "metadata": {
  "kernelspec": {
   "display_name": "TFM (tfmm)",
   "language": "python",
   "name": "tfmm"
  },
  "language_info": {
   "codemirror_mode": {
    "name": "ipython",
    "version": 3
   },
   "file_extension": ".py",
   "mimetype": "text/x-python",
   "name": "python",
   "nbconvert_exporter": "python",
   "pygments_lexer": "ipython3",
   "version": "3.11.0"
  }
 },
 "nbformat": 4,
 "nbformat_minor": 5
}
