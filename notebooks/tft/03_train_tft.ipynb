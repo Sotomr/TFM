{
 "cells": [
  {
   "cell_type": "code",
   "execution_count": 2,
   "id": "b330eca8-67ef-42bb-89b7-59ec915d7bee",
   "metadata": {},
   "outputs": [
    {
     "name": "stdout",
     "output_type": "stream",
     "text": [
      "✅ Dataset cargado con éxito\n",
      "🔍 N.º series: 18577\n"
     ]
    }
   ],
   "source": [
    "import pickle\n",
    "import pathlib, sys\n",
    "import warnings\n",
    "from pytorch_forecasting import TimeSeriesDataSet\n",
    "from pytorch_forecasting.data import NaNLabelEncoder\n",
    "\n",
    "warnings.filterwarnings(\"ignore\")\n",
    "\n",
    "# ----------------------------------------------------------\n",
    "# Cargar config y rutas\n",
    "# ----------------------------------------------------------\n",
    "ROOT = pathlib.Path().resolve().parent.parent\n",
    "if str(ROOT) not in sys.path:\n",
    "    sys.path.insert(0, str(ROOT))\n",
    "\n",
    "from src import config as cfg\n",
    "\n",
    "# ----------------------------------------------------------\n",
    "# Cargar el TimeSeriesDataSet\n",
    "# ----------------------------------------------------------\n",
    "with open(cfg.DATA / \"processed\" / \"tft_data.pkl\", \"rb\") as f:\n",
    "    dataset = pickle.load(f)\n",
    "\n",
    "print(\"✅ Dataset cargado con éxito\")\n",
    "print(f\"🔍 N.º series: {len(dataset)}\")\n"
   ]
  },
  {
   "cell_type": "code",
   "execution_count": 4,
   "id": "8dc9e238-64e4-49a6-a299-ba05c11b60e1",
   "metadata": {},
   "outputs": [
    {
     "name": "stdout",
     "output_type": "stream",
     "text": [
      "📋 decoded_index columns: Index(['group_id', 'time_idx_first', 'time_idx_last',\n",
      "       'time_idx_first_prediction'],\n",
      "      dtype='object')\n",
      "✅ DataLoaders listos\n",
      "🔹 Train batches: 2319\n",
      "🔹 Val batches:   2\n"
     ]
    }
   ],
   "source": [
    "from torch.utils.data import DataLoader\n",
    "\n",
    "# ----------------------------------------------------------\n",
    "# Dividir dataset en entrenamiento y validación\n",
    "# ----------------------------------------------------------\n",
    "print(\"📋 decoded_index columns:\", dataset.decoded_index.columns)\n",
    "\n",
    "training_cutoff = dataset.decoded_index[\"time_idx_last\"].max() - 5 * dataset.max_prediction_length\n",
    "\n",
    "train_dataset = dataset.filter(lambda x: x[\"time_idx_last\"] <= training_cutoff)\n",
    "val_dataset   = dataset.filter(lambda x: x[\"time_idx_last\"] >  training_cutoff)\n",
    "\n",
    "# ----------------------------------------------------------\n",
    "# Crear los DataLoaders\n",
    "# ----------------------------------------------------------\n",
    "# ─── parámetros nuevos ───────────────────────────────────\n",
    "batch_size  = 8          # ↓ antes 64\n",
    "num_workers = 0          # ↓ evita procesos extra\n",
    "\n",
    "train_dataloader = train_dataset.to_dataloader(\n",
    "    train=True,\n",
    "    batch_size=batch_size,\n",
    "    num_workers=num_workers,\n",
    "    shuffle=True\n",
    ")\n",
    "val_dataloader = val_dataset.to_dataloader(\n",
    "    train=False,\n",
    "    batch_size=batch_size * 2,   # 16\n",
    "    num_workers=num_workers\n",
    ")\n",
    "\n",
    "print(f\"✅ DataLoaders listos\")\n",
    "print(f\"🔹 Train batches: {len(train_dataloader)}\")\n",
    "print(f\"🔹 Val batches:   {len(val_dataloader)}\")\n"
   ]
  },
  {
   "cell_type": "code",
   "execution_count": null,
   "id": "371ba1a5-adad-4a1b-8aab-91d9926aae86",
   "metadata": {},
   "outputs": [
    {
     "name": "stderr",
     "output_type": "stream",
     "text": [
      "GPU available: False, used: False\n",
      "TPU available: False, using: 0 TPU cores\n",
      "HPU available: False, using: 0 HPUs\n",
      "`Trainer(limit_train_batches=1.0)` was configured so 100% of the batches per epoch will be used..\n",
      "`Trainer(limit_val_batches=1.0)` was configured so 100% of the batches will be used..\n",
      "Seed set to 42\n"
     ]
    }
   ],
   "source": [
    "import lightning.pytorch as pl\n",
    "from lightning.pytorch.callbacks import EarlyStopping, ModelCheckpoint\n",
    "from pytorch_forecasting.models import TemporalFusionTransformer\n",
    "from pytorch_forecasting.metrics import RMSE\n",
    "\n",
    "# 1 ───────────────────────────  Modelo TFT\n",
    "tft = TemporalFusionTransformer.from_dataset(\n",
    "    train_dataset,\n",
    "    learning_rate=1e-3,\n",
    "    hidden_size=16,\n",
    "    attention_head_size=1,\n",
    "    dropout=0.1,\n",
    "    hidden_continuous_size=8,\n",
    "    loss=RMSE(),\n",
    "    log_interval=10,\n",
    "    reduce_on_plateau_patience=4\n",
    ")\n",
    "\n",
    "# 2 ───────────────────────────  Callbacks\n",
    "ckpt_cb = ModelCheckpoint(\n",
    "    dirpath=cfg.MODELS,          # carpeta models/ definida en tu config\n",
    "    filename=\"tft_base-{epoch:02d}-{val_loss:.4f}\",\n",
    "    monitor=\"val_loss\",\n",
    "    save_top_k=1,\n",
    "    mode=\"min\"\n",
    ")\n",
    "\n",
    "es_cb = EarlyStopping(\n",
    "    monitor=\"val_loss\",\n",
    "    patience=5,\n",
    "    min_delta=1e-4,\n",
    "    mode=\"min\"\n",
    ")\n",
    "\n",
    "# 3 ───────────────────────────  Trainer\n",
    "trainer = pl.Trainer(\n",
    "    max_epochs=30,\n",
    "    gradient_clip_val=0.1,\n",
    "    callbacks=[es_cb, ckpt_cb],\n",
    "    accelerator=\"cpu\", devices=1,\n",
    "    enable_progress_bar=False,      # ← sin barra\n",
    "    enable_model_summary=False,     # ← sin tabla grande\n",
    "    logger=False,                   # ← sin TensorBoard\n",
    "    limit_train_batches=1.0,\n",
    "    limit_val_batches=1.0\n",
    ")\n",
    "\n",
    "# 4 ───────────────────────────  Entrenamiento\n",
    "pl.seed_everything(42, workers=True)   # para reproducibilidad\n",
    "\n",
    "trainer.fit(\n",
    "    model=tft,\n",
    "    train_dataloaders=train_dataloader,\n",
    "    val_dataloaders=val_dataloader\n",
    ")\n",
    "\n",
    "print(\"🏁  Entrenamiento acabado\")\n",
    "print(\"📦  Mejor checkpoint:\", ckpt_cb.best_model_path)\n"
   ]
  },
  {
   "cell_type": "code",
   "execution_count": null,
   "id": "24738eed-9373-46ed-8b6e-60d06c48ce6c",
   "metadata": {},
   "outputs": [],
   "source": []
  }
 ],
 "metadata": {
  "kernelspec": {
   "display_name": "TFM (tfmm)",
   "language": "python",
   "name": "tfmm"
  },
  "language_info": {
   "codemirror_mode": {
    "name": "ipython",
    "version": 3
   },
   "file_extension": ".py",
   "mimetype": "text/x-python",
   "name": "python",
   "nbconvert_exporter": "python",
   "pygments_lexer": "ipython3",
   "version": "3.11.0"
  }
 },
 "nbformat": 4,
 "nbformat_minor": 5
}
