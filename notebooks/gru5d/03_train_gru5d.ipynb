{
 "cells": [
  {
   "cell_type": "code",
   "execution_count": 2,
   "id": "b2fdcf28-3c4c-4074-a36e-e1f1af77cd89",
   "metadata": {},
   "outputs": [
    {
     "name": "stdout",
     "output_type": "stream",
     "text": [
      "📦 Cargando datos desde: C:\\Users\\1M72763\\Desktop\\TFM\\data\\processed\\gru5d_data.pkl\n",
      "✅ X shape: (4450, 60, 80)\n",
      "✅ y shape: (4450, 40)\n",
      "📅 Fechas disponibles: 2012-08-22 00:00:00 → 2025-06-21 00:00:00\n"
     ]
    }
   ],
   "source": [
    "import tensorflow as tf\n",
    "import joblib, pathlib\n",
    "import numpy as np\n",
    "import sys, pathlib\n",
    "\n",
    "\n",
    "# Añadir src/ al path para poder importar config\n",
    "PROJECT_ROOT = pathlib.Path().resolve().parent.parent  \n",
    "if str(PROJECT_ROOT) not in sys.path:\n",
    "    sys.path.insert(0, str(PROJECT_ROOT))\n",
    "from src import config as cfg\n",
    "\n",
    "# --- Cargar dataset procesado ---\n",
    "ruta = cfg.DATA / \"processed\" / \"gru5d_data.pkl\"\n",
    "print(\"📦 Cargando datos desde:\", ruta)\n",
    "\n",
    "data = joblib.load(ruta)\n",
    "\n",
    "X, y = data[\"X\"], data[\"y\"]\n",
    "fechas = data[\"dates\"]\n",
    "print(f\"✅ X shape: {X.shape}\")\n",
    "print(f\"✅ y shape: {y.shape}\")\n",
    "print(f\"📅 Fechas disponibles: {fechas.min()} → {fechas.max()}\")"
   ]
  },
  {
   "cell_type": "code",
   "execution_count": 3,
   "id": "c144bdfc-52cb-4269-9363-1ace8c82b404",
   "metadata": {},
   "outputs": [
    {
     "name": "stdout",
     "output_type": "stream",
     "text": [
      "🔹 Train: (2086, 60, 80)\n",
      "🔹 Val:   (731, 60, 80)\n",
      "🔹 Test:  (1633, 60, 80)\n",
      "🗓️ Rango fechas:\n",
      "Train: 2012-08-22 00:00:00 → 2018-12-31 00:00:00\n",
      "Val:   2019-01-01 00:00:00 → 2020-12-31 00:00:00\n",
      "Test:  2021-01-01 00:00:00 → 2025-06-21 00:00:00\n",
      "✅ Escaladores guardados para backtest\n"
     ]
    }
   ],
   "source": [
    "from sklearn.preprocessing import StandardScaler\n",
    "\n",
    "# --- División temporal ---\n",
    "train_mask = fechas < \"2019-01-01\"\n",
    "val_mask   = (fechas >= \"2019-01-01\") & (fechas < \"2021-01-01\")\n",
    "test_mask  = fechas >= \"2021-01-01\"\n",
    "\n",
    "X_train, y_train = X[train_mask], y[train_mask]\n",
    "X_val, y_val     = X[val_mask], y[val_mask]\n",
    "X_test, y_test   = X[test_mask], y[test_mask]\n",
    "\n",
    "print(f\"🔹 Train: {X_train.shape}\")\n",
    "print(f\"🔹 Val:   {X_val.shape}\")\n",
    "print(f\"🔹 Test:  {X_test.shape}\")\n",
    "\n",
    "print(\"🗓️ Rango fechas:\")\n",
    "print(\"Train:\", fechas[train_mask].min(), \"→\", fechas[train_mask].max())\n",
    "print(\"Val:  \", fechas[val_mask].min(), \"→\", fechas[val_mask].max())\n",
    "print(\"Test: \", fechas[test_mask].min(), \"→\", fechas[test_mask].max())\n",
    "\n",
    "# ✅ ESCALADO AÑADIDO - CRÍTICO para consistencia con backtest\n",
    "scaler_X = StandardScaler()\n",
    "X_train_scaled = scaler_X.fit_transform(X_train.reshape(-1, X_train.shape[-1])).reshape(X_train.shape)\n",
    "X_val_scaled = scaler_X.transform(X_val.reshape(-1, X_val.shape[-1])).reshape(X_val.shape)\n",
    "X_test_scaled = scaler_X.transform(X_test.reshape(-1, X_test.shape[-1])).reshape(X_test.shape)\n",
    "\n",
    "scaler_y = StandardScaler()\n",
    "y_train_scaled = scaler_y.fit_transform(y_train)\n",
    "y_val_scaled = scaler_y.transform(y_val)\n",
    "y_test_scaled = scaler_y.transform(y_test)\n",
    "\n",
    "# Guardar escaladores para backtest\n",
    "cfg.MODELS.mkdir(parents=True, exist_ok=True)\n",
    "joblib.dump(scaler_X, cfg.MODELS / \"scaler_X_gru5d.pkl\")\n",
    "joblib.dump(scaler_y, cfg.MODELS / \"scaler_y_gru5d.pkl\")\n",
    "print(\"✅ Escaladores guardados para backtest\")"
   ]
  },
  {
   "cell_type": "code",
   "execution_count": 4,
   "id": "9a9a4250-97fe-447d-9d33-a8ffea625a5d",
   "metadata": {},
   "outputs": [
    {
     "name": "stdout",
     "output_type": "stream",
     "text": [
      "🛠️  Definiendo arquitectura...\n"
     ]
    },
    {
     "data": {
      "text/html": [
       "<pre style=\"white-space:pre;overflow-x:auto;line-height:normal;font-family:Menlo,'DejaVu Sans Mono',consolas,'Courier New',monospace\"><span style=\"font-weight: bold\">Model: \"functional\"</span>\n",
       "</pre>\n"
      ],
      "text/plain": [
       "\u001b[1mModel: \"functional\"\u001b[0m\n"
      ]
     },
     "metadata": {},
     "output_type": "display_data"
    },
    {
     "data": {
      "text/html": [
       "<pre style=\"white-space:pre;overflow-x:auto;line-height:normal;font-family:Menlo,'DejaVu Sans Mono',consolas,'Courier New',monospace\">┏━━━━━━━━━━━━━━━━━━━━━━━━━━━━━━━━━┳━━━━━━━━━━━━━━━━━━━━━━━━┳━━━━━━━━━━━━━━━┓\n",
       "┃<span style=\"font-weight: bold\"> Layer (type)                    </span>┃<span style=\"font-weight: bold\"> Output Shape           </span>┃<span style=\"font-weight: bold\">       Param # </span>┃\n",
       "┡━━━━━━━━━━━━━━━━━━━━━━━━━━━━━━━━━╇━━━━━━━━━━━━━━━━━━━━━━━━╇━━━━━━━━━━━━━━━┩\n",
       "│ input_layer (<span style=\"color: #0087ff; text-decoration-color: #0087ff\">InputLayer</span>)        │ (<span style=\"color: #00d7ff; text-decoration-color: #00d7ff\">None</span>, <span style=\"color: #00af00; text-decoration-color: #00af00\">60</span>, <span style=\"color: #00af00; text-decoration-color: #00af00\">80</span>)         │             <span style=\"color: #00af00; text-decoration-color: #00af00\">0</span> │\n",
       "├─────────────────────────────────┼────────────────────────┼───────────────┤\n",
       "│ gru (<span style=\"color: #0087ff; text-decoration-color: #0087ff\">GRU</span>)                       │ (<span style=\"color: #00d7ff; text-decoration-color: #00d7ff\">None</span>, <span style=\"color: #00af00; text-decoration-color: #00af00\">60</span>, <span style=\"color: #00af00; text-decoration-color: #00af00\">64</span>)         │        <span style=\"color: #00af00; text-decoration-color: #00af00\">28,032</span> │\n",
       "├─────────────────────────────────┼────────────────────────┼───────────────┤\n",
       "│ gru_1 (<span style=\"color: #0087ff; text-decoration-color: #0087ff\">GRU</span>)                     │ (<span style=\"color: #00d7ff; text-decoration-color: #00d7ff\">None</span>, <span style=\"color: #00af00; text-decoration-color: #00af00\">32</span>)             │         <span style=\"color: #00af00; text-decoration-color: #00af00\">9,408</span> │\n",
       "├─────────────────────────────────┼────────────────────────┼───────────────┤\n",
       "│ dense (<span style=\"color: #0087ff; text-decoration-color: #0087ff\">Dense</span>)                   │ (<span style=\"color: #00d7ff; text-decoration-color: #00d7ff\">None</span>, <span style=\"color: #00af00; text-decoration-color: #00af00\">40</span>)             │         <span style=\"color: #00af00; text-decoration-color: #00af00\">1,320</span> │\n",
       "└─────────────────────────────────┴────────────────────────┴───────────────┘\n",
       "</pre>\n"
      ],
      "text/plain": [
       "┏━━━━━━━━━━━━━━━━━━━━━━━━━━━━━━━━━┳━━━━━━━━━━━━━━━━━━━━━━━━┳━━━━━━━━━━━━━━━┓\n",
       "┃\u001b[1m \u001b[0m\u001b[1mLayer (type)                   \u001b[0m\u001b[1m \u001b[0m┃\u001b[1m \u001b[0m\u001b[1mOutput Shape          \u001b[0m\u001b[1m \u001b[0m┃\u001b[1m \u001b[0m\u001b[1m      Param #\u001b[0m\u001b[1m \u001b[0m┃\n",
       "┡━━━━━━━━━━━━━━━━━━━━━━━━━━━━━━━━━╇━━━━━━━━━━━━━━━━━━━━━━━━╇━━━━━━━━━━━━━━━┩\n",
       "│ input_layer (\u001b[38;5;33mInputLayer\u001b[0m)        │ (\u001b[38;5;45mNone\u001b[0m, \u001b[38;5;34m60\u001b[0m, \u001b[38;5;34m80\u001b[0m)         │             \u001b[38;5;34m0\u001b[0m │\n",
       "├─────────────────────────────────┼────────────────────────┼───────────────┤\n",
       "│ gru (\u001b[38;5;33mGRU\u001b[0m)                       │ (\u001b[38;5;45mNone\u001b[0m, \u001b[38;5;34m60\u001b[0m, \u001b[38;5;34m64\u001b[0m)         │        \u001b[38;5;34m28,032\u001b[0m │\n",
       "├─────────────────────────────────┼────────────────────────┼───────────────┤\n",
       "│ gru_1 (\u001b[38;5;33mGRU\u001b[0m)                     │ (\u001b[38;5;45mNone\u001b[0m, \u001b[38;5;34m32\u001b[0m)             │         \u001b[38;5;34m9,408\u001b[0m │\n",
       "├─────────────────────────────────┼────────────────────────┼───────────────┤\n",
       "│ dense (\u001b[38;5;33mDense\u001b[0m)                   │ (\u001b[38;5;45mNone\u001b[0m, \u001b[38;5;34m40\u001b[0m)             │         \u001b[38;5;34m1,320\u001b[0m │\n",
       "└─────────────────────────────────┴────────────────────────┴───────────────┘\n"
      ]
     },
     "metadata": {},
     "output_type": "display_data"
    },
    {
     "data": {
      "text/html": [
       "<pre style=\"white-space:pre;overflow-x:auto;line-height:normal;font-family:Menlo,'DejaVu Sans Mono',consolas,'Courier New',monospace\"><span style=\"font-weight: bold\"> Total params: </span><span style=\"color: #00af00; text-decoration-color: #00af00\">38,760</span> (151.41 KB)\n",
       "</pre>\n"
      ],
      "text/plain": [
       "\u001b[1m Total params: \u001b[0m\u001b[38;5;34m38,760\u001b[0m (151.41 KB)\n"
      ]
     },
     "metadata": {},
     "output_type": "display_data"
    },
    {
     "data": {
      "text/html": [
       "<pre style=\"white-space:pre;overflow-x:auto;line-height:normal;font-family:Menlo,'DejaVu Sans Mono',consolas,'Courier New',monospace\"><span style=\"font-weight: bold\"> Trainable params: </span><span style=\"color: #00af00; text-decoration-color: #00af00\">38,760</span> (151.41 KB)\n",
       "</pre>\n"
      ],
      "text/plain": [
       "\u001b[1m Trainable params: \u001b[0m\u001b[38;5;34m38,760\u001b[0m (151.41 KB)\n"
      ]
     },
     "metadata": {},
     "output_type": "display_data"
    },
    {
     "data": {
      "text/html": [
       "<pre style=\"white-space:pre;overflow-x:auto;line-height:normal;font-family:Menlo,'DejaVu Sans Mono',consolas,'Courier New',monospace\"><span style=\"font-weight: bold\"> Non-trainable params: </span><span style=\"color: #00af00; text-decoration-color: #00af00\">0</span> (0.00 B)\n",
       "</pre>\n"
      ],
      "text/plain": [
       "\u001b[1m Non-trainable params: \u001b[0m\u001b[38;5;34m0\u001b[0m (0.00 B)\n"
      ]
     },
     "metadata": {},
     "output_type": "display_data"
    }
   ],
   "source": [
    "# --- Crear modelo GRU ---\n",
    "print(\"🛠️  Definiendo arquitectura...\")\n",
    "\n",
    "inputs = tf.keras.Input(shape=X.shape[1:])\n",
    "x = tf.keras.layers.GRU(64, return_sequences=True)(inputs)\n",
    "x = tf.keras.layers.GRU(32)(x)\n",
    "outputs = tf.keras.layers.Dense(y.shape[1])(x)\n",
    "\n",
    "model = tf.keras.Model(inputs=inputs, outputs=outputs)\n",
    "\n",
    "model.compile(\n",
    "    optimizer=tf.keras.optimizers.Adam(learning_rate=1e-3),\n",
    "    loss=\"mse\",\n",
    "    metrics=[tf.keras.metrics.RootMeanSquaredError()]\n",
    ")\n",
    "\n",
    "model.summary()\n"
   ]
  },
  {
   "cell_type": "code",
   "execution_count": 5,
   "id": "c4ddb110-1bf0-422f-8a38-498609a292a6",
   "metadata": {},
   "outputs": [
    {
     "name": "stdout",
     "output_type": "stream",
     "text": [
      "📁 Checkpoint se guardará en: C:\\Users\\1M72763\\Desktop\\TFM\\models\\gru5d.keras\n",
      "🔍 NaNs en X_train_scaled: 0\n",
      "🔍 NaNs en y_train_scaled: 0\n",
      "🔍 Rango X_train_scaled  : -13.168951 → 44.82546\n",
      "🔍 Rango y_train_scaled  : -7.228031 → 20.053337\n",
      "Epoch 1/50\n",
      "66/66 - 5s - 73ms/step - loss: 1.0170 - root_mean_squared_error: 1.0085 - val_loss: 2.0701 - val_root_mean_squared_error: 1.4388\n",
      "Epoch 2/50\n",
      "66/66 - 2s - 36ms/step - loss: 0.9421 - root_mean_squared_error: 0.9706 - val_loss: 2.1151 - val_root_mean_squared_error: 1.4543\n",
      "Epoch 3/50\n",
      "66/66 - 2s - 31ms/step - loss: 0.8555 - root_mean_squared_error: 0.9250 - val_loss: 2.1254 - val_root_mean_squared_error: 1.4579\n",
      "Epoch 4/50\n",
      "66/66 - 2s - 31ms/step - loss: 0.7656 - root_mean_squared_error: 0.8750 - val_loss: 2.1894 - val_root_mean_squared_error: 1.4797\n",
      "Epoch 5/50\n",
      "66/66 - 2s - 35ms/step - loss: 0.7145 - root_mean_squared_error: 0.8453 - val_loss: 2.2176 - val_root_mean_squared_error: 1.4891\n",
      "Epoch 6/50\n",
      "66/66 - 2s - 32ms/step - loss: 0.6691 - root_mean_squared_error: 0.8180 - val_loss: 2.2473 - val_root_mean_squared_error: 1.4991\n",
      "🏁 Entrenamiento finalizado.\n"
     ]
    }
   ],
   "source": [
    "# --- Entrenamiento ---\n",
    "ckpt_path = pathlib.Path(cfg.MODELS) / \"gru5d.keras\"\n",
    "print(\"📁 Checkpoint se guardará en:\", ckpt_path)\n",
    "\n",
    "# ✅ Verificar datos ESCALADOS\n",
    "print(\"🔍 NaNs en X_train_scaled:\", np.isnan(X_train_scaled).sum())\n",
    "print(\"🔍 NaNs en y_train_scaled:\", np.isnan(y_train_scaled).sum())\n",
    "print(\"🔍 Rango X_train_scaled  :\", np.min(X_train_scaled), \"→\", np.max(X_train_scaled))\n",
    "print(\"🔍 Rango y_train_scaled  :\", np.min(y_train_scaled), \"→\", np.max(y_train_scaled))\n",
    "\n",
    "es_cb = tf.keras.callbacks.EarlyStopping(patience=5, restore_best_weights=True)\n",
    "\n",
    "# ✅ Entrenar con datos ESCALADOS\n",
    "history = model.fit(\n",
    "    X_train_scaled, y_train_scaled,\n",
    "    validation_data=(X_val_scaled, y_val_scaled),\n",
    "    epochs=50,\n",
    "    batch_size=32,\n",
    "    callbacks=[es_cb],\n",
    "    verbose=2\n",
    ")\n",
    "\n",
    "print(\"🏁 Entrenamiento finalizado.\")"
   ]
  },
  {
   "cell_type": "code",
   "execution_count": 6,
   "id": "3a0b6fd2-88bf-454f-8f4b-e705f9fb0d54",
   "metadata": {},
   "outputs": [
    {
     "name": "stdout",
     "output_type": "stream",
     "text": [
      "📊 Evaluando en test...\n",
      "\u001b[1m52/52\u001b[0m \u001b[32m━━━━━━━━━━━━━━━━━━━━\u001b[0m\u001b[37m\u001b[0m \u001b[1m1s\u001b[0m 17ms/step\n",
      "✅ RMSE medio (escala original): 0.007461296\n",
      "✅ Modelo y resultados guardados correctamente.\n"
     ]
    }
   ],
   "source": [
    "print(\"📊 Evaluando en test...\")\n",
    "# ✅ Evaluar con datos escalados y desescalar predicciones para comparar\n",
    "y_pred_scaled = model.predict(X_test_scaled)\n",
    "y_pred = scaler_y.inverse_transform(y_pred_scaled)\n",
    "\n",
    "# RMSE en escala original para comparabilidad\n",
    "rmse = np.sqrt(((y_test - y_pred)**2).mean(axis=0))\n",
    "rmse_mean = rmse.mean()\n",
    "print(\"✅ RMSE medio (escala original):\", rmse_mean)\n",
    "\n",
    "# --- Guardado ---\n",
    "model.save(cfg.MODELS / \"gru5d.keras\")\n",
    "joblib.dump(history.history, cfg.RESULT / \"history_gru5d.pkl\")\n",
    "joblib.dump(rmse_mean, cfg.RESULT / \"rmse_gru5d.pkl\")\n",
    "\n",
    "print(\"✅ Modelo y resultados guardados correctamente.\")"
   ]
  },
  {
   "cell_type": "code",
   "execution_count": null,
   "id": "9008a283-dd23-4250-acf9-94317e9727b8",
   "metadata": {},
   "outputs": [],
   "source": []
  }
 ],
 "metadata": {
  "kernelspec": {
   "display_name": "Python 3",
   "language": "python",
   "name": "python3"
  },
  "language_info": {
   "codemirror_mode": {
    "name": "ipython",
    "version": 3
   },
   "file_extension": ".py",
   "mimetype": "text/x-python",
   "name": "python",
   "nbconvert_exporter": "python",
   "pygments_lexer": "ipython3",
   "version": "3.11.9"
  }
 },
 "nbformat": 4,
 "nbformat_minor": 5
}
