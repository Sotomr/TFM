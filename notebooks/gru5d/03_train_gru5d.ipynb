{
 "cells": [
  {
   "cell_type": "code",
   "execution_count": 5,
   "id": "b2fdcf28-3c4c-4074-a36e-e1f1af77cd89",
   "metadata": {},
   "outputs": [
    {
     "name": "stdout",
     "output_type": "stream",
     "text": [
      "📦 Cargando datos desde: C:\\Users\\ferra\\Documents\\TFM\\data\\processed\\gru5d_data.pkl\n",
      "✅ X shape: (4450, 60, 80)\n",
      "✅ y shape: (4450, 40)\n",
      "📅 Fechas disponibles: 2012-08-22 00:00:00 → 2025-06-21 00:00:00\n"
     ]
    }
   ],
   "source": [
    "import tensorflow as tf\n",
    "import joblib, pathlib\n",
    "import numpy as np\n",
    "\n",
    "\n",
    "# Añadir src/ al path para poder importar config\n",
    "PROJECT_ROOT = pathlib.Path().resolve().parent.parent  \n",
    "if str(PROJECT_ROOT) not in sys.path:\n",
    "    sys.path.insert(0, str(PROJECT_ROOT))\n",
    "from src import config as cfg\n",
    "\n",
    "# --- Cargar dataset procesado ---\n",
    "ruta = cfg.DATA / \"processed\" / \"gru5d_data.pkl\"\n",
    "print(\"📦 Cargando datos desde:\", ruta)\n",
    "\n",
    "data = joblib.load(ruta)\n",
    "\n",
    "X, y = data[\"X\"], data[\"y\"]\n",
    "fechas = data[\"dates\"]\n",
    "print(f\"✅ X shape: {X.shape}\")\n",
    "print(f\"✅ y shape: {y.shape}\")\n",
    "print(f\"📅 Fechas disponibles: {fechas.min()} → {fechas.max()}\")"
   ]
  },
  {
   "cell_type": "code",
   "execution_count": 16,
   "id": "c144bdfc-52cb-4269-9363-1ace8c82b404",
   "metadata": {},
   "outputs": [
    {
     "name": "stdout",
     "output_type": "stream",
     "text": [
      "🔹 Train: (2086, 60, 80)\n",
      "🔹 Val:   (731, 60, 80)\n",
      "🔹 Test:  (1633, 60, 80)\n",
      "🗓️ Rango fechas:\n",
      "Train: 2012-08-22 00:00:00 → 2018-12-31 00:00:00\n",
      "Val:   2019-01-01 00:00:00 → 2020-12-31 00:00:00\n",
      "Test:  2021-01-01 00:00:00 → 2025-06-21 00:00:00\n"
     ]
    }
   ],
   "source": [
    "# --- División temporal ---\n",
    "train_mask = fechas < \"2019-01-01\"\n",
    "val_mask   = (fechas >= \"2019-01-01\") & (fechas < \"2021-01-01\")\n",
    "test_mask  = fechas >= \"2021-01-01\"\n",
    "\n",
    "X_train, y_train = X[train_mask], y[train_mask]\n",
    "X_val, y_val     = X[val_mask], y[val_mask]\n",
    "X_test, y_test   = X[test_mask], y[test_mask]\n",
    "\n",
    "print(f\"🔹 Train: {X_train.shape}\")\n",
    "print(f\"🔹 Val:   {X_val.shape}\")\n",
    "print(f\"🔹 Test:  {X_test.shape}\")\n",
    "\n",
    "print(\"🗓️ Rango fechas:\")\n",
    "print(\"Train:\", fechas[train_mask].min(), \"→\", fechas[train_mask].max())\n",
    "print(\"Val:  \", fechas[val_mask].min(), \"→\", fechas[val_mask].max())\n",
    "print(\"Test: \", fechas[test_mask].min(), \"→\", fechas[test_mask].max())"
   ]
  },
  {
   "cell_type": "code",
   "execution_count": 18,
   "id": "9a9a4250-97fe-447d-9d33-a8ffea625a5d",
   "metadata": {},
   "outputs": [
    {
     "name": "stdout",
     "output_type": "stream",
     "text": [
      "🛠️  Definiendo arquitectura...\n"
     ]
    },
    {
     "data": {
      "text/html": [
       "<pre style=\"white-space:pre;overflow-x:auto;line-height:normal;font-family:Menlo,'DejaVu Sans Mono',consolas,'Courier New',monospace\"><span style=\"font-weight: bold\">Model: \"functional_1\"</span>\n",
       "</pre>\n"
      ],
      "text/plain": [
       "\u001b[1mModel: \"functional_1\"\u001b[0m\n"
      ]
     },
     "metadata": {},
     "output_type": "display_data"
    },
    {
     "data": {
      "text/html": [
       "<pre style=\"white-space:pre;overflow-x:auto;line-height:normal;font-family:Menlo,'DejaVu Sans Mono',consolas,'Courier New',monospace\">┏━━━━━━━━━━━━━━━━━━━━━━━━━━━━━━━━━┳━━━━━━━━━━━━━━━━━━━━━━━━┳━━━━━━━━━━━━━━━┓\n",
       "┃<span style=\"font-weight: bold\"> Layer (type)                    </span>┃<span style=\"font-weight: bold\"> Output Shape           </span>┃<span style=\"font-weight: bold\">       Param # </span>┃\n",
       "┡━━━━━━━━━━━━━━━━━━━━━━━━━━━━━━━━━╇━━━━━━━━━━━━━━━━━━━━━━━━╇━━━━━━━━━━━━━━━┩\n",
       "│ input_layer_1 (<span style=\"color: #0087ff; text-decoration-color: #0087ff\">InputLayer</span>)      │ (<span style=\"color: #00d7ff; text-decoration-color: #00d7ff\">None</span>, <span style=\"color: #00af00; text-decoration-color: #00af00\">60</span>, <span style=\"color: #00af00; text-decoration-color: #00af00\">80</span>)         │             <span style=\"color: #00af00; text-decoration-color: #00af00\">0</span> │\n",
       "├─────────────────────────────────┼────────────────────────┼───────────────┤\n",
       "│ gru_2 (<span style=\"color: #0087ff; text-decoration-color: #0087ff\">GRU</span>)                     │ (<span style=\"color: #00d7ff; text-decoration-color: #00d7ff\">None</span>, <span style=\"color: #00af00; text-decoration-color: #00af00\">60</span>, <span style=\"color: #00af00; text-decoration-color: #00af00\">64</span>)         │        <span style=\"color: #00af00; text-decoration-color: #00af00\">28,032</span> │\n",
       "├─────────────────────────────────┼────────────────────────┼───────────────┤\n",
       "│ gru_3 (<span style=\"color: #0087ff; text-decoration-color: #0087ff\">GRU</span>)                     │ (<span style=\"color: #00d7ff; text-decoration-color: #00d7ff\">None</span>, <span style=\"color: #00af00; text-decoration-color: #00af00\">32</span>)             │         <span style=\"color: #00af00; text-decoration-color: #00af00\">9,408</span> │\n",
       "├─────────────────────────────────┼────────────────────────┼───────────────┤\n",
       "│ dense_1 (<span style=\"color: #0087ff; text-decoration-color: #0087ff\">Dense</span>)                 │ (<span style=\"color: #00d7ff; text-decoration-color: #00d7ff\">None</span>, <span style=\"color: #00af00; text-decoration-color: #00af00\">40</span>)             │         <span style=\"color: #00af00; text-decoration-color: #00af00\">1,320</span> │\n",
       "└─────────────────────────────────┴────────────────────────┴───────────────┘\n",
       "</pre>\n"
      ],
      "text/plain": [
       "┏━━━━━━━━━━━━━━━━━━━━━━━━━━━━━━━━━┳━━━━━━━━━━━━━━━━━━━━━━━━┳━━━━━━━━━━━━━━━┓\n",
       "┃\u001b[1m \u001b[0m\u001b[1mLayer (type)                   \u001b[0m\u001b[1m \u001b[0m┃\u001b[1m \u001b[0m\u001b[1mOutput Shape          \u001b[0m\u001b[1m \u001b[0m┃\u001b[1m \u001b[0m\u001b[1m      Param #\u001b[0m\u001b[1m \u001b[0m┃\n",
       "┡━━━━━━━━━━━━━━━━━━━━━━━━━━━━━━━━━╇━━━━━━━━━━━━━━━━━━━━━━━━╇━━━━━━━━━━━━━━━┩\n",
       "│ input_layer_1 (\u001b[38;5;33mInputLayer\u001b[0m)      │ (\u001b[38;5;45mNone\u001b[0m, \u001b[38;5;34m60\u001b[0m, \u001b[38;5;34m80\u001b[0m)         │             \u001b[38;5;34m0\u001b[0m │\n",
       "├─────────────────────────────────┼────────────────────────┼───────────────┤\n",
       "│ gru_2 (\u001b[38;5;33mGRU\u001b[0m)                     │ (\u001b[38;5;45mNone\u001b[0m, \u001b[38;5;34m60\u001b[0m, \u001b[38;5;34m64\u001b[0m)         │        \u001b[38;5;34m28,032\u001b[0m │\n",
       "├─────────────────────────────────┼────────────────────────┼───────────────┤\n",
       "│ gru_3 (\u001b[38;5;33mGRU\u001b[0m)                     │ (\u001b[38;5;45mNone\u001b[0m, \u001b[38;5;34m32\u001b[0m)             │         \u001b[38;5;34m9,408\u001b[0m │\n",
       "├─────────────────────────────────┼────────────────────────┼───────────────┤\n",
       "│ dense_1 (\u001b[38;5;33mDense\u001b[0m)                 │ (\u001b[38;5;45mNone\u001b[0m, \u001b[38;5;34m40\u001b[0m)             │         \u001b[38;5;34m1,320\u001b[0m │\n",
       "└─────────────────────────────────┴────────────────────────┴───────────────┘\n"
      ]
     },
     "metadata": {},
     "output_type": "display_data"
    },
    {
     "data": {
      "text/html": [
       "<pre style=\"white-space:pre;overflow-x:auto;line-height:normal;font-family:Menlo,'DejaVu Sans Mono',consolas,'Courier New',monospace\"><span style=\"font-weight: bold\"> Total params: </span><span style=\"color: #00af00; text-decoration-color: #00af00\">38,760</span> (151.41 KB)\n",
       "</pre>\n"
      ],
      "text/plain": [
       "\u001b[1m Total params: \u001b[0m\u001b[38;5;34m38,760\u001b[0m (151.41 KB)\n"
      ]
     },
     "metadata": {},
     "output_type": "display_data"
    },
    {
     "data": {
      "text/html": [
       "<pre style=\"white-space:pre;overflow-x:auto;line-height:normal;font-family:Menlo,'DejaVu Sans Mono',consolas,'Courier New',monospace\"><span style=\"font-weight: bold\"> Trainable params: </span><span style=\"color: #00af00; text-decoration-color: #00af00\">38,760</span> (151.41 KB)\n",
       "</pre>\n"
      ],
      "text/plain": [
       "\u001b[1m Trainable params: \u001b[0m\u001b[38;5;34m38,760\u001b[0m (151.41 KB)\n"
      ]
     },
     "metadata": {},
     "output_type": "display_data"
    },
    {
     "data": {
      "text/html": [
       "<pre style=\"white-space:pre;overflow-x:auto;line-height:normal;font-family:Menlo,'DejaVu Sans Mono',consolas,'Courier New',monospace\"><span style=\"font-weight: bold\"> Non-trainable params: </span><span style=\"color: #00af00; text-decoration-color: #00af00\">0</span> (0.00 B)\n",
       "</pre>\n"
      ],
      "text/plain": [
       "\u001b[1m Non-trainable params: \u001b[0m\u001b[38;5;34m0\u001b[0m (0.00 B)\n"
      ]
     },
     "metadata": {},
     "output_type": "display_data"
    }
   ],
   "source": [
    "# --- Crear modelo GRU ---\n",
    "print(\"🛠️  Definiendo arquitectura...\")\n",
    "\n",
    "inputs = tf.keras.Input(shape=X.shape[1:])\n",
    "x = tf.keras.layers.GRU(64, return_sequences=True)(inputs)\n",
    "x = tf.keras.layers.GRU(32)(x)\n",
    "outputs = tf.keras.layers.Dense(y.shape[1])(x)\n",
    "\n",
    "model = tf.keras.Model(inputs=inputs, outputs=outputs)\n",
    "\n",
    "model.compile(\n",
    "    optimizer=tf.keras.optimizers.Adam(learning_rate=1e-3),\n",
    "    loss=\"mse\",\n",
    "    metrics=[tf.keras.metrics.RootMeanSquaredError()]\n",
    ")\n",
    "\n",
    "model.summary()\n"
   ]
  },
  {
   "cell_type": "code",
   "execution_count": 13,
   "id": "c4ddb110-1bf0-422f-8a38-498609a292a6",
   "metadata": {},
   "outputs": [
    {
     "name": "stdout",
     "output_type": "stream",
     "text": [
      "📁 Checkpoint se guardará en: C:\\Users\\ferra\\Documents\\TFM\\models\\gru5d.keras\n",
      "🔍 NaNs en X: 0\n",
      "🔍 NaNs en y: 0\n",
      "🔍 Inf en X : 0\n",
      "🔍 Inf en y : 0\n",
      "🔍 Rango X  : -6.9616404 → 7.819829\n",
      "🔍 Rango y  : -0.15001197 → 1.2250828\n",
      "Epoch 1/50\n",
      "112/112 - 14s - 121ms/step - loss: 0.0045 - root_mean_squared_error: 0.0671 - val_loss: 8.7161e-04 - val_root_mean_squared_error: 0.0295\n",
      "Epoch 2/50\n",
      "112/112 - 8s - 76ms/step - loss: 5.0760e-04 - root_mean_squared_error: 0.0225 - val_loss: 3.4040e-04 - val_root_mean_squared_error: 0.0185\n",
      "Epoch 3/50\n",
      "112/112 - 8s - 73ms/step - loss: 2.9298e-04 - root_mean_squared_error: 0.0171 - val_loss: 2.0865e-04 - val_root_mean_squared_error: 0.0144\n",
      "Epoch 4/50\n",
      "112/112 - 9s - 76ms/step - loss: 2.2710e-04 - root_mean_squared_error: 0.0151 - val_loss: 1.6494e-04 - val_root_mean_squared_error: 0.0128\n",
      "Epoch 5/50\n",
      "112/112 - 9s - 82ms/step - loss: 1.9882e-04 - root_mean_squared_error: 0.0141 - val_loss: 1.3938e-04 - val_root_mean_squared_error: 0.0118\n",
      "Epoch 6/50\n",
      "112/112 - 10s - 85ms/step - loss: 1.8214e-04 - root_mean_squared_error: 0.0135 - val_loss: 1.2135e-04 - val_root_mean_squared_error: 0.0110\n",
      "Epoch 7/50\n",
      "112/112 - 9s - 81ms/step - loss: 1.7120e-04 - root_mean_squared_error: 0.0131 - val_loss: 1.1044e-04 - val_root_mean_squared_error: 0.0105\n",
      "Epoch 8/50\n",
      "112/112 - 8s - 68ms/step - loss: 1.6280e-04 - root_mean_squared_error: 0.0128 - val_loss: 1.0485e-04 - val_root_mean_squared_error: 0.0102\n",
      "Epoch 9/50\n",
      "112/112 - 8s - 69ms/step - loss: 1.5661e-04 - root_mean_squared_error: 0.0125 - val_loss: 1.0324e-04 - val_root_mean_squared_error: 0.0102\n",
      "Epoch 10/50\n",
      "112/112 - 7s - 61ms/step - loss: 1.5149e-04 - root_mean_squared_error: 0.0123 - val_loss: 1.0080e-04 - val_root_mean_squared_error: 0.0100\n",
      "Epoch 11/50\n",
      "112/112 - 10s - 89ms/step - loss: 1.4617e-04 - root_mean_squared_error: 0.0121 - val_loss: 1.0137e-04 - val_root_mean_squared_error: 0.0101\n",
      "Epoch 12/50\n",
      "112/112 - 9s - 85ms/step - loss: 1.4172e-04 - root_mean_squared_error: 0.0119 - val_loss: 1.0050e-04 - val_root_mean_squared_error: 0.0100\n",
      "Epoch 13/50\n",
      "112/112 - 9s - 80ms/step - loss: 1.3531e-04 - root_mean_squared_error: 0.0116 - val_loss: 1.0636e-04 - val_root_mean_squared_error: 0.0103\n",
      "Epoch 14/50\n",
      "112/112 - 8s - 72ms/step - loss: 1.3136e-04 - root_mean_squared_error: 0.0115 - val_loss: 9.9001e-05 - val_root_mean_squared_error: 0.0099\n",
      "Epoch 15/50\n",
      "112/112 - 8s - 72ms/step - loss: 1.2406e-04 - root_mean_squared_error: 0.0111 - val_loss: 1.0030e-04 - val_root_mean_squared_error: 0.0100\n",
      "Epoch 16/50\n",
      "112/112 - 10s - 92ms/step - loss: 1.1608e-04 - root_mean_squared_error: 0.0108 - val_loss: 1.1357e-04 - val_root_mean_squared_error: 0.0107\n",
      "Epoch 17/50\n",
      "112/112 - 10s - 89ms/step - loss: 1.0970e-04 - root_mean_squared_error: 0.0105 - val_loss: 1.0880e-04 - val_root_mean_squared_error: 0.0104\n",
      "Epoch 18/50\n",
      "112/112 - 10s - 87ms/step - loss: 1.0031e-04 - root_mean_squared_error: 0.0100 - val_loss: 1.1531e-04 - val_root_mean_squared_error: 0.0107\n",
      "Epoch 19/50\n",
      "112/112 - 9s - 78ms/step - loss: 9.9527e-05 - root_mean_squared_error: 0.0100 - val_loss: 1.1767e-04 - val_root_mean_squared_error: 0.0108\n",
      "🏁 Entrenamiento finalizado.\n"
     ]
    }
   ],
   "source": [
    "# --- Entrenamiento ---\n",
    "ckpt_path = pathlib.Path(cfg.MODELS) / \"gru5d.keras\"\n",
    "print(\"📁 Checkpoint se guardará en:\", ckpt_path)\n",
    "\n",
    "\n",
    "print(\"🔍 NaNs en X:\", np.isnan(X).sum())\n",
    "print(\"🔍 NaNs en y:\", np.isnan(y).sum())\n",
    "print(\"🔍 Inf en X :\", np.isinf(X).sum())\n",
    "print(\"🔍 Inf en y :\", np.isinf(y).sum())\n",
    "print(\"🔍 Rango X  :\", np.min(X), \"→\", np.max(X))\n",
    "print(\"🔍 Rango y  :\", np.min(y), \"→\", np.max(y))\n",
    "\n",
    "es_cb = tf.keras.callbacks.EarlyStopping(patience=5, restore_best_weights=True)\n",
    "\n",
    "history = model.fit(\n",
    "    X, y,\n",
    "    validation_split=0.2,\n",
    "    epochs=50,\n",
    "    batch_size=32,\n",
    "    callbacks=[es_cb],\n",
    "    verbose=2\n",
    ")\n",
    "\n",
    "\n",
    "print(\"🏁 Entrenamiento finalizado.\")"
   ]
  },
  {
   "cell_type": "code",
   "execution_count": 20,
   "id": "3a0b6fd2-88bf-454f-8f4b-e705f9fb0d54",
   "metadata": {},
   "outputs": [
    {
     "name": "stdout",
     "output_type": "stream",
     "text": [
      "📊 Evaluando en test...\n",
      "\u001b[1m52/52\u001b[0m \u001b[32m━━━━━━━━━━━━━━━━━━━━\u001b[0m\u001b[37m\u001b[0m \u001b[1m1s\u001b[0m 21ms/step\n",
      "✅ RMSE medio: 0.17298225\n",
      "✅ Modelo y resultados guardados correctamente.\n"
     ]
    }
   ],
   "source": [
    "print(\"📊 Evaluando en test...\")\n",
    "y_pred = model.predict(X_test)\n",
    "rmse = np.sqrt(((y_test - y_pred)**2).mean(axis=0))\n",
    "rmse_mean = rmse.mean()\n",
    "print(\"✅ RMSE medio:\", rmse_mean)\n",
    "\n",
    "# --- Guardado ---\n",
    "model.save(cfg.MODELS / \"gru5d.keras\")\n",
    "joblib.dump(history.history, cfg.RESULT / \"history_gru5d.pkl\")\n",
    "joblib.dump(rmse_mean, cfg.RESULT / \"rmse_gru5d.pkl\")\n",
    "\n",
    "print(\"✅ Modelo y resultados guardados correctamente.\")"
   ]
  },
  {
   "cell_type": "code",
   "execution_count": null,
   "id": "9008a283-dd23-4250-acf9-94317e9727b8",
   "metadata": {},
   "outputs": [],
   "source": []
  }
 ],
 "metadata": {
  "kernelspec": {
   "display_name": "TFM (tfmm)",
   "language": "python",
   "name": "tfmm"
  },
  "language_info": {
   "codemirror_mode": {
    "name": "ipython",
    "version": 3
   },
   "file_extension": ".py",
   "mimetype": "text/x-python",
   "name": "python",
   "nbconvert_exporter": "python",
   "pygments_lexer": "ipython3",
   "version": "3.11.0"
  }
 },
 "nbformat": 4,
 "nbformat_minor": 5
}
