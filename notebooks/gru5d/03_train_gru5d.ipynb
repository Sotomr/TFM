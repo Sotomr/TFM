{
 "cells": [
  {
   "cell_type": "code",
   "execution_count": 1,
   "id": "b2fdcf28-3c4c-4074-a36e-e1f1af77cd89",
   "metadata": {},
   "outputs": [
    {
     "name": "stdout",
     "output_type": "stream",
     "text": [
      "📦 Cargando datos desde: C:\\Users\\ferra\\Documents\\TFM\\data\\processed\\gru5d_data.pkl\n",
      "✅ X shape: (4450, 60, 80)\n",
      "✅ y shape: (4450, 40)\n",
      "🧾 Nº activos: 40\n"
     ]
    }
   ],
   "source": [
    "import tensorflow as tf\n",
    "import joblib, pathlib\n",
    "import numpy as np\n",
    "\n",
    "\n",
    "# Añadir src/ al path para poder importar config\n",
    "PROJECT_ROOT = pathlib.Path().resolve().parent.parent  \n",
    "if str(PROJECT_ROOT) not in sys.path:\n",
    "    sys.path.insert(0, str(PROJECT_ROOT))\n",
    "from src import config as cfg\n",
    "\n",
    "# --- Cargar dataset procesado ---\n",
    "ruta = cfg.DATA / \"processed\" / \"gru5d_data.pkl\"\n",
    "print(\"📦 Cargando datos desde:\", ruta)\n",
    "\n",
    "data = joblib.load(ruta)\n",
    "X, y = data[\"X\"], data[\"y\"]\n",
    "\n",
    "print(f\"✅ X shape: {X.shape}\")     # (n_muestras, 60, 2N)\n",
    "print(f\"✅ y shape: {y.shape}\")     # (n_muestras, N activos)\n",
    "print(f\"🧾 Nº activos: {y.shape[1]}\")"
   ]
  },
  {
   "cell_type": "code",
   "execution_count": 3,
   "id": "9a9a4250-97fe-447d-9d33-a8ffea625a5d",
   "metadata": {},
   "outputs": [
    {
     "name": "stdout",
     "output_type": "stream",
     "text": [
      "🛠️  Definiendo arquitectura...\n"
     ]
    },
    {
     "data": {
      "text/html": [
       "<pre style=\"white-space:pre;overflow-x:auto;line-height:normal;font-family:Menlo,'DejaVu Sans Mono',consolas,'Courier New',monospace\"><span style=\"font-weight: bold\">Model: \"functional\"</span>\n",
       "</pre>\n"
      ],
      "text/plain": [
       "\u001b[1mModel: \"functional\"\u001b[0m\n"
      ]
     },
     "metadata": {},
     "output_type": "display_data"
    },
    {
     "data": {
      "text/html": [
       "<pre style=\"white-space:pre;overflow-x:auto;line-height:normal;font-family:Menlo,'DejaVu Sans Mono',consolas,'Courier New',monospace\">┏━━━━━━━━━━━━━━━━━━━━━━━━━━━━━━━━━┳━━━━━━━━━━━━━━━━━━━━━━━━┳━━━━━━━━━━━━━━━┓\n",
       "┃<span style=\"font-weight: bold\"> Layer (type)                    </span>┃<span style=\"font-weight: bold\"> Output Shape           </span>┃<span style=\"font-weight: bold\">       Param # </span>┃\n",
       "┡━━━━━━━━━━━━━━━━━━━━━━━━━━━━━━━━━╇━━━━━━━━━━━━━━━━━━━━━━━━╇━━━━━━━━━━━━━━━┩\n",
       "│ input_layer (<span style=\"color: #0087ff; text-decoration-color: #0087ff\">InputLayer</span>)        │ (<span style=\"color: #00d7ff; text-decoration-color: #00d7ff\">None</span>, <span style=\"color: #00af00; text-decoration-color: #00af00\">60</span>, <span style=\"color: #00af00; text-decoration-color: #00af00\">80</span>)         │             <span style=\"color: #00af00; text-decoration-color: #00af00\">0</span> │\n",
       "├─────────────────────────────────┼────────────────────────┼───────────────┤\n",
       "│ gru (<span style=\"color: #0087ff; text-decoration-color: #0087ff\">GRU</span>)                       │ (<span style=\"color: #00d7ff; text-decoration-color: #00d7ff\">None</span>, <span style=\"color: #00af00; text-decoration-color: #00af00\">60</span>, <span style=\"color: #00af00; text-decoration-color: #00af00\">64</span>)         │        <span style=\"color: #00af00; text-decoration-color: #00af00\">28,032</span> │\n",
       "├─────────────────────────────────┼────────────────────────┼───────────────┤\n",
       "│ gru_1 (<span style=\"color: #0087ff; text-decoration-color: #0087ff\">GRU</span>)                     │ (<span style=\"color: #00d7ff; text-decoration-color: #00d7ff\">None</span>, <span style=\"color: #00af00; text-decoration-color: #00af00\">32</span>)             │         <span style=\"color: #00af00; text-decoration-color: #00af00\">9,408</span> │\n",
       "├─────────────────────────────────┼────────────────────────┼───────────────┤\n",
       "│ dense (<span style=\"color: #0087ff; text-decoration-color: #0087ff\">Dense</span>)                   │ (<span style=\"color: #00d7ff; text-decoration-color: #00d7ff\">None</span>, <span style=\"color: #00af00; text-decoration-color: #00af00\">40</span>)             │         <span style=\"color: #00af00; text-decoration-color: #00af00\">1,320</span> │\n",
       "└─────────────────────────────────┴────────────────────────┴───────────────┘\n",
       "</pre>\n"
      ],
      "text/plain": [
       "┏━━━━━━━━━━━━━━━━━━━━━━━━━━━━━━━━━┳━━━━━━━━━━━━━━━━━━━━━━━━┳━━━━━━━━━━━━━━━┓\n",
       "┃\u001b[1m \u001b[0m\u001b[1mLayer (type)                   \u001b[0m\u001b[1m \u001b[0m┃\u001b[1m \u001b[0m\u001b[1mOutput Shape          \u001b[0m\u001b[1m \u001b[0m┃\u001b[1m \u001b[0m\u001b[1m      Param #\u001b[0m\u001b[1m \u001b[0m┃\n",
       "┡━━━━━━━━━━━━━━━━━━━━━━━━━━━━━━━━━╇━━━━━━━━━━━━━━━━━━━━━━━━╇━━━━━━━━━━━━━━━┩\n",
       "│ input_layer (\u001b[38;5;33mInputLayer\u001b[0m)        │ (\u001b[38;5;45mNone\u001b[0m, \u001b[38;5;34m60\u001b[0m, \u001b[38;5;34m80\u001b[0m)         │             \u001b[38;5;34m0\u001b[0m │\n",
       "├─────────────────────────────────┼────────────────────────┼───────────────┤\n",
       "│ gru (\u001b[38;5;33mGRU\u001b[0m)                       │ (\u001b[38;5;45mNone\u001b[0m, \u001b[38;5;34m60\u001b[0m, \u001b[38;5;34m64\u001b[0m)         │        \u001b[38;5;34m28,032\u001b[0m │\n",
       "├─────────────────────────────────┼────────────────────────┼───────────────┤\n",
       "│ gru_1 (\u001b[38;5;33mGRU\u001b[0m)                     │ (\u001b[38;5;45mNone\u001b[0m, \u001b[38;5;34m32\u001b[0m)             │         \u001b[38;5;34m9,408\u001b[0m │\n",
       "├─────────────────────────────────┼────────────────────────┼───────────────┤\n",
       "│ dense (\u001b[38;5;33mDense\u001b[0m)                   │ (\u001b[38;5;45mNone\u001b[0m, \u001b[38;5;34m40\u001b[0m)             │         \u001b[38;5;34m1,320\u001b[0m │\n",
       "└─────────────────────────────────┴────────────────────────┴───────────────┘\n"
      ]
     },
     "metadata": {},
     "output_type": "display_data"
    },
    {
     "data": {
      "text/html": [
       "<pre style=\"white-space:pre;overflow-x:auto;line-height:normal;font-family:Menlo,'DejaVu Sans Mono',consolas,'Courier New',monospace\"><span style=\"font-weight: bold\"> Total params: </span><span style=\"color: #00af00; text-decoration-color: #00af00\">38,760</span> (151.41 KB)\n",
       "</pre>\n"
      ],
      "text/plain": [
       "\u001b[1m Total params: \u001b[0m\u001b[38;5;34m38,760\u001b[0m (151.41 KB)\n"
      ]
     },
     "metadata": {},
     "output_type": "display_data"
    },
    {
     "data": {
      "text/html": [
       "<pre style=\"white-space:pre;overflow-x:auto;line-height:normal;font-family:Menlo,'DejaVu Sans Mono',consolas,'Courier New',monospace\"><span style=\"font-weight: bold\"> Trainable params: </span><span style=\"color: #00af00; text-decoration-color: #00af00\">38,760</span> (151.41 KB)\n",
       "</pre>\n"
      ],
      "text/plain": [
       "\u001b[1m Trainable params: \u001b[0m\u001b[38;5;34m38,760\u001b[0m (151.41 KB)\n"
      ]
     },
     "metadata": {},
     "output_type": "display_data"
    },
    {
     "data": {
      "text/html": [
       "<pre style=\"white-space:pre;overflow-x:auto;line-height:normal;font-family:Menlo,'DejaVu Sans Mono',consolas,'Courier New',monospace\"><span style=\"font-weight: bold\"> Non-trainable params: </span><span style=\"color: #00af00; text-decoration-color: #00af00\">0</span> (0.00 B)\n",
       "</pre>\n"
      ],
      "text/plain": [
       "\u001b[1m Non-trainable params: \u001b[0m\u001b[38;5;34m0\u001b[0m (0.00 B)\n"
      ]
     },
     "metadata": {},
     "output_type": "display_data"
    }
   ],
   "source": [
    "# --- Crear modelo GRU ---\n",
    "print(\"🛠️  Definiendo arquitectura...\")\n",
    "\n",
    "inputs = tf.keras.Input(shape=X.shape[1:])\n",
    "x = tf.keras.layers.GRU(64, return_sequences=True)(inputs)\n",
    "x = tf.keras.layers.GRU(32)(x)\n",
    "outputs = tf.keras.layers.Dense(y.shape[1])(x)\n",
    "\n",
    "model = tf.keras.Model(inputs=inputs, outputs=outputs)\n",
    "\n",
    "model.compile(\n",
    "    optimizer=tf.keras.optimizers.Adam(learning_rate=1e-3),\n",
    "    loss=\"mse\",\n",
    "    metrics=[tf.keras.metrics.RootMeanSquaredError()]\n",
    ")\n",
    "\n",
    "model.summary()\n"
   ]
  },
  {
   "cell_type": "code",
   "execution_count": 5,
   "id": "c4ddb110-1bf0-422f-8a38-498609a292a6",
   "metadata": {},
   "outputs": [
    {
     "name": "stdout",
     "output_type": "stream",
     "text": [
      "📁 Checkpoint se guardará en: C:\\Users\\ferra\\Documents\\TFM\\models\\gru5d.keras\n",
      "🔍 NaNs en X: 0\n",
      "🔍 NaNs en y: 0\n",
      "🔍 Inf en X : 0\n",
      "🔍 Inf en y : 0\n",
      "🔍 Rango X  : -6.96164015604789 → 7.819829095741229\n",
      "🔍 Rango y  : -0.1500119647442526 → 1.225082801981301\n",
      "Epoch 1/50\n",
      "112/112 - 10s - 88ms/step - loss: 0.0041 - root_mean_squared_error: 0.0637 - val_loss: 7.7769e-04 - val_root_mean_squared_error: 0.0279\n",
      "Epoch 2/50\n",
      "112/112 - 7s - 65ms/step - loss: 4.7759e-04 - root_mean_squared_error: 0.0219 - val_loss: 3.0241e-04 - val_root_mean_squared_error: 0.0174\n",
      "Epoch 3/50\n",
      "112/112 - 7s - 63ms/step - loss: 2.8567e-04 - root_mean_squared_error: 0.0169 - val_loss: 1.9279e-04 - val_root_mean_squared_error: 0.0139\n",
      "Epoch 4/50\n",
      "112/112 - 7s - 64ms/step - loss: 2.2513e-04 - root_mean_squared_error: 0.0150 - val_loss: 1.5032e-04 - val_root_mean_squared_error: 0.0123\n",
      "Epoch 5/50\n",
      "112/112 - 7s - 61ms/step - loss: 1.9966e-04 - root_mean_squared_error: 0.0141 - val_loss: 1.2820e-04 - val_root_mean_squared_error: 0.0113\n",
      "Epoch 6/50\n",
      "112/112 - 8s - 68ms/step - loss: 1.8236e-04 - root_mean_squared_error: 0.0135 - val_loss: 1.1704e-04 - val_root_mean_squared_error: 0.0108\n",
      "Epoch 7/50\n",
      "112/112 - 7s - 60ms/step - loss: 1.7153e-04 - root_mean_squared_error: 0.0131 - val_loss: 1.0466e-04 - val_root_mean_squared_error: 0.0102\n",
      "Epoch 8/50\n",
      "112/112 - 8s - 70ms/step - loss: 1.6579e-04 - root_mean_squared_error: 0.0129 - val_loss: 1.0191e-04 - val_root_mean_squared_error: 0.0101\n",
      "Epoch 9/50\n",
      "112/112 - 7s - 64ms/step - loss: 1.5941e-04 - root_mean_squared_error: 0.0126 - val_loss: 1.0146e-04 - val_root_mean_squared_error: 0.0101\n",
      "Epoch 10/50\n",
      "112/112 - 8s - 71ms/step - loss: 1.5697e-04 - root_mean_squared_error: 0.0125 - val_loss: 1.0118e-04 - val_root_mean_squared_error: 0.0101\n",
      "Epoch 11/50\n",
      "112/112 - 7s - 64ms/step - loss: 1.5039e-04 - root_mean_squared_error: 0.0123 - val_loss: 9.7493e-05 - val_root_mean_squared_error: 0.0099\n",
      "Epoch 12/50\n",
      "112/112 - 7s - 66ms/step - loss: 1.4680e-04 - root_mean_squared_error: 0.0121 - val_loss: 9.5976e-05 - val_root_mean_squared_error: 0.0098\n",
      "Epoch 13/50\n",
      "112/112 - 7s - 65ms/step - loss: 1.4135e-04 - root_mean_squared_error: 0.0119 - val_loss: 1.0333e-04 - val_root_mean_squared_error: 0.0102\n",
      "Epoch 14/50\n",
      "112/112 - 8s - 70ms/step - loss: 1.3753e-04 - root_mean_squared_error: 0.0117 - val_loss: 1.0297e-04 - val_root_mean_squared_error: 0.0101\n",
      "Epoch 15/50\n",
      "112/112 - 8s - 68ms/step - loss: 1.3178e-04 - root_mean_squared_error: 0.0115 - val_loss: 1.0079e-04 - val_root_mean_squared_error: 0.0100\n",
      "Epoch 16/50\n",
      "112/112 - 7s - 64ms/step - loss: 1.2915e-04 - root_mean_squared_error: 0.0114 - val_loss: 1.2061e-04 - val_root_mean_squared_error: 0.0110\n",
      "Epoch 17/50\n",
      "112/112 - 8s - 67ms/step - loss: 1.2322e-04 - root_mean_squared_error: 0.0111 - val_loss: 1.0774e-04 - val_root_mean_squared_error: 0.0104\n",
      "🏁 Entrenamiento finalizado.\n"
     ]
    }
   ],
   "source": [
    "# --- Entrenamiento ---\n",
    "ckpt_path = pathlib.Path(cfg.MODELS) / \"gru5d.keras\"\n",
    "print(\"📁 Checkpoint se guardará en:\", ckpt_path)\n",
    "\n",
    "\n",
    "print(\"🔍 NaNs en X:\", np.isnan(X).sum())\n",
    "print(\"🔍 NaNs en y:\", np.isnan(y).sum())\n",
    "print(\"🔍 Inf en X :\", np.isinf(X).sum())\n",
    "print(\"🔍 Inf en y :\", np.isinf(y).sum())\n",
    "print(\"🔍 Rango X  :\", np.min(X), \"→\", np.max(X))\n",
    "print(\"🔍 Rango y  :\", np.min(y), \"→\", np.max(y))\n",
    "\n",
    "es_cb = tf.keras.callbacks.EarlyStopping(patience=5, restore_best_weights=True)\n",
    "\n",
    "history = model.fit(\n",
    "    X, y,\n",
    "    validation_split=0.2,\n",
    "    epochs=50,\n",
    "    batch_size=32,\n",
    "    callbacks=[es_cb],\n",
    "    verbose=2\n",
    ")\n",
    "\n",
    "\n",
    "print(\"🏁 Entrenamiento finalizado.\")"
   ]
  },
  {
   "cell_type": "code",
   "execution_count": null,
   "id": "3a0b6fd2-88bf-454f-8f4b-e705f9fb0d54",
   "metadata": {},
   "outputs": [],
   "source": []
  }
 ],
 "metadata": {
  "kernelspec": {
   "display_name": "TFM (tfmm)",
   "language": "python",
   "name": "tfmm"
  },
  "language_info": {
   "codemirror_mode": {
    "name": "ipython",
    "version": 3
   },
   "file_extension": ".py",
   "mimetype": "text/x-python",
   "name": "python",
   "nbconvert_exporter": "python",
   "pygments_lexer": "ipython3",
   "version": "3.11.0"
  }
 },
 "nbformat": 4,
 "nbformat_minor": 5
}
