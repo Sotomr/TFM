{
 "cells": [
  {
   "cell_type": "markdown",
   "metadata": {},
   "source": "## Entrenamiento Ridge"
  },
  {
   "cell_type": "code",
   "metadata": {},
   "execution_count": null,
   "outputs": [],
   "source": "import sys, pathlib\nimport pandas as pd\nimport joblib\nfrom sklearn.linear_model import Ridge\nfrom sklearn.metrics import mean_absolute_error\n\n# A\u00f1adir src/ al path para importar cfg\nPROJECT_ROOT = pathlib.Path().resolve().parents[1]\nif str(PROJECT_ROOT) not in sys.path:\n    sys.path.insert(0, str(PROJECT_ROOT))\n\nfrom src import config as cfg"
  },
  {
   "cell_type": "code",
   "metadata": {},
   "execution_count": null,
   "outputs": [],
   "source": "# Cargar dataset procesado de XGB\ndf = joblib.load(cfg.DATA / 'processed' / 'xgb_data.pkl')\nprint(f'\u2705 Datos cargados: {len(df):,} muestras')\n\n# Separar train/test por fecha\nsplit_date = df['date'].quantile(0.8)\ndf_train = df[df['date'] <= split_date].copy()\ndf_test  = df[df['date'] > split_date].copy()\nprint(f'\ud83d\udcca Train: {len(df_train):,} | Test: {len(df_test):,}')"
  },
  {
   "cell_type": "code",
   "metadata": {},
   "execution_count": null,
   "outputs": [],
   "source": "features = ['ret_1d','ret_5d','vol_5d','momentum']\nmodels = {}\nmae_scores = {}\nfor ticker in df['ticker'].unique():\n    tr = df_train[df_train['ticker'] == ticker]\n    te = df_test[df_test['ticker'] == ticker]\n    X_tr, y_tr = tr[features], tr['target_5d']\n    X_te, y_te = te[features], te['target_5d']\n    model = Ridge(alpha=1.0)\n    model.fit(X_tr, y_tr)\n    pred = model.predict(X_te)\n    mae = mean_absolute_error(y_te, pred)\n    models[ticker] = model\n    mae_scores[ticker] = mae\n    print(f'\u2705 {ticker:5} | MAE: {mae:.5f} | Train: {len(X_tr):4} | Test: {len(X_te):4}')"
  },
  {
   "cell_type": "code",
   "metadata": {},
   "execution_count": null,
   "outputs": [],
   "source": "joblib.dump(models, cfg.MODELS / 'ridge.pkl')\nprint('\ud83d\udcbe Modelos guardados en models/ridge.pkl')"
  }
 ],
 "metadata": {
  "kernelspec": {
   "display_name": "Python 3",
   "language": "python",
   "name": "python3"
  },
  "language_info": {
   "name": "python",
   "pygments_lexer": "ipython3"
  }
 },
 "nbformat": 4,
 "nbformat_minor": 5
}
