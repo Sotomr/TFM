{
 "cells": [
  {
   "cell_type": "markdown",
   "metadata": {},
   "source": [
    "## Entrenamiento Ridge"
   ]
  },
  {
   "cell_type": "code",
   "execution_count": 1,
   "metadata": {},
   "outputs": [],
   "source": [
    "import sys, pathlib\n",
    "import pandas as pd\n",
    "import numpy as np\n",
    "import joblib\n",
    "from sklearn.linear_model import Ridge\n",
    "from sklearn.metrics import mean_absolute_error\n",
    "\n",
    "# Añadir src/ al path para importar cfg\n",
    "PROJECT_ROOT = pathlib.Path().resolve().parents[1]\n",
    "if str(PROJECT_ROOT) not in sys.path:\n",
    "    sys.path.insert(0, str(PROJECT_ROOT))\n",
    "\n",
    "from src import config as cfg"
   ]
  },
  {
   "cell_type": "code",
   "execution_count": 2,
   "metadata": {},
   "outputs": [
    {
     "name": "stdout",
     "output_type": "stream",
     "text": [
      "✅ Datos cargados: 180,400 muestras\n",
      "📊 NaN por columna antes de limpiar:\n",
      "Series([], dtype: int64)\n",
      "🧹 Datos después de limpiar NaN: 180,400 muestras\n",
      "📉 Datos descartados: 0 (0.0%)\n",
      "📊 Train: 144,320 | Test: 36,080\n"
     ]
    }
   ],
   "source": [
    "# Cargar dataset procesado de XGB\n",
    "df = joblib.load(cfg.DATA / 'processed' / 'xgb_data.pkl')\n",
    "print(f'✅ Datos cargados: {len(df):,} muestras')\n",
    "\n",
    "# ✅ LIMPIEZA INICIAL DE NaN\n",
    "print(f'📊 NaN por columna antes de limpiar:')\n",
    "print(df.isnull().sum()[df.isnull().sum() > 0])\n",
    "\n",
    "# Eliminar filas con NaN en features o target\n",
    "features_all = ['ret_1d','ret_5d','vol_5d','momentum', 'target_5d']\n",
    "df_clean = df[features_all + ['ticker', 'date']].dropna()\n",
    "print(f'🧹 Datos después de limpiar NaN: {len(df_clean):,} muestras')\n",
    "print(f'📉 Datos descartados: {len(df) - len(df_clean):,} ({(len(df) - len(df_clean))/len(df)*100:.1f}%)')\n",
    "\n",
    "# Separar train/test por fecha\n",
    "split_date = df_clean['date'].quantile(0.8)\n",
    "df_train = df_clean[df_clean['date'] <= split_date].copy()\n",
    "df_test  = df_clean[df_clean['date'] > split_date].copy()\n",
    "print(f'📊 Train: {len(df_train):,} | Test: {len(df_test):,}')"
   ]
  },
  {
   "cell_type": "code",
   "execution_count": 3,
   "metadata": {},
   "outputs": [
    {
     "name": "stdout",
     "output_type": "stream",
     "text": [
      "✅ AAPL  | MAE: 0.02234 | Train: 3608 | Test:  902\n",
      "✅ ABT   | MAE: 0.01778 | Train: 3608 | Test:  902\n",
      "✅ ADBE  | MAE: 0.02949 | Train: 3608 | Test:  902\n",
      "✅ AMZN  | MAE: 0.02568 | Train: 3608 | Test:  902\n",
      "✅ BAC   | MAE: 0.02448 | Train: 3608 | Test:  902\n",
      "✅ BTC-USD | MAE: 0.04288 | Train: 3608 | Test:  902\n",
      "✅ COST  | MAE: 0.01776 | Train: 3608 | Test:  902\n",
      "✅ CRM   | MAE: 0.02844 | Train: 3608 | Test:  902\n",
      "✅ CSCO  | MAE: 0.01796 | Train: 3608 | Test:  902\n",
      "✅ CVX   | MAE: 0.01982 | Train: 3608 | Test:  902\n",
      "✅ DIS   | MAE: 0.02366 | Train: 3608 | Test:  902\n",
      "✅ ETH-USD | MAE: 0.05176 | Train: 3608 | Test:  902\n",
      "✅ GOOGL | MAE: 0.02713 | Train: 3608 | Test:  902\n",
      "✅ HD    | MAE: 0.01952 | Train: 3608 | Test:  902\n",
      "✅ IBM   | MAE: 0.01980 | Train: 3608 | Test:  902\n",
      "✅ INTC  | MAE: 0.04303 | Train: 3608 | Test:  902\n",
      "✅ JNJ   | MAE: 0.01509 | Train: 3608 | Test:  902\n",
      "✅ JPM   | MAE: 0.02061 | Train: 3608 | Test:  902\n",
      "✅ KO    | MAE: 0.01292 | Train: 3608 | Test:  902\n",
      "✅ LIN   | MAE: 0.01431 | Train: 3608 | Test:  902\n",
      "✅ MA    | MAE: 0.01594 | Train: 3608 | Test:  902\n",
      "✅ MCD   | MAE: 0.01533 | Train: 3608 | Test:  902\n",
      "✅ META  | MAE: 0.03211 | Train: 3608 | Test:  902\n",
      "✅ MRK   | MAE: 0.01937 | Train: 3608 | Test:  902\n",
      "✅ MSFT  | MAE: 0.02031 | Train: 3608 | Test:  902\n",
      "✅ NFLX  | MAE: 0.02923 | Train: 3608 | Test:  902\n",
      "✅ NKE   | MAE: 0.02694 | Train: 3608 | Test:  902\n",
      "✅ NVDA  | MAE: 0.04436 | Train: 3608 | Test:  902\n",
      "✅ ORCL  | MAE: 0.02969 | Train: 3608 | Test:  902\n",
      "✅ PEP   | MAE: 0.01462 | Train: 3608 | Test:  902\n",
      "✅ PFE   | MAE: 0.02081 | Train: 3608 | Test:  902\n",
      "✅ PG    | MAE: 0.01399 | Train: 3608 | Test:  902\n",
      "✅ T     | MAE: 0.01927 | Train: 3608 | Test:  902\n",
      "✅ TSLA  | MAE: 0.05441 | Train: 3608 | Test:  902\n",
      "✅ UNH   | MAE: 0.02518 | Train: 3608 | Test:  902\n",
      "✅ V     | MAE: 0.01589 | Train: 3608 | Test:  902\n",
      "✅ VZ    | MAE: 0.01945 | Train: 3608 | Test:  902\n",
      "✅ WFC   | MAE: 0.02638 | Train: 3608 | Test:  902\n",
      "✅ WMT   | MAE: 0.01625 | Train: 3608 | Test:  902\n",
      "✅ XOM   | MAE: 0.02106 | Train: 3608 | Test:  902\n",
      "\n",
      "📊 Resumen:\n",
      "✅ Modelos entrenados: 40\n",
      "🧹 Total muestras descartadas por NaN: 0\n",
      "📈 MAE promedio: 0.02438\n"
     ]
    }
   ],
   "source": [
    "features = ['ret_1d','ret_5d','vol_5d','momentum']\n",
    "models = {}\n",
    "mae_scores = {}\n",
    "total_discarded = 0\n",
    "\n",
    "for ticker in df_clean['ticker'].unique():\n",
    "    tr = df_train[df_train['ticker'] == ticker].copy()\n",
    "    te = df_test[df_test['ticker'] == ticker].copy()\n",
    "    \n",
    "    if len(tr) == 0 or len(te) == 0:\n",
    "        print(f'⚠️ {ticker:5} | Sin datos suficientes')\n",
    "        continue\n",
    "    \n",
    "    # ✅ VERIFICACIÓN ADICIONAL DE NaN POR TICKER\n",
    "    X_tr, y_tr = tr[features], tr['target_5d']\n",
    "    X_te, y_te = te[features], te['target_5d']\n",
    "    \n",
    "    # Verificar NaN antes del entrenamiento\n",
    "    nan_count = X_tr.isnull().sum().sum() + y_tr.isnull().sum()\n",
    "    if nan_count > 0:\n",
    "        print(f'⚠️ {ticker:5} | {nan_count} NaN detectados, limpiando...')\n",
    "        # Eliminar filas con NaN\n",
    "        mask = ~(X_tr.isnull().any(axis=1) | y_tr.isnull())\n",
    "        X_tr, y_tr = X_tr[mask], y_tr[mask]\n",
    "        total_discarded += (~mask).sum()\n",
    "    \n",
    "    # Verificar que tenemos datos después de limpiar\n",
    "    if len(X_tr) < 10:\n",
    "        print(f'❌ {ticker:5} | Datos insuficientes después de limpiar')\n",
    "        continue\n",
    "        \n",
    "    # ✅ VERIFICACIÓN FINAL\n",
    "    assert not X_tr.isnull().any().any(), f\"Still NaN in X_tr for {ticker}\"\n",
    "    assert not y_tr.isnull().any(), f\"Still NaN in y_tr for {ticker}\"\n",
    "    \n",
    "    # Entrenar modelo\n",
    "    model = Ridge(alpha=1.0)\n",
    "    model.fit(X_tr, y_tr)\n",
    "    \n",
    "    # Evaluar si hay datos de test\n",
    "    if len(X_te) > 0:\n",
    "        # Limpiar datos test también\n",
    "        test_mask = ~(X_te.isnull().any(axis=1) | y_te.isnull())\n",
    "        X_te_clean, y_te_clean = X_te[test_mask], y_te[test_mask]\n",
    "        \n",
    "        if len(X_te_clean) > 0:\n",
    "            pred = model.predict(X_te_clean)\n",
    "            mae = mean_absolute_error(y_te_clean, pred)\n",
    "        else:\n",
    "            mae = np.nan\n",
    "    else:\n",
    "        mae = np.nan\n",
    "    \n",
    "    models[ticker] = model\n",
    "    mae_scores[ticker] = mae\n",
    "    print(f'✅ {ticker:5} | MAE: {mae:.5f} | Train: {len(X_tr):4} | Test: {len(X_te):4}')\n",
    "\n",
    "print(f'\\n📊 Resumen:')\n",
    "print(f'✅ Modelos entrenados: {len(models)}')\n",
    "print(f'🧹 Total muestras descartadas por NaN: {total_discarded}')\n",
    "print(f'📈 MAE promedio: {np.nanmean(list(mae_scores.values())):.5f}')"
   ]
  },
  {
   "cell_type": "code",
   "execution_count": 4,
   "metadata": {},
   "outputs": [
    {
     "name": "stdout",
     "output_type": "stream",
     "text": [
      "🔍 Verificación final de modelos:\n",
      "✅ AAPL: Predicción OK = 0.00045\n",
      "✅ ABT: Predicción OK = -0.00087\n",
      "✅ ADBE: Predicción OK = 0.00043\n",
      "✅ AMZN: Predicción OK = 0.00276\n",
      "✅ BAC: Predicción OK = 0.00049\n",
      "\n",
      "💾 40 modelos guardados en models/ridge.pkl\n"
     ]
    },
    {
     "name": "stderr",
     "output_type": "stream",
     "text": [
      "C:\\Users\\1M72763\\AppData\\Local\\Packages\\PythonSoftwareFoundation.Python.3.11_qbz5n2kfra8p0\\LocalCache\\local-packages\\Python311\\site-packages\\sklearn\\utils\\validation.py:2739: UserWarning: X does not have valid feature names, but Ridge was fitted with feature names\n",
      "  warnings.warn(\n",
      "C:\\Users\\1M72763\\AppData\\Local\\Packages\\PythonSoftwareFoundation.Python.3.11_qbz5n2kfra8p0\\LocalCache\\local-packages\\Python311\\site-packages\\sklearn\\utils\\validation.py:2739: UserWarning: X does not have valid feature names, but Ridge was fitted with feature names\n",
      "  warnings.warn(\n",
      "C:\\Users\\1M72763\\AppData\\Local\\Packages\\PythonSoftwareFoundation.Python.3.11_qbz5n2kfra8p0\\LocalCache\\local-packages\\Python311\\site-packages\\sklearn\\utils\\validation.py:2739: UserWarning: X does not have valid feature names, but Ridge was fitted with feature names\n",
      "  warnings.warn(\n",
      "C:\\Users\\1M72763\\AppData\\Local\\Packages\\PythonSoftwareFoundation.Python.3.11_qbz5n2kfra8p0\\LocalCache\\local-packages\\Python311\\site-packages\\sklearn\\utils\\validation.py:2739: UserWarning: X does not have valid feature names, but Ridge was fitted with feature names\n",
      "  warnings.warn(\n",
      "C:\\Users\\1M72763\\AppData\\Local\\Packages\\PythonSoftwareFoundation.Python.3.11_qbz5n2kfra8p0\\LocalCache\\local-packages\\Python311\\site-packages\\sklearn\\utils\\validation.py:2739: UserWarning: X does not have valid feature names, but Ridge was fitted with feature names\n",
      "  warnings.warn(\n"
     ]
    }
   ],
   "source": [
    "# ✅ VERIFICACIÓN FINAL ANTES DE GUARDAR\n",
    "print('🔍 Verificación final de modelos:')\n",
    "for ticker, model in list(models.items())[:5]:  # Solo primeros 5 para verificar\n",
    "    # Crear datos de prueba sin NaN\n",
    "    test_data = np.array([[0.01, 0.05, 0.02, 0.5]])  # Datos de ejemplo\n",
    "    try:\n",
    "        pred = model.predict(test_data)\n",
    "        print(f'✅ {ticker}: Predicción OK = {pred[0]:.5f}')\n",
    "    except Exception as e:\n",
    "        print(f'❌ {ticker}: Error = {e}')\n",
    "        del models[ticker]  # Eliminar modelo problemático\n",
    "\n",
    "joblib.dump(models, cfg.MODELS / 'ridge.pkl')\n",
    "print(f'\\n💾 {len(models)} modelos guardados en models/ridge.pkl')"
   ]
  }
 ],
 "metadata": {
  "kernelspec": {
   "display_name": "Python 3",
   "language": "python",
   "name": "python3"
  },
  "language_info": {
   "codemirror_mode": {
    "name": "ipython",
    "version": 3
   },
   "file_extension": ".py",
   "mimetype": "text/x-python",
   "name": "python",
   "nbconvert_exporter": "python",
   "pygments_lexer": "ipython3",
   "version": "3.11.9"
  }
 },
 "nbformat": 4,
 "nbformat_minor": 5
}
