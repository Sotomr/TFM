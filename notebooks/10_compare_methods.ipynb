{
 "cells": [
  {
   "cell_type": "markdown",
   "metadata": {},
   "source": ["# Comparativa de métodos\n", "\n", "Cálculo de métricas y evolución del capital para distintas estrategias.\n"]
  },
  {
   "cell_type": "code",
   "metadata": {},
   "execution_count": null,
   "source": [
    "import pandas as pd\n",
    "import numpy as np\n",
    "import joblib\n",
    "import yfinance as yf\n",
    "import matplotlib.pyplot as plt\n",
    "from src import config as cfg\n"
   ]
  },
  {
   "cell_type": "code",
   "metadata": {},
   "execution_count": null,
   "source": [
    "# ─── Cargar series de retornos ───────────────────────────────────────\n",
    "paths = {\n",
    "    'Markowitz': cfg.RESULT / 'backtest_markowitz.pkl',\n",
    "    'Ridge': cfg.RESULT / 'backtest_ridge.pkl',\n",
    "    'LSTM-5d+VIX': cfg.RESULT / 'backtest_lstm5d.pkl',\n",
    "}\n",
    "\n",
    "def load_returns(path):\n",
    "    res = joblib.load(path)\n",
    "    if isinstance(res, pd.DataFrame) and 'ret_neto' in res.columns:\n",
    "        serie = res.set_index('fecha')['ret_neto']\n",
    "    elif isinstance(res, dict) and 'retorno' in res:\n",
    "        serie = res['retorno']\n",
    "    else:\n",
    "        raise ValueError('Formato desconocido')\n",
    "    return serie\n",
    "\n",
    "series = {name: load_returns(fp) for name, fp in paths.items()}\n",
    "\n",
    "# ─── SPY como benchmark ──────────────────────────────────────────────\n",
    "start = min(s.index.min() for s in series.values())\n",
    "spy = yf.download('SPY', start=start, progress=False)['Adj Close']\n",
    "ret_spy = np.log(spy / spy.shift(1)).dropna()\n",
    "\n",
    "calendar = ret_spy.index\n",
    "for k in series:\n",
    "    series[k] = series[k].reindex(calendar).fillna(0)\n",
    "series['SPY'] = ret_spy\n",
    "df_all = pd.DataFrame(series)\n"
   ]
  },
  {
   "cell_type": "code",
   "metadata": {},
   "execution_count": null,
   "source": [
    "# ─── Gráfico de retornos acumulados ──────────────────────────────────\n",
    "wealth = (1 + df_all).cumprod()\n",
    "ax = wealth.plot(figsize=(10,4))\n",
    "ax.set_title('Evolución del capital')\n",
    "ax.set_ylabel('Multiplicador')\n",
    "ax.grid(True)\n",
    "plt.show()\n"
   ]
  },
  {
   "cell_type": "code",
   "metadata": {},
   "execution_count": null,
   "source": [
    "# ─── Métricas de rentabilidad ───────────────────────────────────────\n",
    "def stats(r):\n",
    "    ann = np.sqrt(252)\n",
    "    wealth = (1 + r).cumprod()\n",
    "    total = wealth.iloc[-1] - 1\n",
    "    vol   = r.std(ddof=1) * ann\n",
    "    sharpe= r.mean() / r.std(ddof=1) * ann\n",
    "    maxdd = (wealth.cummax() - wealth).max()\n",
    "    return pd.Series([total, vol, sharpe, maxdd],\n",
    "                     index=['Total return','Volatility','Sharpe','MaxDD'])\n",
    "\n",
    "metrics = df_all.apply(stats).T.round(3)\n",
    "display(metrics)\n"
   ]
  },
  {
   "cell_type": "code",
   "metadata": {},
   "execution_count": null,
   "source": [
    "# ─── Matriz de correlaciones ─────────────────────────────────────────\n",
    "corr = df_all.drop(columns='SPY').corr().round(2)\n",
    "display(corr)\n"
   ]
  },
  {
   "cell_type": "code",
   "metadata": {},
   "execution_count": null,
   "source": [
    "# ─── Diagrama de flujo ───────────────────────────────────────────────\n",
    "from graphviz import Digraph\n",
    "g = Digraph()\n",
    "g.edge('Datos', 'Modelo')\n",
    "g.edge('Modelo', 'Optimizador')\n",
    "display(g)\n"
   ]
  }
 ],
 "metadata": {
  "kernelspec": {
   "display_name": "TFM (tfmm)",
   "language": "python",
   "name": "tfmm"
  },
  "language_info": {
   "codemirror_mode": {
    "name": "ipython",
    "version": 3
   },
   "file_extension": ".py",
   "mimetype": "text/x-python",
   "name": "python",
   "nbconvert_exporter": "python",
   "pygments_lexer": "ipython3",
   "version": "3.11.0"
  }
 },
 "nbformat": 4,
 "nbformat_minor": 5
}
