{
 "cells": [
  {
   "cell_type": "markdown",
   "id": "32d10565-6b54-47c8-83dc-319fe997c478",
   "metadata": {},
   "source": [
    "# LSTM5d - NSGA II\n",
    "## (Modelo 2)"
   ]
  },
  {
   "cell_type": "code",
   "execution_count": 6,
   "id": "13ee91c4-0bdb-410f-8ada-5140a7dd7128",
   "metadata": {},
   "outputs": [
    {
     "name": "stdout",
     "output_type": "stream",
     "text": [
      "\n",
      "── Métricas 2019-hoy  (calendario diario coherente) ──\n",
      "\n"
     ]
    },
    {
     "data": {
      "text/html": [
       "<div>\n",
       "<style scoped>\n",
       "    .dataframe tbody tr th:only-of-type {\n",
       "        vertical-align: middle;\n",
       "    }\n",
       "\n",
       "    .dataframe tbody tr th {\n",
       "        vertical-align: top;\n",
       "    }\n",
       "\n",
       "    .dataframe thead th {\n",
       "        text-align: right;\n",
       "    }\n",
       "</style>\n",
       "<table border=\"1\" class=\"dataframe\">\n",
       "  <thead>\n",
       "    <tr style=\"text-align: right;\">\n",
       "      <th></th>\n",
       "      <th>Rentabilidad (%)</th>\n",
       "      <th>Volatilidad (%)</th>\n",
       "      <th>Sharpe</th>\n",
       "      <th>MaxDD (%)</th>\n",
       "      <th>Asimetría</th>\n",
       "      <th>Curtosis</th>\n",
       "    </tr>\n",
       "  </thead>\n",
       "  <tbody>\n",
       "    <tr>\n",
       "      <th>LSTM-5d</th>\n",
       "      <td>250.49</td>\n",
       "      <td>16.35</td>\n",
       "      <td>1.26</td>\n",
       "      <td>30.68</td>\n",
       "      <td>15.86</td>\n",
       "      <td>417.18</td>\n",
       "    </tr>\n",
       "    <tr>\n",
       "      <th>SPY</th>\n",
       "      <td>137.39</td>\n",
       "      <td>20.37</td>\n",
       "      <td>0.76</td>\n",
       "      <td>48.90</td>\n",
       "      <td>-0.57</td>\n",
       "      <td>13.57</td>\n",
       "    </tr>\n",
       "    <tr>\n",
       "      <th>BIL</th>\n",
       "      <td>16.91</td>\n",
       "      <td>0.25</td>\n",
       "      <td>9.54</td>\n",
       "      <td>0.21</td>\n",
       "      <td>0.85</td>\n",
       "      <td>1.27</td>\n",
       "    </tr>\n",
       "  </tbody>\n",
       "</table>\n",
       "</div>"
      ],
      "text/plain": [
       "         Rentabilidad (%)  Volatilidad (%)  Sharpe  MaxDD (%)  Asimetría  \\\n",
       "LSTM-5d            250.49            16.35    1.26      30.68      15.86   \n",
       "SPY                137.39            20.37    0.76      48.90      -0.57   \n",
       "BIL                 16.91             0.25    9.54       0.21       0.85   \n",
       "\n",
       "         Curtosis  \n",
       "LSTM-5d    417.18  \n",
       "SPY         13.57  \n",
       "BIL          1.27  "
      ]
     },
     "metadata": {},
     "output_type": "display_data"
    }
   ],
   "source": [
    "# ────────────────────────────────────────────────────────────────────────────────\n",
    "# 0. LIBRERÍAS BÁSICAS Y RUTAS\n",
    "# ────────────────────────────────────────────────────────────────────────────────\n",
    "import pandas as pd, numpy as np, joblib, yfinance as yf, pathlib, sys, warnings\n",
    "from scipy.stats import skew, kurtosis\n",
    "warnings.simplefilter(\"ignore\", FutureWarning)\n",
    "\n",
    "ROOT = pathlib.Path().resolve().parent.parent        #  …/notebooks → raíz del repo\n",
    "if str(ROOT) not in sys.path:\n",
    "    sys.path.insert(0, str(ROOT))\n",
    "\n",
    "from src import config as cfg                        # cfg.DATA, cfg.RESULT …\n",
    "\n",
    "# ────────────────────────────────────────────────────────────────────────────────\n",
    "# 1. CALENDARIO DIARIO MAESTRO  (S&P 500 como referencia de días hábiles)\n",
    "# ────────────────────────────────────────────────────────────────────────────────\n",
    "START = \"2019-01-02\"\n",
    "END   = pd.Timestamp.today().normalize()\n",
    "\n",
    "gspc     = yf.download(\"^GSPC\", start=START, end=END,\n",
    "                       progress=False, auto_adjust=False)\n",
    "price_gs = gspc[\"Adj Close\"] if \"Adj Close\" in gspc.columns else gspc[\"Close\"]\n",
    "calendar = price_gs.dropna().index                  # índice de fechas diario\n",
    "\n",
    "# ────────────────────────────────────────────────────────────────────────────────\n",
    "# 2. RETORNOS DEL MODELO LSTM-5d  (rellenamos huecos con 0 %)\n",
    "# ────────────────────────────────────────────────────────────────────────────────\n",
    "bt_path  = cfg.RESULT / \"backtest_lstm5d.pkl\"\n",
    "bt       = joblib.load(bt_path)                     # dict con clave \"retorno\"\n",
    "ret_sys  = bt[\"retorno\"].reindex(calendar).fillna(0.0)   # % diario\n",
    "\n",
    "# ────────────────────────────────────────────────────────────────────────────────\n",
    "# 3. RETORNOS DE BENCHMARKS SPY / BIL  (mismo calendario)\n",
    "# ────────────────────────────────────────────────────────────────────────────────\n",
    "tickers   = [\"SPY\", \"BIL\"]\n",
    "raw_bench = yf.download(tickers, start=START, end=END,\n",
    "                        progress=False, auto_adjust=False)\n",
    "prices_b  = (raw_bench[\"Adj Close\"]\n",
    "             if \"Adj Close\" in raw_bench.columns.get_level_values(0)\n",
    "             else raw_bench[\"Close\"]).ffill()\n",
    "\n",
    "ret_bench = np.log(prices_b / prices_b.shift(1)).reindex(calendar).dropna()\n",
    "ret_spy   = ret_bench[\"SPY\"]\n",
    "ret_cash  = ret_bench[\"BIL\"]\n",
    "\n",
    "# ────────────────────────────────────────────────────────────────────────────────\n",
    "# 4. FUNCIÓN DE MÉTRICAS COHERENTE\n",
    "# ────────────────────────────────────────────────────────────────────────────────\n",
    "def stats(r):\n",
    "    ann = np.sqrt(252)\n",
    "    w   = (1 + r).cumprod()\n",
    "    return {\n",
    "        \"Rentabilidad (%)\" : (w.iloc[-1] - 1) * 100,\n",
    "        \"Volatilidad (%)\"  : r.std(ddof=1) * ann * 100,\n",
    "        \"Sharpe\"           : r.mean() / r.std(ddof=1) * ann,\n",
    "        \"MaxDD (%)\"        : (w.cummax() - w).max() * 100,\n",
    "        \"Asimetría\"        : skew(r),\n",
    "        \"Curtosis\"         : kurtosis(r)\n",
    "    }\n",
    "\n",
    "# ────────────────────────────────────────────────────────────────────────────────\n",
    "# 5. TABLA FINAL\n",
    "# ────────────────────────────────────────────────────────────────────────────────\n",
    "tabla = pd.DataFrame({\n",
    "            \"LSTM-5d\": stats(ret_sys),\n",
    "            \"SPY\"    : stats(ret_spy),\n",
    "            \"BIL\"    : stats(ret_cash)\n",
    "        }).T.round(2)\n",
    "\n",
    "print(\"\\n── Métricas 2019-hoy  (calendario diario coherente) ──\\n\")\n",
    "display(tabla)\n"
   ]
  },
  {
   "cell_type": "code",
   "execution_count": 8,
   "id": "aa8b9dd7-970b-4c4f-bc20-395168833cf4",
   "metadata": {},
   "outputs": [
    {
     "ename": "NameError",
     "evalue": "name 'plt' is not defined",
     "output_type": "error",
     "traceback": [
      "\u001b[31m---------------------------------------------------------------------------\u001b[39m",
      "\u001b[31mNameError\u001b[39m                                 Traceback (most recent call last)",
      "\u001b[36mCell\u001b[39m\u001b[36m \u001b[39m\u001b[32mIn[8]\u001b[39m\u001b[32m, line 2\u001b[39m\n\u001b[32m      1\u001b[39m \u001b[38;5;66;03m# --- Gráfico PRINCIPAL: comparación sin DCA ---\u001b[39;00m\n\u001b[32m----> \u001b[39m\u001b[32m2\u001b[39m plt.figure(figsize=(\u001b[32m12\u001b[39m,\u001b[32m6\u001b[39m))\n\u001b[32m      3\u001b[39m wealth_lstm_ini.plot(label=\u001b[33m'\u001b[39m\u001b[33mLSTM + NSGA-II sin DCA\u001b[39m\u001b[33m'\u001b[39m)\n\u001b[32m      4\u001b[39m wealth_spy_ini.plot(label=\u001b[33m'\u001b[39m\u001b[33mSPY (S&P 500) sin DCA\u001b[39m\u001b[33m'\u001b[39m)\n",
      "\u001b[31mNameError\u001b[39m: name 'plt' is not defined"
     ]
    }
   ],
   "source": [
    "\n",
    "# --- Gráfico PRINCIPAL: comparación sin DCA ---\n",
    "plt.figure(figsize=(12,6))\n",
    "wealth_lstm_ini.plot(label='LSTM + NSGA-II sin DCA')\n",
    "wealth_spy_ini.plot(label='SPY (S&P 500) sin DCA')\n",
    "wealth_cash_ini.plot(label='BIL (Cash) sin DCA')\n",
    "plt.title('Evolución de la cartera SIN aportaciones mensuales (DCA)')\n",
    "plt.ylabel('€')\n",
    "plt.grid(True)\n",
    "plt.legend()\n",
    "plt.tight_layout()\n",
    "plt.show()\n",
    "\n",
    "# --- Segundo gráfico: comparación con DCA ---\n",
    "plt.figure(figsize=(12,6))\n",
    "wealth_lstm_dca.plot(label='LSTM + NSGA-II con DCA')\n",
    "wealth_spy_dca.plot(label='SPY (S&P 500) con DCA')\n",
    "wealth_cash_dca.plot(label='BIL (Cash) con DCA')\n",
    "plt.title('Evolución de la cartera CON aportaciones mensuales (DCA)')\n",
    "plt.ylabel('€')\n",
    "plt.grid(True)\n",
    "plt.legend()\n",
    "plt.tight_layout()\n",
    "plt.show()"
   ]
  },
  {
   "cell_type": "code",
   "execution_count": 10,
   "id": "bc3ea41c-f100-46bb-b883-38b997f4583f",
   "metadata": {},
   "outputs": [
    {
     "ename": "NameError",
     "evalue": "name 'plt' is not defined",
     "output_type": "error",
     "traceback": [
      "\u001b[31m---------------------------------------------------------------------------\u001b[39m",
      "\u001b[31mNameError\u001b[39m                                 Traceback (most recent call last)",
      "\u001b[36mCell\u001b[39m\u001b[36m \u001b[39m\u001b[32mIn[10]\u001b[39m\u001b[32m, line 2\u001b[39m\n\u001b[32m      1\u001b[39m \u001b[38;5;66;03m# 8. HISTOGRAMA DE RETORNOS\u001b[39;00m\n\u001b[32m----> \u001b[39m\u001b[32m2\u001b[39m plt.figure(figsize=(\u001b[32m8\u001b[39m,\u001b[32m4\u001b[39m))\n\u001b[32m      3\u001b[39m ret_sys.hist(bins=\u001b[32m50\u001b[39m, density=\u001b[38;5;28;01mTrue\u001b[39;00m, alpha=\u001b[32m0.6\u001b[39m, label=\u001b[33m\"\u001b[39m\u001b[33mSistema\u001b[39m\u001b[33m\"\u001b[39m)\n\u001b[32m      4\u001b[39m ret_sys.plot(kind=\u001b[33m\"\u001b[39m\u001b[33mkde\u001b[39m\u001b[33m\"\u001b[39m, label=\u001b[33m\"\u001b[39m\u001b[33mKDE\u001b[39m\u001b[33m\"\u001b[39m)\n",
      "\u001b[31mNameError\u001b[39m: name 'plt' is not defined"
     ]
    }
   ],
   "source": [
    "# 8. HISTOGRAMA DE RETORNOS\n",
    "plt.figure(figsize=(8,4))\n",
    "ret_sys.hist(bins=50, density=True, alpha=0.6, label=\"Sistema\")\n",
    "ret_sys.plot(kind=\"kde\", label=\"KDE\")\n",
    "plt.title(\"Distribución de retornos diarios del sistema\")\n",
    "plt.xlabel(\"Retorno diario\")\n",
    "plt.grid(True)\n",
    "plt.legend()\n",
    "plt.show()"
   ]
  },
  {
   "cell_type": "code",
   "execution_count": 12,
   "id": "15b851fb-abe0-457d-ab9a-988bee0e4879",
   "metadata": {},
   "outputs": [
    {
     "ename": "NameError",
     "evalue": "name 'plt' is not defined",
     "output_type": "error",
     "traceback": [
      "\u001b[31m---------------------------------------------------------------------------\u001b[39m",
      "\u001b[31mNameError\u001b[39m                                 Traceback (most recent call last)",
      "\u001b[36mCell\u001b[39m\u001b[36m \u001b[39m\u001b[32mIn[12]\u001b[39m\u001b[32m, line 6\u001b[39m\n\u001b[32m      3\u001b[39m rolling_max = cum_returns.cummax()\n\u001b[32m      4\u001b[39m drawdown = cum_returns / rolling_max - \u001b[32m1\u001b[39m\n\u001b[32m----> \u001b[39m\u001b[32m6\u001b[39m plt.figure(figsize=(\u001b[32m10\u001b[39m,\u001b[32m3\u001b[39m))\n\u001b[32m      7\u001b[39m drawdown.plot()\n\u001b[32m      8\u001b[39m plt.title(\u001b[33m\"\u001b[39m\u001b[33mDrawdown acumulado del sistema\u001b[39m\u001b[33m\"\u001b[39m)\n",
      "\u001b[31mNameError\u001b[39m: name 'plt' is not defined"
     ]
    }
   ],
   "source": [
    "\n",
    "# 9. DRAWDOWN PLOT\n",
    "cum_returns = (1 + ret_sys).cumprod()\n",
    "rolling_max = cum_returns.cummax()\n",
    "drawdown = cum_returns / rolling_max - 1\n",
    "\n",
    "plt.figure(figsize=(10,3))\n",
    "drawdown.plot()\n",
    "plt.title(\"Drawdown acumulado del sistema\")\n",
    "plt.ylabel(\"Drawdown\")\n",
    "plt.grid()\n",
    "plt.tight_layout()\n",
    "plt.show()"
   ]
  },
  {
   "cell_type": "code",
   "execution_count": 14,
   "id": "63807685-4eaa-46d1-b456-1b58b1ad5dd8",
   "metadata": {},
   "outputs": [
    {
     "ename": "NameError",
     "evalue": "name 'res_df' is not defined",
     "output_type": "error",
     "traceback": [
      "\u001b[31m---------------------------------------------------------------------------\u001b[39m",
      "\u001b[31mNameError\u001b[39m                                 Traceback (most recent call last)",
      "\u001b[36mCell\u001b[39m\u001b[36m \u001b[39m\u001b[32mIn[14]\u001b[39m\u001b[32m, line 3\u001b[39m\n\u001b[32m      1\u001b[39m \u001b[38;5;66;03m# 10. HEATMAP DE PESOS (si w_star está disponible)\u001b[39;00m\n\u001b[32m      2\u001b[39m df_w = pd.DataFrame(\n\u001b[32m----> \u001b[39m\u001b[32m3\u001b[39m     [r[\u001b[33m\"\u001b[39m\u001b[33mw_star\u001b[39m\u001b[33m\"\u001b[39m] \u001b[38;5;28;01mfor\u001b[39;00m r \u001b[38;5;129;01min\u001b[39;00m res_df.dropna().to_dict(orient=\u001b[33m'\u001b[39m\u001b[33mrecords\u001b[39m\u001b[33m'\u001b[39m)],\n\u001b[32m      4\u001b[39m     index=res_df.dropna().index,\n\u001b[32m      5\u001b[39m     columns=tickers\n\u001b[32m      6\u001b[39m )\n\u001b[32m      8\u001b[39m plt.figure(figsize=(\u001b[32m14\u001b[39m,\u001b[32m6\u001b[39m))\n\u001b[32m      9\u001b[39m sns.heatmap(df_w.T, cmap=\u001b[33m\"\u001b[39m\u001b[33mviridis\u001b[39m\u001b[33m\"\u001b[39m, cbar=\u001b[38;5;28;01mTrue\u001b[39;00m)\n",
      "\u001b[31mNameError\u001b[39m: name 'res_df' is not defined"
     ]
    }
   ],
   "source": [
    "# 10. HEATMAP DE PESOS (si w_star está disponible)\n",
    "df_w = pd.DataFrame(\n",
    "    [r[\"w_star\"] for r in res_df.dropna().to_dict(orient='records')],\n",
    "    index=res_df.dropna().index,\n",
    "    columns=tickers\n",
    ")\n",
    "\n",
    "plt.figure(figsize=(14,6))\n",
    "sns.heatmap(df_w.T, cmap=\"viridis\", cbar=True)\n",
    "plt.title(\"Asignación de pesos a lo largo del tiempo\")\n",
    "plt.xlabel(\"Fecha\")\n",
    "plt.ylabel(\"Activo\")\n",
    "plt.tight_layout()\n",
    "plt.show()"
   ]
  },
  {
   "cell_type": "code",
   "execution_count": 16,
   "id": "013ad2fd-9b4a-4c13-b5e5-77d69e997ecd",
   "metadata": {},
   "outputs": [
    {
     "ename": "NameError",
     "evalue": "name 'plt' is not defined",
     "output_type": "error",
     "traceback": [
      "\u001b[31m---------------------------------------------------------------------------\u001b[39m",
      "\u001b[31mNameError\u001b[39m                                 Traceback (most recent call last)",
      "\u001b[36mCell\u001b[39m\u001b[36m \u001b[39m\u001b[32mIn[16]\u001b[39m\u001b[32m, line 2\u001b[39m\n\u001b[32m      1\u001b[39m \u001b[38;5;66;03m# 11. RETORNOS POR REBALANCEO\u001b[39;00m\n\u001b[32m----> \u001b[39m\u001b[32m2\u001b[39m plt.figure(figsize=(\u001b[32m12\u001b[39m, \u001b[32m5\u001b[39m))\n\u001b[32m      3\u001b[39m res_df[\u001b[33m\"\u001b[39m\u001b[33mretorno\u001b[39m\u001b[33m\"\u001b[39m].plot(marker=\u001b[33m'\u001b[39m\u001b[33mo\u001b[39m\u001b[33m'\u001b[39m, linestyle=\u001b[33m'\u001b[39m\u001b[33m-\u001b[39m\u001b[33m'\u001b[39m)\n\u001b[32m      4\u001b[39m plt.axhline(\u001b[32m0\u001b[39m, color=\u001b[33m'\u001b[39m\u001b[33mred\u001b[39m\u001b[33m'\u001b[39m, linestyle=\u001b[33m'\u001b[39m\u001b[33m--\u001b[39m\u001b[33m'\u001b[39m, linewidth=\u001b[32m1\u001b[39m)\n",
      "\u001b[31mNameError\u001b[39m: name 'plt' is not defined"
     ]
    }
   ],
   "source": [
    "# 11. RETORNOS POR REBALANCEO\n",
    "plt.figure(figsize=(12, 5))\n",
    "res_df[\"retorno\"].plot(marker='o', linestyle='-')\n",
    "plt.axhline(0, color='red', linestyle='--', linewidth=1)\n",
    "plt.title(\"Retornos por rebalanceo del portafolio\")\n",
    "plt.ylabel(\"Retorno\")\n",
    "plt.xlabel(\"Fecha\")\n",
    "plt.grid(True)\n",
    "plt.tight_layout()\n",
    "plt.show()"
   ]
  },
  {
   "cell_type": "code",
   "execution_count": null,
   "id": "67c295a0-cbb0-4a81-8ac3-9f03a9f8c458",
   "metadata": {},
   "outputs": [],
   "source": []
  }
 ],
 "metadata": {
  "kernelspec": {
   "display_name": "TFM (tfmm)",
   "language": "python",
   "name": "tfmm"
  },
  "language_info": {
   "codemirror_mode": {
    "name": "ipython",
    "version": 3
   },
   "file_extension": ".py",
   "mimetype": "text/x-python",
   "name": "python",
   "nbconvert_exporter": "python",
   "pygments_lexer": "ipython3",
   "version": "3.11.0"
  }
 },
 "nbformat": 4,
 "nbformat_minor": 5
}
