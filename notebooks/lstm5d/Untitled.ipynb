{
 "cells": [
  {
   "cell_type": "code",
   "execution_count": 12,
   "id": "3090a4b2-d3a8-4917-9155-6cfc78b279cb",
   "metadata": {},
   "outputs": [
    {
     "name": "stdout",
     "output_type": "stream",
     "text": [
      "¿Índices iguales? True\n",
      "Longitudes: 2641 / 2641\n",
      "Final shapes  X: (2634, 60, 80)  y: (2634, 40)\n",
      "¿Índices finales iguales? True\n"
     ]
    }
   ],
   "source": [
    "# ────────────────────────────────────────────────────────────────────\n",
    "# CHECK DE DESFASE  |  ¿hay “look-ahead” en las fechas?\n",
    "# ────────────────────────────────────────────────────────────────────\n",
    "import sys, pathlib, joblib\n",
    "from pathlib import Path\n",
    "import numpy as np\n",
    "import pandas as pd\n",
    "from sklearn.preprocessing import StandardScaler\n",
    "\n",
    "# Ruta proyecto ────────────────────────────────────────────────────\n",
    "PROJECT_ROOT = pathlib.Path().resolve().parent.parent\n",
    "if str(PROJECT_ROOT) not in sys.path:\n",
    "    sys.path.insert(0, str(PROJECT_ROOT))\n",
    "from src import config as cfg\n",
    "\n",
    "# Carga paquete procesado que se usó para entrenar\n",
    "d       = joblib.load(cfg.DATA / \"processed\" / \"lstm5d_data.pkl\")\n",
    "X, y    = d[\"X\"], d[\"y\"]                       # X.shape = (n, win, n_feats)\n",
    "dates   = pd.to_datetime(d[\"dates\"])           # índice «representativo» (último día ventana)\n",
    "\n",
    "# Serie de retornos diarios reales\n",
    "df_px   = pd.read_parquet(cfg.DATA / \"raw\" / \"prices.parquet\")\n",
    "ret1d   = np.log(df_px / df_px.shift(1)).dropna()\n",
    "\n",
    "# Target “futuro” real (t+1)\n",
    "y_check = (\n",
    "    ret1d.shift(-1)            # futuro\n",
    "         .reindex(dates)       # mismo índice que X\n",
    "         .dropna()\n",
    ")\n",
    "\n",
    "# ── 1) Quedarse sólo con fechas comunes ───────────────────────────\n",
    "common_dates  = dates.intersection(y_check.index)  # orden original respetado\n",
    "mask_common   = np.isin(dates, common_dates)   # ← sin .to_numpy()\n",
    "\n",
    "\n",
    "X_common      = X[mask_common]\n",
    "y_common      = y[mask_common]\n",
    "dates_common  = dates[mask_common]\n",
    "y_check_comm  = y_check.loc[dates_common]          # misma longitud y orden\n",
    "\n",
    "print(\"¿Índices iguales?\", dates_common.equals(y_check_comm.index))\n",
    "print(\"Longitudes:\", len(dates_common), \"/\", len(y_check_comm))\n",
    "\n",
    "# ── 2) Filtrar NaN / Inf en X (¡después de alinear!) ───────────────\n",
    "mask_clean = (\n",
    "    ~np.isnan(X_common).any(axis=(1, 2))\n",
    "    & ~np.isinf(X_common).any(axis=(1, 2))\n",
    ")\n",
    "\n",
    "X_ok        = X_common[mask_clean]\n",
    "y_ok        = y_common[mask_clean]\n",
    "dates_ok    = dates_common[mask_clean]\n",
    "y_check_ok  = y_check_comm.loc[dates_ok]          # sigue alineado\n",
    "\n",
    "print(\"Final shapes  X:\", X_ok.shape, \" y:\", y_ok.shape)\n",
    "print(\"¿Índices finales iguales?\", dates_ok.equals(y_check_ok.index))\n"
   ]
  },
  {
   "cell_type": "code",
   "execution_count": 16,
   "id": "1e370ee2-2bf9-4b7b-acf7-8a75cfa28d27",
   "metadata": {},
   "outputs": [
    {
     "name": "stdout",
     "output_type": "stream",
     "text": [
      "Dims OK: (4448, 60, 80) (4448, 40) 4448\n",
      "Train: (2084, 60, 80) Val: (731, 60, 80) Test: (1633, 60, 80)\n",
      "\n",
      "─ COMPARACIÓN DE ESCALADORES ─\n",
      "Media  new : [-0.00842533  0.00633255  0.02304093  0.0168192   0.01190116]\n",
      "Media prod: [-0.00842533  0.00633255  0.02304093  0.0168192   0.01190116]\n",
      "Std    new : [0.89325047 0.88864062 0.81899326 0.93818502 0.87703659]\n",
      "Std    prod: [0.89325047 0.88864062 0.81899326 0.93818502 0.87703659]\n"
     ]
    }
   ],
   "source": [
    "# ------------------------------------------------------------\n",
    "# (1)   FECHAS   ── conviértelas a un objeto Pandas manejable\n",
    "# ------------------------------------------------------------\n",
    "dates = pd.to_datetime(d[\"dates\"])             # <- 1-a-1 con X y con y\n",
    "\n",
    "# ------------------------------------------------------------\n",
    "# (2)   LIMPIEZA GLOBAL  ── descarta filas con NaN/Inf en X\n",
    "# ------------------------------------------------------------\n",
    "mask_good = ~np.isnan(X).any(axis=(1, 2)) & ~np.isinf(X).any(axis=(1, 2))\n",
    "\n",
    "X_ok      = X[mask_good]\n",
    "y_ok      = y[mask_good]\n",
    "dates_ok  = dates[mask_good]                   # <-- MISMA long. que X_ok\n",
    "\n",
    "print(\"Dims OK:\", X_ok.shape, y_ok.shape, len(dates_ok))   # debe cuadrar\n",
    "\n",
    "# ------------------------------------------------------------\n",
    "# (3)   SPLITS (train/val/test) usando SOLO dates_ok\n",
    "# ------------------------------------------------------------\n",
    "dates_ok = pd.DatetimeIndex(dates_ok)          # para .year, comparaciones\n",
    "\n",
    "train_mask = dates_ok < \"2019-01-01\"\n",
    "val_mask   = (dates_ok >= \"2019-01-01\") & (dates_ok < \"2021-01-01\")\n",
    "test_mask  = dates_ok >= \"2021-01-01\"\n",
    "\n",
    "X_train, y_train = X_ok[train_mask], y_ok[train_mask]\n",
    "X_val,   y_val   = X_ok[val_mask]  , y_ok[val_mask]\n",
    "X_test,  y_test  = X_ok[test_mask] , y_ok[test_mask]\n",
    "\n",
    "print(\"Train:\", X_train.shape, \"Val:\", X_val.shape, \"Test:\", X_test.shape)\n",
    "\n",
    "# ------------------------------------------------------------\n",
    "# (4)   NUEVO StandardScaler ajustado SOLO con TRAIN\n",
    "# ------------------------------------------------------------\n",
    "sc_new = StandardScaler()\n",
    "sc_new.fit(X_train.reshape(-1, X_train.shape[2]))\n",
    "\n",
    "# cargar scaler de producción\n",
    "sc_prod = joblib.load(cfg.MODELS / \"scaler_X_lstm5d.pkl\")\n",
    "\n",
    "print(\"\\n─ COMPARACIÓN DE ESCALADORES ─\")\n",
    "print(\"Media  new :\", sc_new.mean_[:5])\n",
    "print(\"Media prod:\", sc_prod.mean_[:5])\n",
    "print(\"Std    new :\", sc_new.scale_[:5])\n",
    "print(\"Std    prod:\", sc_prod.scale_[:5])\n"
   ]
  },
  {
   "cell_type": "code",
   "execution_count": null,
   "id": "23061808-6cf7-40f7-986f-9704bf80d559",
   "metadata": {},
   "outputs": [],
   "source": []
  }
 ],
 "metadata": {
  "kernelspec": {
   "display_name": "TFM (tfmm)",
   "language": "python",
   "name": "tfmm"
  },
  "language_info": {
   "codemirror_mode": {
    "name": "ipython",
    "version": 3
   },
   "file_extension": ".py",
   "mimetype": "text/x-python",
   "name": "python",
   "nbconvert_exporter": "python",
   "pygments_lexer": "ipython3",
   "version": "3.11.0"
  }
 },
 "nbformat": 4,
 "nbformat_minor": 5
}
