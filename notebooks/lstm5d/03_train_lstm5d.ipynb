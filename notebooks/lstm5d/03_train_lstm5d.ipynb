{
 "cells": [
  {
   "cell_type": "code",
   "execution_count": 14,
   "id": "376ff6c0-2906-4dd0-8ccc-ddb9e25d198d",
   "metadata": {},
   "outputs": [],
   "source": [
    "import joblib\n",
    "import pandas as pd\n",
    "import sys, pathlib\n",
    "\n",
    "# Setup ruta al proyecto\n",
    "PROJECT_ROOT = pathlib.Path().resolve().parent.parent\n",
    "if str(PROJECT_ROOT) not in sys.path:\n",
    "    sys.path.insert(0, str(PROJECT_ROOT))\n",
    "\n",
    "from src import config as cfg"
   ]
  },
  {
   "cell_type": "code",
   "execution_count": 16,
   "id": "b11056a6-930d-4f48-bde6-143a4c709bf5",
   "metadata": {},
   "outputs": [
    {
     "name": "stdout",
     "output_type": "stream",
     "text": [
      "X: (4455, 60, 80) y: (4455, 40)\n"
     ]
    }
   ],
   "source": [
    "data = joblib.load(cfg.DATA / \"processed\" / \"lstm5d_data.pkl\")\n",
    "df_prices = pd.read_parquet(cfg.DATA / \"raw\" / \"prices.parquet\")\n",
    "\n",
    "X = data[\"X\"]\n",
    "y = data[\"y\"]\n",
    "\n",
    "# Filtrar muestras inválidas\n",
    "import numpy as np\n",
    "mask = ~np.isnan(y).any(axis=1) & ~np.isinf(y).any(axis=1)\n",
    "X = X[mask]\n",
    "y = y[mask]\n",
    "\n",
    "\n",
    "print(\"X:\", X.shape, \"y:\", y.shape)\n"
   ]
  },
  {
   "cell_type": "code",
   "execution_count": 36,
   "id": "3edc89e8-d607-4ed1-a8a8-e30aab8d9ee9",
   "metadata": {},
   "outputs": [
    {
     "name": "stdout",
     "output_type": "stream",
     "text": [
      "Train: (2091, 60, 80) 2012-08-15 00:00:00 → 2018-12-31 00:00:00\n",
      "Val:   (731, 60, 80) 2019-01-01 00:00:00 → 2020-12-31 00:00:00\n",
      "Test:  (1633, 60, 80) 2021-01-01 00:00:00 → 2025-06-21 00:00:00\n"
     ]
    },
    {
     "data": {
      "text/plain": [
       "['C:\\\\Users\\\\ferra\\\\Documents\\\\TFM\\\\models\\\\scaler_y_lstm5d.pkl']"
      ]
     },
     "execution_count": 36,
     "metadata": {},
     "output_type": "execute_result"
    }
   ],
   "source": [
    "import numpy as np\n",
    "import pandas as pd\n",
    "import joblib\n",
    "from sklearn.preprocessing import StandardScaler\n",
    "\n",
    "# Cargar datos\n",
    "data = joblib.load(cfg.DATA / \"processed\" / \"lstm5d_data.pkl\")\n",
    "X = data[\"X\"]\n",
    "y = data[\"y\"]\n",
    "\n",
    "\n",
    "fechas_X = pd.to_datetime(data[\"dates\"])\n",
    "\n",
    "train_mask = fechas_X < \"2019-01-01\"\n",
    "val_mask   = (fechas_X >= \"2019-01-01\") & (fechas_X < \"2021-01-01\")\n",
    "test_mask  = fechas_X >= \"2021-01-01\"\n",
    "\n",
    "X_train, y_train = X[train_mask], y[train_mask]\n",
    "X_val, y_val     = X[val_mask], y[val_mask]\n",
    "X_test, y_test   = X[test_mask], y[test_mask]\n",
    "\n",
    "fechas_train = fechas_X[train_mask]\n",
    "fechas_val   = fechas_X[val_mask]\n",
    "fechas_test  = fechas_X[test_mask]\n",
    "\n",
    "print(\"Train:\", X_train.shape, fechas_train.min(), \"→\", fechas_train.max())\n",
    "print(\"Val:  \", X_val.shape,   fechas_val.min(),   \"→\", fechas_val.max())\n",
    "print(\"Test: \", X_test.shape,  fechas_test.min(),  \"→\", fechas_test.max())\n",
    "\n",
    "\n",
    "# Paso 1: eliminar muestras con NaNs en X_train antes de escalar\n",
    "mask_valid = ~np.isnan(X_train).any(axis=(1, 2))\n",
    "X_train = X_train[mask_valid]\n",
    "y_train = y_train[mask_valid]\n",
    "\n",
    "# Paso 2: Escalado de X\n",
    "X_train_2d = X_train.reshape(-1, X_train.shape[2])\n",
    "scaler_X = StandardScaler()\n",
    "X_train_scaled = scaler_X.fit_transform(X_train_2d).reshape(X_train.shape)\n",
    "\n",
    "X_val_scaled = scaler_X.transform(X_val.reshape(-1, X_val.shape[2])).reshape(X_val.shape)\n",
    "X_test_scaled = scaler_X.transform(X_test.reshape(-1, X_test.shape[2])).reshape(X_test.shape)\n",
    "\n",
    "# Paso 3: Escalado de y\n",
    "scaler_y = StandardScaler()\n",
    "y_train_scaled = scaler_y.fit_transform(y_train)\n",
    "y_val_scaled   = scaler_y.transform(y_val)\n",
    "y_test_scaled  = scaler_y.transform(y_test)\n",
    "\n",
    "# Guardar escaladores\n",
    "joblib.dump(scaler_X, cfg.MODELS / \"scaler_X_lstm5d.pkl\")\n",
    "joblib.dump(scaler_y, cfg.MODELS / \"scaler_y_lstm5d.pkl\")\n",
    "\n"
   ]
  },
  {
   "cell_type": "code",
   "execution_count": 38,
   "id": "aec8e425-f5d2-4de6-91b7-95562e1c5797",
   "metadata": {},
   "outputs": [
    {
     "data": {
      "text/html": [
       "<pre style=\"white-space:pre;overflow-x:auto;line-height:normal;font-family:Menlo,'DejaVu Sans Mono',consolas,'Courier New',monospace\"><span style=\"font-weight: bold\">Model: \"sequential_3\"</span>\n",
       "</pre>\n"
      ],
      "text/plain": [
       "\u001b[1mModel: \"sequential_3\"\u001b[0m\n"
      ]
     },
     "metadata": {},
     "output_type": "display_data"
    },
    {
     "data": {
      "text/html": [
       "<pre style=\"white-space:pre;overflow-x:auto;line-height:normal;font-family:Menlo,'DejaVu Sans Mono',consolas,'Courier New',monospace\">┏━━━━━━━━━━━━━━━━━━━━━━━━━━━━━━━━━┳━━━━━━━━━━━━━━━━━━━━━━━━┳━━━━━━━━━━━━━━━┓\n",
       "┃<span style=\"font-weight: bold\"> Layer (type)                    </span>┃<span style=\"font-weight: bold\"> Output Shape           </span>┃<span style=\"font-weight: bold\">       Param # </span>┃\n",
       "┡━━━━━━━━━━━━━━━━━━━━━━━━━━━━━━━━━╇━━━━━━━━━━━━━━━━━━━━━━━━╇━━━━━━━━━━━━━━━┩\n",
       "│ lstm_6 (<span style=\"color: #0087ff; text-decoration-color: #0087ff\">LSTM</span>)                   │ (<span style=\"color: #00d7ff; text-decoration-color: #00d7ff\">None</span>, <span style=\"color: #00af00; text-decoration-color: #00af00\">60</span>, <span style=\"color: #00af00; text-decoration-color: #00af00\">64</span>)         │        <span style=\"color: #00af00; text-decoration-color: #00af00\">37,120</span> │\n",
       "├─────────────────────────────────┼────────────────────────┼───────────────┤\n",
       "│ dropout_3 (<span style=\"color: #0087ff; text-decoration-color: #0087ff\">Dropout</span>)             │ (<span style=\"color: #00d7ff; text-decoration-color: #00d7ff\">None</span>, <span style=\"color: #00af00; text-decoration-color: #00af00\">60</span>, <span style=\"color: #00af00; text-decoration-color: #00af00\">64</span>)         │             <span style=\"color: #00af00; text-decoration-color: #00af00\">0</span> │\n",
       "├─────────────────────────────────┼────────────────────────┼───────────────┤\n",
       "│ lstm_7 (<span style=\"color: #0087ff; text-decoration-color: #0087ff\">LSTM</span>)                   │ (<span style=\"color: #00d7ff; text-decoration-color: #00d7ff\">None</span>, <span style=\"color: #00af00; text-decoration-color: #00af00\">32</span>)             │        <span style=\"color: #00af00; text-decoration-color: #00af00\">12,416</span> │\n",
       "├─────────────────────────────────┼────────────────────────┼───────────────┤\n",
       "│ dense_3 (<span style=\"color: #0087ff; text-decoration-color: #0087ff\">Dense</span>)                 │ (<span style=\"color: #00d7ff; text-decoration-color: #00d7ff\">None</span>, <span style=\"color: #00af00; text-decoration-color: #00af00\">40</span>)             │         <span style=\"color: #00af00; text-decoration-color: #00af00\">1,320</span> │\n",
       "└─────────────────────────────────┴────────────────────────┴───────────────┘\n",
       "</pre>\n"
      ],
      "text/plain": [
       "┏━━━━━━━━━━━━━━━━━━━━━━━━━━━━━━━━━┳━━━━━━━━━━━━━━━━━━━━━━━━┳━━━━━━━━━━━━━━━┓\n",
       "┃\u001b[1m \u001b[0m\u001b[1mLayer (type)                   \u001b[0m\u001b[1m \u001b[0m┃\u001b[1m \u001b[0m\u001b[1mOutput Shape          \u001b[0m\u001b[1m \u001b[0m┃\u001b[1m \u001b[0m\u001b[1m      Param #\u001b[0m\u001b[1m \u001b[0m┃\n",
       "┡━━━━━━━━━━━━━━━━━━━━━━━━━━━━━━━━━╇━━━━━━━━━━━━━━━━━━━━━━━━╇━━━━━━━━━━━━━━━┩\n",
       "│ lstm_6 (\u001b[38;5;33mLSTM\u001b[0m)                   │ (\u001b[38;5;45mNone\u001b[0m, \u001b[38;5;34m60\u001b[0m, \u001b[38;5;34m64\u001b[0m)         │        \u001b[38;5;34m37,120\u001b[0m │\n",
       "├─────────────────────────────────┼────────────────────────┼───────────────┤\n",
       "│ dropout_3 (\u001b[38;5;33mDropout\u001b[0m)             │ (\u001b[38;5;45mNone\u001b[0m, \u001b[38;5;34m60\u001b[0m, \u001b[38;5;34m64\u001b[0m)         │             \u001b[38;5;34m0\u001b[0m │\n",
       "├─────────────────────────────────┼────────────────────────┼───────────────┤\n",
       "│ lstm_7 (\u001b[38;5;33mLSTM\u001b[0m)                   │ (\u001b[38;5;45mNone\u001b[0m, \u001b[38;5;34m32\u001b[0m)             │        \u001b[38;5;34m12,416\u001b[0m │\n",
       "├─────────────────────────────────┼────────────────────────┼───────────────┤\n",
       "│ dense_3 (\u001b[38;5;33mDense\u001b[0m)                 │ (\u001b[38;5;45mNone\u001b[0m, \u001b[38;5;34m40\u001b[0m)             │         \u001b[38;5;34m1,320\u001b[0m │\n",
       "└─────────────────────────────────┴────────────────────────┴───────────────┘\n"
      ]
     },
     "metadata": {},
     "output_type": "display_data"
    },
    {
     "data": {
      "text/html": [
       "<pre style=\"white-space:pre;overflow-x:auto;line-height:normal;font-family:Menlo,'DejaVu Sans Mono',consolas,'Courier New',monospace\"><span style=\"font-weight: bold\"> Total params: </span><span style=\"color: #00af00; text-decoration-color: #00af00\">50,856</span> (198.66 KB)\n",
       "</pre>\n"
      ],
      "text/plain": [
       "\u001b[1m Total params: \u001b[0m\u001b[38;5;34m50,856\u001b[0m (198.66 KB)\n"
      ]
     },
     "metadata": {},
     "output_type": "display_data"
    },
    {
     "data": {
      "text/html": [
       "<pre style=\"white-space:pre;overflow-x:auto;line-height:normal;font-family:Menlo,'DejaVu Sans Mono',consolas,'Courier New',monospace\"><span style=\"font-weight: bold\"> Trainable params: </span><span style=\"color: #00af00; text-decoration-color: #00af00\">50,856</span> (198.66 KB)\n",
       "</pre>\n"
      ],
      "text/plain": [
       "\u001b[1m Trainable params: \u001b[0m\u001b[38;5;34m50,856\u001b[0m (198.66 KB)\n"
      ]
     },
     "metadata": {},
     "output_type": "display_data"
    },
    {
     "data": {
      "text/html": [
       "<pre style=\"white-space:pre;overflow-x:auto;line-height:normal;font-family:Menlo,'DejaVu Sans Mono',consolas,'Courier New',monospace\"><span style=\"font-weight: bold\"> Non-trainable params: </span><span style=\"color: #00af00; text-decoration-color: #00af00\">0</span> (0.00 B)\n",
       "</pre>\n"
      ],
      "text/plain": [
       "\u001b[1m Non-trainable params: \u001b[0m\u001b[38;5;34m0\u001b[0m (0.00 B)\n"
      ]
     },
     "metadata": {},
     "output_type": "display_data"
    }
   ],
   "source": [
    "import tensorflow as tf\n",
    "from tensorflow.keras import layers, models\n",
    "\n",
    "model = models.Sequential([\n",
    "    layers.Input(shape=(cfg.WINDOW, X.shape[2])),  # 60 x 80\n",
    "    layers.LSTM(64, return_sequences=True),\n",
    "    layers.Dropout(0.2),\n",
    "    layers.LSTM(32),\n",
    "    layers.Dense(y.shape[1])  # ← ✅ Solo 40 salidas (1 por activo)\n",
    "])\n",
    "\n",
    "model.compile(optimizer=tf.keras.optimizers.Adam(1e-3), loss=\"mse\")\n",
    "model.summary()\n"
   ]
  },
  {
   "cell_type": "code",
   "execution_count": 40,
   "id": "28508c51-32fc-4663-a620-811406be3b6e",
   "metadata": {},
   "outputs": [
    {
     "name": "stdout",
     "output_type": "stream",
     "text": [
      "Check X_train_scaled: 0 NaNs / 0 Infs\n",
      "Check y_train_scaled: 0 NaNs / 0 Infs\n",
      "Check X_val_scaled: 0 NaNs / 0 Infs\n",
      "Check y_val_scaled: 0 NaNs / 0 Infs\n",
      "X_train range: -13.192703 → 44.809296\n",
      "y_train range: -7.224562 → 20.043701\n",
      "Epoch 1/50\n",
      "\u001b[1m66/66\u001b[0m \u001b[32m━━━━━━━━━━━━━━━━━━━━\u001b[0m\u001b[37m\u001b[0m \u001b[1m8s\u001b[0m 74ms/step - loss: 1.0183 - val_loss: 2.0568\n",
      "Epoch 2/50\n",
      "\u001b[1m66/66\u001b[0m \u001b[32m━━━━━━━━━━━━━━━━━━━━\u001b[0m\u001b[37m\u001b[0m \u001b[1m4s\u001b[0m 61ms/step - loss: 0.9052 - val_loss: 2.1346\n",
      "Epoch 3/50\n",
      "\u001b[1m66/66\u001b[0m \u001b[32m━━━━━━━━━━━━━━━━━━━━\u001b[0m\u001b[37m\u001b[0m \u001b[1m3s\u001b[0m 48ms/step - loss: 0.8255 - val_loss: 2.1164\n",
      "Epoch 4/50\n",
      "\u001b[1m66/66\u001b[0m \u001b[32m━━━━━━━━━━━━━━━━━━━━\u001b[0m\u001b[37m\u001b[0m \u001b[1m4s\u001b[0m 61ms/step - loss: 0.7874 - val_loss: 2.1125\n",
      "Epoch 5/50\n",
      "\u001b[1m66/66\u001b[0m \u001b[32m━━━━━━━━━━━━━━━━━━━━\u001b[0m\u001b[37m\u001b[0m \u001b[1m4s\u001b[0m 62ms/step - loss: 0.7235 - val_loss: 2.1357\n",
      "Epoch 6/50\n",
      "\u001b[1m66/66\u001b[0m \u001b[32m━━━━━━━━━━━━━━━━━━━━\u001b[0m\u001b[37m\u001b[0m \u001b[1m4s\u001b[0m 63ms/step - loss: 0.7192 - val_loss: 2.1572\n"
     ]
    }
   ],
   "source": [
    "from tensorflow.keras.callbacks import EarlyStopping\n",
    "\n",
    "early_stop = EarlyStopping(patience=5, restore_best_weights=True)\n",
    "\n",
    "print(\"Check X_train_scaled:\", np.isnan(X_train_scaled).sum(), \"NaNs /\", np.isinf(X_train_scaled).sum(), \"Infs\")\n",
    "print(\"Check y_train_scaled:\", np.isnan(y_train_scaled).sum(), \"NaNs /\", np.isinf(y_train_scaled).sum(), \"Infs\")\n",
    "print(\"Check X_val_scaled:\", np.isnan(X_val_scaled).sum(), \"NaNs /\", np.isinf(X_val_scaled).sum(), \"Infs\")\n",
    "print(\"Check y_val_scaled:\", np.isnan(y_val_scaled).sum(), \"NaNs /\", np.isinf(y_val_scaled).sum(), \"Infs\")\n",
    "print(\"X_train range:\", np.min(X_train_scaled), \"→\", np.max(X_train_scaled))\n",
    "print(\"y_train range:\", np.min(y_train_scaled), \"→\", np.max(y_train_scaled))\n",
    "\n",
    "\n",
    "\n",
    "history = model.fit(\n",
    " X_train_scaled, y_train_scaled,\n",
    " validation_data=(X_val_scaled, y_val_scaled),\n",
    " epochs=50,\n",
    " batch_size=32,\n",
    " callbacks=[early_stop],\n",
    " verbose=1\n",
    ")\n",
    "\n"
   ]
  },
  {
   "cell_type": "code",
   "execution_count": 42,
   "id": "c55a7d41-29d7-4200-9057-a0a1b87588d6",
   "metadata": {},
   "outputs": [
    {
     "name": "stdout",
     "output_type": "stream",
     "text": [
      "✅ Modelo guardado en formato .keras\n"
     ]
    },
    {
     "data": {
      "text/plain": [
       "['C:\\\\Users\\\\ferra\\\\Documents\\\\TFM\\\\results\\\\history_lstm5d.pkl']"
      ]
     },
     "execution_count": 42,
     "metadata": {},
     "output_type": "execute_result"
    }
   ],
   "source": [
    "from pathlib import Path\n",
    "\n",
    "# Crear carpeta si no existe\n",
    "Path(\"models\").mkdir(parents=True, exist_ok=True)\n",
    "\n",
    "model.save(cfg.MODELS / \"lstm5d.keras\")\n",
    "print(\"✅ Modelo guardado en formato .keras\")\n",
    "joblib.dump(history.history, cfg.RESULT / \"history_lstm5d.pkl\")\n"
   ]
  },
  {
   "cell_type": "code",
   "execution_count": 44,
   "id": "1ba5a8be-b2c2-44cc-9ee6-2d26297d7d50",
   "metadata": {},
   "outputs": [
    {
     "name": "stdout",
     "output_type": "stream",
     "text": [
      "\u001b[1m52/52\u001b[0m \u001b[32m━━━━━━━━━━━━━━━━━━━━\u001b[0m\u001b[37m\u001b[0m \u001b[1m2s\u001b[0m 25ms/step\n",
      "RMSE medio: 1.203264\n"
     ]
    },
    {
     "data": {
      "text/plain": [
       "['C:\\\\Users\\\\ferra\\\\Documents\\\\TFM\\\\results\\\\rmse_lstm5d.pkl']"
      ]
     },
     "execution_count": 44,
     "metadata": {},
     "output_type": "execute_result"
    }
   ],
   "source": [
    "y_pred = model.predict(X_test_scaled)\n",
    "rmse = np.sqrt(((y_test_scaled - y_pred)**2).mean(axis=0))\n",
    "rmse_mean = rmse.mean()\n",
    "print(\"RMSE medio:\", rmse_mean)\n",
    "\n",
    "joblib.dump(rmse_mean, cfg.RESULT / \"rmse_lstm5d.pkl\")\n"
   ]
  },
  {
   "cell_type": "markdown",
   "id": "3dcaaa90-cb39-4925-8e29-7e38e8b58852",
   "metadata": {},
   "source": [
    "El valor de RMSE medio obtenido (1.03) se justifica por la mayor complejidad del modelo LSTM al trabajar con ventanas de 60 días y 80 variables por muestra, lo cual introduce alta dimensionalidad y mayor varianza en los errores. Aunque el rendimiento es inferior al de otras configuraciones con menos variables (RMSE ≈ 0.14), este modelo captura dinámicas más ricas, lo que puede resultar valioso al combinarse con métodos evolutivos en la fase de optimización de carteras."
   ]
  },
  {
   "cell_type": "code",
   "execution_count": null,
   "id": "9ebc9fca-f715-4586-a4de-620d0ec4ddbb",
   "metadata": {},
   "outputs": [],
   "source": []
  }
 ],
 "metadata": {
  "kernelspec": {
   "display_name": "TFM (tfmm)",
   "language": "python",
   "name": "tfmm"
  },
  "language_info": {
   "codemirror_mode": {
    "name": "ipython",
    "version": 3
   },
   "file_extension": ".py",
   "mimetype": "text/x-python",
   "name": "python",
   "nbconvert_exporter": "python",
   "pygments_lexer": "ipython3",
   "version": "3.11.0"
  }
 },
 "nbformat": 4,
 "nbformat_minor": 5
}
