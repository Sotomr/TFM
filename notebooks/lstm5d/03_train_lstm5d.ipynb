{
 "cells": [
  {
   "cell_type": "code",
   "execution_count": 7,
   "id": "56444a21-cea3-4d28-8db5-88555bf57a38",
   "metadata": {},
   "outputs": [
    {
     "name": "stdout",
     "output_type": "stream",
     "text": [
      "Datos brutos  ➜  X: (4455, 60, 81)   y: (4455, 40)\n"
     ]
    }
   ],
   "source": [
    "# ╔════════════════════════════════════════════════════════════════╗\n",
    "# 0 · IMPORTS Y SET-UP\n",
    "# ╚════════════════════════════════════════════════════════════════╝\n",
    "import sys, pathlib\n",
    "from pathlib import Path                      # ← NUEVO\n",
    "import numpy as np\n",
    "import pandas as pd\n",
    "import joblib\n",
    "from sklearn.preprocessing import StandardScaler\n",
    "import tensorflow as tf\n",
    "from tensorflow.keras import layers, models\n",
    "from tensorflow.keras.callbacks import EarlyStopping\n",
    "\n",
    "# ── ruta al proyecto ──────────────────────────────────────────────\n",
    "PROJECT_ROOT = pathlib.Path().resolve().parent.parent\n",
    "if str(PROJECT_ROOT) not in sys.path:\n",
    "    sys.path.insert(0, str(PROJECT_ROOT))\n",
    "\n",
    "from src import config as cfg       # ← tu módulo de configuración\n",
    "\n",
    "data       = joblib.load(cfg.DATA / \"processed\" / \"lstm5d_vix.pkl\")\n",
    "X, y       = data[\"X\"], data[\"y\"]              # shapes: (n_muestras, 60, 81) y (n_muestras, 40)\n",
    "fechas_X   = pd.to_datetime(data[\"dates\"])\n",
    "\n",
    "print(\"Datos brutos  ➜  X:\", X.shape, \"  y:\", y.shape)"
   ]
  },
  {
   "cell_type": "code",
   "execution_count": 9,
   "id": "e2ffb285-fa94-449f-860c-e05e15930e09",
   "metadata": {},
   "outputs": [
    {
     "name": "stdout",
     "output_type": "stream",
     "text": [
      "Train: (2091, 60, 81)  2012-08-15 00:00:00 → 2018-12-31 00:00:00\n",
      "Val  : (731, 60, 81)    2019-01-01 00:00:00 → 2020-12-31 00:00:00\n",
      "Test : (1633, 60, 81)   2021-01-01 00:00:00 → 2025-06-21 00:00:00\n"
     ]
    }
   ],
   "source": [
    "# ╔════════════════════════════════════════════════════════════════╗\n",
    "# 2 · SPLITS  (train / val / test)\n",
    "# ╚════════════════════════════════════════════════════════════════╝\n",
    "train_mask = fechas_X <  \"2019-01-01\"\n",
    "val_mask   = (fechas_X >= \"2019-01-01\") & (fechas_X < \"2021-01-01\")\n",
    "test_mask  = fechas_X >= \"2021-01-01\"\n",
    "\n",
    "X_train, y_train = X[train_mask], y[train_mask]\n",
    "X_val,   y_val   = X[val_mask ], y[val_mask ]\n",
    "X_test,  y_test  = X[test_mask ], y[test_mask ]\n",
    "\n",
    "fechas_train, fechas_val, fechas_test = fechas_X[train_mask], fechas_X[val_mask], fechas_X[test_mask]\n",
    "\n",
    "print(f\"Train: {X_train.shape}  {fechas_train.min()} → {fechas_train.max()}\")\n",
    "print(f\"Val  : {X_val.shape}    {fechas_val.min()} → {fechas_val.max()}\")\n",
    "print(f\"Test : {X_test.shape}   {fechas_test.min()} → {fechas_test.max()}\")"
   ]
  },
  {
   "cell_type": "code",
   "execution_count": 11,
   "id": "8bacdd30-04d6-44a5-aba5-49d1f3ca238d",
   "metadata": {},
   "outputs": [
    {
     "name": "stdout",
     "output_type": "stream",
     "text": [
      "Train limpio: (2084, 60, 81)\n"
     ]
    }
   ],
   "source": [
    "# ╔════════════════════════════════════════════════════════════════╗\n",
    "# 3 · LIMPIAR TRAIN DE NaNs / Inf\n",
    "# ╚════════════════════════════════════════════════════════════════╝\n",
    "mask_valid          = ~np.isnan(X_train).any(axis=(1, 2))\n",
    "X_train, y_train    = X_train[mask_valid], y_train[mask_valid]\n",
    "print(\"Train limpio:\", X_train.shape)\n"
   ]
  },
  {
   "cell_type": "code",
   "execution_count": 13,
   "id": "07871ae9-f33a-45c5-85d9-f5cd497ace88",
   "metadata": {},
   "outputs": [
    {
     "name": "stdout",
     "output_type": "stream",
     "text": [
      "✅ Escaladores guardados\n"
     ]
    }
   ],
   "source": [
    "# ╔════════════════════════════════════════════════════════════════╗\n",
    "# 4 · ESCALADO  (features y target)\n",
    "# ╚════════════════════════════════════════════════════════════════╝\n",
    "# ── Features (X) ─────────────────────────────────────────────────\n",
    "scaler_X = StandardScaler()\n",
    "\n",
    "X_train_scaled = scaler_X.fit_transform(X_train.reshape(-1, X_train.shape[2])) \\\n",
    "                         .reshape(X_train.shape)\n",
    "\n",
    "X_val_scaled  = scaler_X.transform(X_val.reshape(-1, X_val.shape[2])) \\\n",
    "                        .reshape(X_val.shape)\n",
    "\n",
    "X_test_scaled = scaler_X.transform(X_test.reshape(-1, X_test.shape[2])) \\\n",
    "                        .reshape(X_test.shape)\n",
    "\n",
    "# ── Target (y) ───────────────────────────────────────────────────\n",
    "scaler_y      = StandardScaler()\n",
    "y_train_scaled = scaler_y.fit_transform(y_train)\n",
    "y_val_scaled   = scaler_y.transform(y_val)\n",
    "y_test_scaled  = scaler_y.transform(y_test)\n",
    "\n",
    "# ── Guardar escaladores ─────────────────────────────────────────\n",
    "Path(cfg.MODELS).mkdir(parents=True, exist_ok=True)\n",
    "joblib.dump(scaler_X, cfg.MODELS / \"scaler_X_lstm5d_vix.pkl\")\n",
    "joblib.dump(scaler_y, cfg.MODELS / \"scaler_y_lstm5d_vix.pkl\")\n",
    "print(\"✅ Escaladores guardados\")"
   ]
  },
  {
   "cell_type": "code",
   "execution_count": 22,
   "id": "521e7e43-2674-4129-b36e-aedfe71252b2",
   "metadata": {},
   "outputs": [
    {
     "name": "stdout",
     "output_type": "stream",
     "text": [
      "✅ Todos los sets están limpios\n"
     ]
    }
   ],
   "source": [
    "# ╔═════════════════════════════════════════════════════════════╗\n",
    "# LIMPIEZA FINAL  ·  elimina filas con NaNs / Inf en X o y\n",
    "# ╚═════════════════════════════════════════════════════════════╝\n",
    "def _filtra_nan_inf(X_set, y_set, nombre):\n",
    "    mask =  np.isfinite(X_set).all(axis=(1, 2)) \\\n",
    "          & np.isfinite(y_set).all(axis=1)          # True si la fila es sana\n",
    "    n_drop = (~mask).sum()\n",
    "    if n_drop:\n",
    "        print(f\"⚠️  {nombre}: se descartan {n_drop} muestras con NaN/Inf\")\n",
    "    return X_set[mask], y_set[mask]\n",
    "\n",
    "X_train, y_train = _filtra_nan_inf(X_train, y_train, \"Train\")\n",
    "X_val,   y_val   = _filtra_nan_inf(X_val,   y_val,   \"Val\")\n",
    "X_test,  y_test  = _filtra_nan_inf(X_test,  y_test,  \"Test\")\n",
    "\n",
    "# Verifica que ya está limpio\n",
    "assert np.isfinite(X_train).all() and np.isfinite(y_train).all(), \"Train aún tiene NaN/Inf\"\n",
    "assert np.isfinite(X_val  ).all() and np.isfinite(y_val  ).all(), \"Val   aún tiene NaN/Inf\"\n",
    "assert np.isfinite(X_test ).all() and np.isfinite(y_test ).all(), \"Test  aún tiene NaN/Inf\"\n",
    "print(\"✅ Todos los sets están limpios\")\n"
   ]
  },
  {
   "cell_type": "code",
   "execution_count": 15,
   "id": "a28d871a-b256-4f2e-bfbf-aef1132e0357",
   "metadata": {},
   "outputs": [
    {
     "data": {
      "text/html": [
       "<pre style=\"white-space:pre;overflow-x:auto;line-height:normal;font-family:Menlo,'DejaVu Sans Mono',consolas,'Courier New',monospace\"><span style=\"font-weight: bold\">Model: \"sequential\"</span>\n",
       "</pre>\n"
      ],
      "text/plain": [
       "\u001b[1mModel: \"sequential\"\u001b[0m\n"
      ]
     },
     "metadata": {},
     "output_type": "display_data"
    },
    {
     "data": {
      "text/html": [
       "<pre style=\"white-space:pre;overflow-x:auto;line-height:normal;font-family:Menlo,'DejaVu Sans Mono',consolas,'Courier New',monospace\">┏━━━━━━━━━━━━━━━━━━━━━━━━━━━━━━━━━┳━━━━━━━━━━━━━━━━━━━━━━━━┳━━━━━━━━━━━━━━━┓\n",
       "┃<span style=\"font-weight: bold\"> Layer (type)                    </span>┃<span style=\"font-weight: bold\"> Output Shape           </span>┃<span style=\"font-weight: bold\">       Param # </span>┃\n",
       "┡━━━━━━━━━━━━━━━━━━━━━━━━━━━━━━━━━╇━━━━━━━━━━━━━━━━━━━━━━━━╇━━━━━━━━━━━━━━━┩\n",
       "│ lstm (<span style=\"color: #0087ff; text-decoration-color: #0087ff\">LSTM</span>)                     │ (<span style=\"color: #00d7ff; text-decoration-color: #00d7ff\">None</span>, <span style=\"color: #00af00; text-decoration-color: #00af00\">60</span>, <span style=\"color: #00af00; text-decoration-color: #00af00\">64</span>)         │        <span style=\"color: #00af00; text-decoration-color: #00af00\">37,120</span> │\n",
       "├─────────────────────────────────┼────────────────────────┼───────────────┤\n",
       "│ dropout (<span style=\"color: #0087ff; text-decoration-color: #0087ff\">Dropout</span>)               │ (<span style=\"color: #00d7ff; text-decoration-color: #00d7ff\">None</span>, <span style=\"color: #00af00; text-decoration-color: #00af00\">60</span>, <span style=\"color: #00af00; text-decoration-color: #00af00\">64</span>)         │             <span style=\"color: #00af00; text-decoration-color: #00af00\">0</span> │\n",
       "├─────────────────────────────────┼────────────────────────┼───────────────┤\n",
       "│ lstm_1 (<span style=\"color: #0087ff; text-decoration-color: #0087ff\">LSTM</span>)                   │ (<span style=\"color: #00d7ff; text-decoration-color: #00d7ff\">None</span>, <span style=\"color: #00af00; text-decoration-color: #00af00\">32</span>)             │        <span style=\"color: #00af00; text-decoration-color: #00af00\">12,416</span> │\n",
       "├─────────────────────────────────┼────────────────────────┼───────────────┤\n",
       "│ dense (<span style=\"color: #0087ff; text-decoration-color: #0087ff\">Dense</span>)                   │ (<span style=\"color: #00d7ff; text-decoration-color: #00d7ff\">None</span>, <span style=\"color: #00af00; text-decoration-color: #00af00\">40</span>)             │         <span style=\"color: #00af00; text-decoration-color: #00af00\">1,320</span> │\n",
       "└─────────────────────────────────┴────────────────────────┴───────────────┘\n",
       "</pre>\n"
      ],
      "text/plain": [
       "┏━━━━━━━━━━━━━━━━━━━━━━━━━━━━━━━━━┳━━━━━━━━━━━━━━━━━━━━━━━━┳━━━━━━━━━━━━━━━┓\n",
       "┃\u001b[1m \u001b[0m\u001b[1mLayer (type)                   \u001b[0m\u001b[1m \u001b[0m┃\u001b[1m \u001b[0m\u001b[1mOutput Shape          \u001b[0m\u001b[1m \u001b[0m┃\u001b[1m \u001b[0m\u001b[1m      Param #\u001b[0m\u001b[1m \u001b[0m┃\n",
       "┡━━━━━━━━━━━━━━━━━━━━━━━━━━━━━━━━━╇━━━━━━━━━━━━━━━━━━━━━━━━╇━━━━━━━━━━━━━━━┩\n",
       "│ lstm (\u001b[38;5;33mLSTM\u001b[0m)                     │ (\u001b[38;5;45mNone\u001b[0m, \u001b[38;5;34m60\u001b[0m, \u001b[38;5;34m64\u001b[0m)         │        \u001b[38;5;34m37,120\u001b[0m │\n",
       "├─────────────────────────────────┼────────────────────────┼───────────────┤\n",
       "│ dropout (\u001b[38;5;33mDropout\u001b[0m)               │ (\u001b[38;5;45mNone\u001b[0m, \u001b[38;5;34m60\u001b[0m, \u001b[38;5;34m64\u001b[0m)         │             \u001b[38;5;34m0\u001b[0m │\n",
       "├─────────────────────────────────┼────────────────────────┼───────────────┤\n",
       "│ lstm_1 (\u001b[38;5;33mLSTM\u001b[0m)                   │ (\u001b[38;5;45mNone\u001b[0m, \u001b[38;5;34m32\u001b[0m)             │        \u001b[38;5;34m12,416\u001b[0m │\n",
       "├─────────────────────────────────┼────────────────────────┼───────────────┤\n",
       "│ dense (\u001b[38;5;33mDense\u001b[0m)                   │ (\u001b[38;5;45mNone\u001b[0m, \u001b[38;5;34m40\u001b[0m)             │         \u001b[38;5;34m1,320\u001b[0m │\n",
       "└─────────────────────────────────┴────────────────────────┴───────────────┘\n"
      ]
     },
     "metadata": {},
     "output_type": "display_data"
    },
    {
     "data": {
      "text/html": [
       "<pre style=\"white-space:pre;overflow-x:auto;line-height:normal;font-family:Menlo,'DejaVu Sans Mono',consolas,'Courier New',monospace\"><span style=\"font-weight: bold\"> Total params: </span><span style=\"color: #00af00; text-decoration-color: #00af00\">50,856</span> (198.66 KB)\n",
       "</pre>\n"
      ],
      "text/plain": [
       "\u001b[1m Total params: \u001b[0m\u001b[38;5;34m50,856\u001b[0m (198.66 KB)\n"
      ]
     },
     "metadata": {},
     "output_type": "display_data"
    },
    {
     "data": {
      "text/html": [
       "<pre style=\"white-space:pre;overflow-x:auto;line-height:normal;font-family:Menlo,'DejaVu Sans Mono',consolas,'Courier New',monospace\"><span style=\"font-weight: bold\"> Trainable params: </span><span style=\"color: #00af00; text-decoration-color: #00af00\">50,856</span> (198.66 KB)\n",
       "</pre>\n"
      ],
      "text/plain": [
       "\u001b[1m Trainable params: \u001b[0m\u001b[38;5;34m50,856\u001b[0m (198.66 KB)\n"
      ]
     },
     "metadata": {},
     "output_type": "display_data"
    },
    {
     "data": {
      "text/html": [
       "<pre style=\"white-space:pre;overflow-x:auto;line-height:normal;font-family:Menlo,'DejaVu Sans Mono',consolas,'Courier New',monospace\"><span style=\"font-weight: bold\"> Non-trainable params: </span><span style=\"color: #00af00; text-decoration-color: #00af00\">0</span> (0.00 B)\n",
       "</pre>\n"
      ],
      "text/plain": [
       "\u001b[1m Non-trainable params: \u001b[0m\u001b[38;5;34m0\u001b[0m (0.00 B)\n"
      ]
     },
     "metadata": {},
     "output_type": "display_data"
    },
    {
     "name": "stdout",
     "output_type": "stream",
     "text": [
      "Epoch 1/50\n",
      "\u001b[1m66/66\u001b[0m \u001b[32m━━━━━━━━━━━━━━━━━━━━\u001b[0m\u001b[37m\u001b[0m \u001b[1m7s\u001b[0m 62ms/step - loss: 0.9956 - val_loss: 2.0562\n",
      "Epoch 2/50\n",
      "\u001b[1m66/66\u001b[0m \u001b[32m━━━━━━━━━━━━━━━━━━━━\u001b[0m\u001b[37m\u001b[0m \u001b[1m4s\u001b[0m 62ms/step - loss: 0.9003 - val_loss: 2.1060\n",
      "Epoch 3/50\n",
      "\u001b[1m66/66\u001b[0m \u001b[32m━━━━━━━━━━━━━━━━━━━━\u001b[0m\u001b[37m\u001b[0m \u001b[1m4s\u001b[0m 66ms/step - loss: 0.8503 - val_loss: 2.1275\n",
      "Epoch 4/50\n",
      "\u001b[1m66/66\u001b[0m \u001b[32m━━━━━━━━━━━━━━━━━━━━\u001b[0m\u001b[37m\u001b[0m \u001b[1m4s\u001b[0m 64ms/step - loss: 0.7667 - val_loss: 2.1576\n",
      "Epoch 5/50\n",
      "\u001b[1m66/66\u001b[0m \u001b[32m━━━━━━━━━━━━━━━━━━━━\u001b[0m\u001b[37m\u001b[0m \u001b[1m4s\u001b[0m 60ms/step - loss: 0.7336 - val_loss: 2.1756\n",
      "Epoch 6/50\n",
      "\u001b[1m66/66\u001b[0m \u001b[32m━━━━━━━━━━━━━━━━━━━━\u001b[0m\u001b[37m\u001b[0m \u001b[1m4s\u001b[0m 64ms/step - loss: 0.6802 - val_loss: 2.1947\n"
     ]
    }
   ],
   "source": [
    "model = models.Sequential([\n",
    "    layers.Input(shape=(cfg.WINDOW, X_train.shape[2])),   # 60 × 80\n",
    "    layers.LSTM(64, return_sequences=True),\n",
    "    layers.Dropout(0.2),\n",
    "    layers.LSTM(32),\n",
    "    layers.Dense(y.shape[1])                              # 40 salidas\n",
    "])\n",
    "\n",
    "model.compile(optimizer=tf.keras.optimizers.Adam(1e-3), loss=\"mse\")\n",
    "model.summary()\n",
    "\n",
    "early_stop = EarlyStopping(patience=5, restore_best_weights=True)\n",
    "\n",
    "history = model.fit(\n",
    "    X_train_scaled, y_train_scaled,\n",
    "    validation_data=(X_val_scaled, y_val_scaled),\n",
    "    epochs=50,\n",
    "    batch_size=32,\n",
    "    callbacks=[early_stop],\n",
    "    verbose=1\n",
    ")\n"
   ]
  },
  {
   "cell_type": "code",
   "execution_count": 17,
   "id": "d00425cf-7cc9-4b33-b2d7-d662065583c5",
   "metadata": {},
   "outputs": [
    {
     "name": "stdout",
     "output_type": "stream",
     "text": [
      "✅ Modelo guardado\n",
      "RMSE medio: 1.1982268\n"
     ]
    }
   ],
   "source": [
    "model.save(cfg.MODELS / \"lstm5d_vix.keras\")\n",
    "print(\"✅ Modelo guardado\")\n",
    "joblib.dump(history.history, cfg.RESULT / \"history_lstm5d_vix.pkl\")\n",
    "\n",
    "y_pred      = model.predict(X_test_scaled, verbose=0)\n",
    "rmse_vec    = np.sqrt(((y_test_scaled - y_pred) ** 2).mean(axis=0))\n",
    "rmse_mean   = rmse_vec.mean()\n",
    "\n",
    "joblib.dump(\n",
    "    {\"rmse_by_asset\": rmse_vec, \"rmse_mean\": rmse_mean},\n",
    "    cfg.RESULT / \"rmse_lstm5d_vix.pkl\"\n",
    ")\n",
    "print(\"RMSE medio:\", rmse_mean)"
   ]
  },
  {
   "cell_type": "code",
   "execution_count": null,
   "id": "185eccfe-162d-43b5-97b4-87bc44805048",
   "metadata": {},
   "outputs": [],
   "source": []
  },
  {
   "cell_type": "code",
   "execution_count": null,
   "id": "c962418c-a493-4d7e-91e4-e3d93765e16e",
   "metadata": {},
   "outputs": [],
   "source": []
  },
  {
   "cell_type": "code",
   "execution_count": null,
   "id": "56ebebf4-7f04-4374-8d23-867f2eee72c4",
   "metadata": {},
   "outputs": [],
   "source": []
  },
  {
   "cell_type": "code",
   "execution_count": null,
   "id": "c15a63f9-7092-45f3-ba3f-71b9362e5d2d",
   "metadata": {},
   "outputs": [],
   "source": []
  },
  {
   "cell_type": "code",
   "execution_count": null,
   "id": "9fbe61a1-84d5-4e25-aa36-24fac223dc26",
   "metadata": {},
   "outputs": [],
   "source": []
  },
  {
   "cell_type": "markdown",
   "id": "3dcaaa90-cb39-4925-8e29-7e38e8b58852",
   "metadata": {},
   "source": [
    "El valor de RMSE medio obtenido (1.03) se justifica por la mayor complejidad del modelo LSTM al trabajar con ventanas de 60 días y 80 variables por muestra, lo cual introduce alta dimensionalidad y mayor varianza en los errores. Aunque el rendimiento es inferior al de otras configuraciones con menos variables (RMSE ≈ 0.14), este modelo captura dinámicas más ricas, lo que puede resultar valioso al combinarse con métodos evolutivos en la fase de optimización de carteras."
   ]
  },
  {
   "cell_type": "code",
   "execution_count": null,
   "id": "9ebc9fca-f715-4586-a4de-620d0ec4ddbb",
   "metadata": {},
   "outputs": [],
   "source": []
  }
 ],
 "metadata": {
  "kernelspec": {
   "display_name": "TFM (tfmm)",
   "language": "python",
   "name": "tfmm"
  },
  "language_info": {
   "codemirror_mode": {
    "name": "ipython",
    "version": 3
   },
   "file_extension": ".py",
   "mimetype": "text/x-python",
   "name": "python",
   "nbconvert_exporter": "python",
   "pygments_lexer": "ipython3",
   "version": "3.11.0"
  }
 },
 "nbformat": 4,
 "nbformat_minor": 5
}
