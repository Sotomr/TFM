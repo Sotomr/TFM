{
 "cells": [
  {
   "cell_type": "code",
   "execution_count": 74,
   "id": "c77e2c0c-663c-40e5-a25d-8028fcb2d746",
   "metadata": {},
   "outputs": [
    {
     "name": "stdout",
     "output_type": "stream",
     "text": [
      "🟢 Se cargaron 40 tickers:\n",
      "['AAPL', 'MSFT', 'GOOGL', 'NVDA', 'META', 'AMZN', 'TSLA', 'JPM', 'JNJ', 'V', 'PG', 'PEP', 'KO', 'MA', 'UNH', 'HD', 'BAC', 'MRK', 'DIS', 'XOM', 'VZ', 'PFE', 'CSCO', 'WMT', 'ABT', 'NFLX', 'ADBE', 'CRM', 'T', 'INTC', 'COST', 'MCD', 'WFC', 'IBM', 'ORCL', 'NKE', 'LIN', 'CVX', 'BTC-USD', 'ETH-USD']\n"
     ]
    }
   ],
   "source": [
    "from pathlib import Path\n",
    "# Añadir carpeta raíz del proyecto al path\n",
    "import sys, pathlib\n",
    "PROJECT_ROOT = pathlib.Path().resolve().parent\n",
    "if str(PROJECT_ROOT) not in sys.path:\n",
    "    sys.path.insert(0, str(PROJECT_ROOT))\n",
    "from src import config as cfg\n",
    "\n",
    "#import importlib\n",
    "#importlib.reload(cfg)\n",
    "\n",
    "ruta_tickers = cfg.DATA / \"raw\" / \"tickers.txt\"\n",
    "\n",
    "if ruta_tickers.exists():\n",
    "    with open(ruta_tickers, \"r\") as f:\n",
    "        tickers = [line.strip() for line in f if line.strip()]\n",
    "    print(\"🟢 Se cargaron\", len(tickers), \"tickers:\")\n",
    "    print(tickers)\n",
    "else:\n",
    "    print(\"❌ Archivo no encontrado:\", ruta_tickers.resolve())\n",
    "\n"
   ]
  },
  {
   "cell_type": "code",
   "execution_count": 76,
   "id": "76aaf019-c783-4150-90c7-1a14bcbd79e2",
   "metadata": {},
   "outputs": [
    {
     "name": "stdout",
     "output_type": "stream",
     "text": [
      "ℹ️ Se rellenaron los NaN anteriores a 2014-09-17 en BTC-USD con valor 1.0\n",
      "ℹ️ Se rellenaron los NaN anteriores a 2017-11-09 en ETH-USD con valor 1.0\n",
      "✅ Datos descargados con forma: (5120, 40)\n"
     ]
    }
   ],
   "source": [
    "import yfinance as yf\n",
    "import pandas as pd\n",
    "\n",
    "# Descargar todos los tickers\n",
    "df = yf.download(\n",
    "    tickers,\n",
    "    start=\"2010-01-01\",\n",
    "    auto_adjust=False,   # controlas tú la columna ajustada\n",
    "    progress=False\n",
    ")\n",
    "\n",
    "# Extraer precios ajustados correctamente\n",
    "if \"Adj Close\" in df.columns.get_level_values(0):\n",
    "    df_close = df[\"Adj Close\"]\n",
    "else:\n",
    "    df_close = df[\"Close\"]\n",
    "\n",
    "# Relleno específico para criptomonedas (BTC y ETH)\n",
    "for ticker in [\"BTC-USD\", \"ETH-USD\"]:\n",
    "    if ticker in df_close.columns:\n",
    "        first_valid = df_close[ticker].first_valid_index()\n",
    "        if first_valid:\n",
    "            # Rellenar solo ANTES del primer valor real\n",
    "            df_close.loc[:first_valid, ticker] = df_close.loc[:first_valid, ticker].fillna(1.0)\n",
    "            print(f\"ℹ️ Se rellenaron los NaN anteriores a {first_valid.date()} en {ticker} con valor 1.0\")\n",
    "\n",
    "print(\"✅ Datos descargados con forma:\", df_close.shape)\n",
    "\n"
   ]
  },
  {
   "cell_type": "code",
   "execution_count": 78,
   "id": "0c4987ad-4739-41da-8200-463ff52a4dac",
   "metadata": {},
   "outputs": [
    {
     "name": "stdout",
     "output_type": "stream",
     "text": [
      "✅ Archivo guardado en: C:\\Users\\ferra\\Documents\\TFM\\data\\raw\\prices.parquet\n"
     ]
    }
   ],
   "source": [
    "from src import config as cfg\n",
    "\n",
    "# Asegura la carpeta raw (data/raw)\n",
    "(cfg.DATA / \"raw\").mkdir(parents=True, exist_ok=True)\n",
    "\n",
    "# Guardar precios de cierre en formato parquet\n",
    "df_close.to_parquet(cfg.DATA / \"raw\" / \"prices.parquet\")\n",
    "\n",
    "print(\"✅ Archivo guardado en:\", cfg.DATA / \"raw\" / \"prices.parquet\")"
   ]
  },
  {
   "cell_type": "code",
   "execution_count": 87,
   "id": "79e76067-87ea-4cf9-92fd-f1b3be923645",
   "metadata": {},
   "outputs": [
    {
     "name": "stdout",
     "output_type": "stream",
     "text": [
      "✅ VIX guardado en: C:\\Users\\ferra\\Documents\\TFM\\data\\raw\\vix.parquet\n"
     ]
    }
   ],
   "source": [
    "# ----------------------------------------------------------\n",
    "# Descargar VIX (volatilidad implícita del S&P500)\n",
    "# ----------------------------------------------------------\n",
    "vix = yf.download(\"^VIX\", start=\"2010-01-01\", auto_adjust=False, progress=False)[\"Adj Close\"]\n",
    "vix.name = \"VIX\"\n",
    "vix = vix.ffill()\n",
    "vix.to_parquet(cfg.DATA / \"raw\" / \"vix.parquet\")\n",
    "print(\"✅ VIX guardado en:\", cfg.DATA / \"raw\" / \"vix.parquet\")\n"
   ]
  },
  {
   "cell_type": "code",
   "execution_count": 97,
   "id": "515ec688-f3a4-470a-a1a4-a8ec612f594a",
   "metadata": {},
   "outputs": [
    {
     "name": "stderr",
     "output_type": "stream",
     "text": [
      "C:\\Users\\ferra\\AppData\\Local\\Temp\\ipykernel_21476\\2785725318.py:4: FutureWarning: YF.download() has changed argument auto_adjust default to True\n",
      "  raw_irx = yf.download(\"^IRX\", start=\"2010-01-01\", progress=False)\n"
     ]
    },
    {
     "name": "stdout",
     "output_type": "stream",
     "text": [
      "✅ FedFunds guardado en: C:\\Users\\ferra\\Documents\\TFM\\data\\raw\\fedfunds.parquet\n"
     ]
    }
   ],
   "source": [
    "# ----------------------------------------------------------\n",
    "# Tipos de interés a corto plazo (opcional)\n",
    "# ----------------------------------------------------------\n",
    "raw_irx = yf.download(\"^IRX\", start=\"2010-01-01\", progress=False)\n",
    "irx = raw_irx[\"Adj Close\"] if \"Adj Close\" in raw_irx.columns else raw_irx[\"Close\"]\n",
    "irx.name = \"IRX\"\n",
    "irx = irx.ffill()\n",
    "irx.to_parquet(cfg.DATA / \"raw\" / \"fedfunds.parquet\")\n",
    "print(\"✅ FedFunds guardado en:\", cfg.DATA / \"raw\" / \"fedfunds.parquet\")\n"
   ]
  },
  {
   "cell_type": "code",
   "execution_count": null,
   "id": "0e5bbd5f-85a9-4466-a907-7c42a6668555",
   "metadata": {},
   "outputs": [],
   "source": []
  }
 ],
 "metadata": {
  "kernelspec": {
   "display_name": "TFM (tfmm)",
   "language": "python",
   "name": "tfmm"
  },
  "language_info": {
   "codemirror_mode": {
    "name": "ipython",
    "version": 3
   },
   "file_extension": ".py",
   "mimetype": "text/x-python",
   "name": "python",
   "nbconvert_exporter": "python",
   "pygments_lexer": "ipython3",
   "version": "3.11.0"
  }
 },
 "nbformat": 4,
 "nbformat_minor": 5
}
