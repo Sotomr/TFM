{
 "cells": [
  {
   "cell_type": "code",
   "execution_count": 2,
   "id": "f33f31ad-a9ec-45c8-9375-2062ddc3f03f",
   "metadata": {},
   "outputs": [
    {
     "name": "stdout",
     "output_type": "stream",
     "text": [
      "✅ Precios cargados con shape: (5120, 40)\n"
     ]
    }
   ],
   "source": [
    "# ─── Importaciones base ─────────────────────────────\n",
    "import sys, pathlib\n",
    "PROJECT_ROOT = pathlib.Path().resolve().parent\n",
    "if str(PROJECT_ROOT) not in sys.path:\n",
    "    sys.path.insert(0, str(PROJECT_ROOT))\n",
    "\n",
    "from src import config as cfg\n",
    "\n",
    "import pandas as pd\n",
    "import numpy as np\n",
    "import joblib\n",
    "from sklearn.preprocessing import StandardScaler\n",
    "\n",
    "# ─── Cargar precios ─────────────────────────────────\n",
    "df_prices = pd.read_parquet(cfg.DATA / \"raw\" / \"prices.parquet\").sort_index()\n",
    "\n",
    "print(\"✅ Precios cargados con shape:\", df_prices.shape)\n"
   ]
  },
  {
   "cell_type": "code",
   "execution_count": 4,
   "id": "b4ce7d76-df40-48e4-9cdc-46bca0e1e4ee",
   "metadata": {},
   "outputs": [
    {
     "name": "stdout",
     "output_type": "stream",
     "text": [
      "✅ Fechas válidas: (3894, 40)\n"
     ]
    }
   ],
   "source": [
    "min_valid_assets = int(df_prices.shape[1] * 0.8)\n",
    "df_filtered = df_prices.dropna(thresh=min_valid_assets)\n",
    "\n",
    "print(\"✅ Fechas válidas:\", df_filtered.shape)\n"
   ]
  },
  {
   "cell_type": "code",
   "execution_count": 6,
   "id": "a820d290-7c5a-4080-bc1a-1196f4d7c512",
   "metadata": {},
   "outputs": [
    {
     "name": "stdout",
     "output_type": "stream",
     "text": [
      "❌ Activos eliminados por huecos excesivos: []\n",
      "✅ Sin huecos graves. Dimensión final: (3894, 40)\n"
     ]
    }
   ],
   "source": [
    "# Forward-fill + back-fill en festivos\n",
    "df_filled = df_filtered.ffill(limit=5).bfill(limit=5)\n",
    "\n",
    "# Eliminar activos con muchos huecos (>17%)\n",
    "min_valid_rows = int(len(df_filled) * 0.83)\n",
    "df_filled = df_filled.dropna(axis=1, thresh=min_valid_rows)\n",
    "\n",
    "tickers_original = df_prices.columns.tolist()\n",
    "tickers_final    = df_filled.columns.tolist()\n",
    "tickers_dropped  = list(set(tickers_original) - set(tickers_final))\n",
    "\n",
    "print(\"❌ Activos eliminados por huecos excesivos:\", tickers_dropped)\n",
    "\n",
    "print(\"✅ Sin huecos graves. Dimensión final:\", df_filled.shape)\n"
   ]
  },
  {
   "cell_type": "code",
   "execution_count": 8,
   "id": "8bd21d3c-0fff-496d-9112-456c6f10fea9",
   "metadata": {},
   "outputs": [
    {
     "name": "stdout",
     "output_type": "stream",
     "text": [
      "✅ Retornos calculados: (3299, 40)\n",
      "✅ Datos normalizados (media ≈ 0, std ≈ 1)\n"
     ]
    }
   ],
   "source": [
    "df_ret = np.log(df_filled / df_filled.shift(1)).dropna()\n",
    "print(\"✅ Retornos calculados:\", df_ret.shape)\n",
    "\n",
    "scaler = StandardScaler()\n",
    "df_scaled = pd.DataFrame(\n",
    "    scaler.fit_transform(df_ret),\n",
    "    index=df_ret.index,\n",
    "    columns=df_ret.columns\n",
    ")\n",
    "\n",
    "print(\"✅ Datos normalizados (media ≈ 0, std ≈ 1)\")\n",
    "\n"
   ]
  },
  {
   "cell_type": "code",
   "execution_count": 10,
   "id": "603a99c7-2c51-40e4-9298-4c230b6eb0fb",
   "metadata": {},
   "outputs": [
    {
     "data": {
      "text/plain": [
       "['C:\\\\Users\\\\ferra\\\\Documents\\\\TFM\\\\data\\\\processed\\\\ret_scaler.pkl']"
      ]
     },
     "execution_count": 10,
     "metadata": {},
     "output_type": "execute_result"
    }
   ],
   "source": [
    "joblib.dump(scaler, cfg.DATA / \"processed\" / \"ret_scaler.pkl\")"
   ]
  },
  {
   "cell_type": "code",
   "execution_count": 12,
   "id": "d3f5e5c5-57c1-4c42-ab03-56a75c2011d4",
   "metadata": {},
   "outputs": [
    {
     "name": "stdout",
     "output_type": "stream",
     "text": [
      "✅ Tensores generados: X: (1609, 60, 40) | y: (1609, 40)\n"
     ]
    }
   ],
   "source": [
    "# Cortar temporalmente el DataFrame hasta 2018-12-31\n",
    "df_ret = df_ret[df_ret.index < \"2019-01-01\"]\n",
    "df_scaled = df_scaled.loc[df_ret.index]  # mantener misma ventana\n",
    "\n",
    "X, y = [], []\n",
    "WINDOW = cfg.WINDOW\n",
    "HORIZON = cfg.TARGET_HORIZON\n",
    "\n",
    "vals = df_scaled.values\n",
    "targets = df_ret.values  # sin escalar\n",
    "\n",
    "for i in range(WINDOW, len(vals) - HORIZON + 1):\n",
    "    X.append(vals[i - WINDOW:i])\n",
    "    y.append(targets[i + HORIZON - 1])\n",
    "\n",
    "import numpy as np\n",
    "X = np.array(X, dtype=np.float32)\n",
    "y = np.array(y, dtype=np.float32)\n",
    "\n",
    "print(\"✅ Tensores generados:\", \"X:\", X.shape, \"| y:\", y.shape)"
   ]
  },
  {
   "cell_type": "code",
   "execution_count": 14,
   "id": "e91dfc8b-d178-46bd-9a74-9f1463a74536",
   "metadata": {},
   "outputs": [
    {
     "name": "stdout",
     "output_type": "stream",
     "text": [
      "✅ Datos listos y guardados en: C:\\Users\\ferra\\Documents\\TFM\\data\\processed\\lstm_data.pkl\n"
     ]
    }
   ],
   "source": [
    "joblib.dump({\"X\": X, \"y\": y, \"tickers\": df_ret.columns.tolist()},\n",
    "            cfg.DATA / \"processed\" / \"lstm_data.pkl\")\n",
    "\n",
    "print(\"✅ Datos listos y guardados en:\", cfg.DATA / \"processed\" / \"lstm_data.pkl\")\n"
   ]
  },
  {
   "cell_type": "code",
   "execution_count": null,
   "id": "2bd237a4-a21d-47c6-8e82-3d72dec4c09c",
   "metadata": {},
   "outputs": [],
   "source": []
  }
 ],
 "metadata": {
  "kernelspec": {
   "display_name": "TFM (tfmm)",
   "language": "python",
   "name": "tfmm"
  },
  "language_info": {
   "codemirror_mode": {
    "name": "ipython",
    "version": 3
   },
   "file_extension": ".py",
   "mimetype": "text/x-python",
   "name": "python",
   "nbconvert_exporter": "python",
   "pygments_lexer": "ipython3",
   "version": "3.11.0"
  }
 },
 "nbformat": 4,
 "nbformat_minor": 5
}
