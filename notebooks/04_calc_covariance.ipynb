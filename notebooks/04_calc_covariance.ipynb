{
 "cells": [
  {
   "cell_type": "code",
   "execution_count": 2,
   "id": "60e9515c-5591-4c02-95b6-50f842a30545",
   "metadata": {},
   "outputs": [
    {
     "name": "stdout",
     "output_type": "stream",
     "text": [
      "✅ Retornos calculados: (1489, 40)\n"
     ]
    }
   ],
   "source": [
    "import pandas as pd\n",
    "import numpy as np\n",
    "\n",
    "# Cargar precios (ya limpios) desde parquet\n",
    "df_prices = pd.read_parquet(\"../data/raw/prices.parquet\").sort_index()\n",
    "\n",
    "# Calcular retornos logarítmicos\n",
    "df_ret = (df_prices / df_prices.shift(1)).apply(np.log).dropna()\n",
    "\n",
    "print(\"✅ Retornos calculados:\", df_ret.shape)\n"
   ]
  },
  {
   "cell_type": "code",
   "execution_count": 4,
   "id": "529f1fde-f440-402f-8c3b-22b9b9552f00",
   "metadata": {},
   "outputs": [
    {
     "name": "stdout",
     "output_type": "stream",
     "text": [
      "Ventana usada: 2025-02-26 00:00:00 → 2025-06-12 00:00:00\n"
     ]
    }
   ],
   "source": [
    "# Extrae los últimos 60 días para simular rebalanceo actual\n",
    "window = df_ret.iloc[-60:]\n",
    "print(\"Ventana usada:\", window.index[0], \"→\", window.index[-1])\n"
   ]
  },
  {
   "cell_type": "code",
   "execution_count": 6,
   "id": "73c751db-2c99-48b8-b96b-0a8e0a0d8b70",
   "metadata": {},
   "outputs": [
    {
     "name": "stdout",
     "output_type": "stream",
     "text": [
      "✅ Matriz Σ calculada con shape: (40, 40)\n"
     ]
    }
   ],
   "source": [
    "from sklearn.covariance import LedoitWolf\n",
    "\n",
    "# Convertir a numpy array\n",
    "X = window.values\n",
    "\n",
    "# Ajustar el modelo y obtener matriz Σ\n",
    "lw = LedoitWolf().fit(X)\n",
    "Sigma = lw.covariance_\n",
    "\n",
    "print(\"✅ Matriz Σ calculada con shape:\", Sigma.shape)\n"
   ]
  },
  {
   "cell_type": "code",
   "execution_count": 8,
   "id": "be8646ed-fb50-4f20-9925-4c900a970364",
   "metadata": {},
   "outputs": [
    {
     "name": "stdout",
     "output_type": "stream",
     "text": [
      "✅ Σ guardada en data/processed/covariance_last60d.pkl\n"
     ]
    }
   ],
   "source": [
    "import joblib\n",
    "from pathlib import Path\n",
    "\n",
    "Path(\"../data/processed\").mkdir(parents=True, exist_ok=True)\n",
    "\n",
    "joblib.dump(Sigma, \"../data/processed/covariance_last60d.pkl\")\n",
    "print(\"✅ Σ guardada en data/processed/covariance_last60d.pkl\")\n"
   ]
  },
  {
   "cell_type": "code",
   "execution_count": null,
   "id": "cf4db961-cd5b-4f7a-8137-88c1bbeb1447",
   "metadata": {},
   "outputs": [],
   "source": []
  }
 ],
 "metadata": {
  "kernelspec": {
   "display_name": "TFM (tfmm)",
   "language": "python",
   "name": "tfmm"
  },
  "language_info": {
   "codemirror_mode": {
    "name": "ipython",
    "version": 3
   },
   "file_extension": ".py",
   "mimetype": "text/x-python",
   "name": "python",
   "nbconvert_exporter": "python",
   "pygments_lexer": "ipython3",
   "version": "3.11.0"
  }
 },
 "nbformat": 4,
 "nbformat_minor": 5
}
