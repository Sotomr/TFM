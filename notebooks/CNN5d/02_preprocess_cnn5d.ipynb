{
 "cells": [
  {
   "cell_type": "code",
   "execution_count": 3,
   "id": "e0ad8c09-a994-44a6-a6da-f640b9bebe91",
   "metadata": {},
   "outputs": [
    {
     "name": "stdout",
     "output_type": "stream",
     "text": [
      "✅ X shape : (4450, 60, 40, 2)\n",
      "✅ y shape : (4450, 40)\n",
      "✅ Fechas  : 2012-08-22 → 2025-06-21\n"
     ]
    }
   ],
   "source": [
    "# ───────────────────────────────────────────────────────────────────────────────\n",
    "# PREPROCESS CNN-5d\n",
    "# ───────────────────────────────────────────────────────────────────────────────\n",
    "import sys, pathlib, joblib, pandas as pd, numpy as np\n",
    "\n",
    "PROJECT_ROOT = pathlib.Path().resolve().parent.parent\n",
    "if str(PROJECT_ROOT) not in sys.path:\n",
    "    sys.path.insert(0, str(PROJECT_ROOT))\n",
    "\n",
    "from src import config as cfg      # contiene WINDOW, rutas, etc.\n",
    "\n",
    "# 1) Precios limpitos ──────────────────────────────────────────────────────────\n",
    "df = (\n",
    "    pd.read_parquet(cfg.DATA / \"raw\" / \"prices.parquet\")\n",
    "      .ffill()\n",
    "      .dropna()\n",
    ")\n",
    "n_assets = df.shape[1]\n",
    "\n",
    "# 2) Retornos y features --------------------------------------------------------\n",
    "ret      = np.log(df / df.shift(1)).dropna()          # r₁d\n",
    "ret5     = ret.rolling(5).sum()                       # r₅d pasado\n",
    "vol5     = ret.rolling(5).std()\n",
    "momentum = (ret5 / (vol5 + 1e-6)).clip(-10, 10)\n",
    "\n",
    "# 3) Target: retorno 5-días futuro  →  escala “por-día” -------------------------\n",
    "y_future = (ret5.shift(-5) / 5.0).dropna()            #  r̂ ≈ r_diario futuro\n",
    "\n",
    "# 4) Desfase de 1 día en features (no mirar el futuro) --------------------------\n",
    "ret      = ret.shift(1).reindex(y_future.index)\n",
    "momentum = momentum.shift(1).reindex(y_future.index)\n",
    "\n",
    "# 5) Ventanas deslizadas  (shape = N,W,n_assets,2) ------------------------------\n",
    "X, y_out, fechas = [], [], []\n",
    "\n",
    "for i in range(cfg.WINDOW, len(y_future)):\n",
    "    win_ret = ret.iloc[i - cfg.WINDOW : i].values      # (W, n_assets)\n",
    "    win_mom = momentum.iloc[i - cfg.WINDOW : i].values # (W, n_assets)\n",
    "    bloque  = np.stack([win_ret, win_mom], axis=-1)    # (W, n_assets, 2)\n",
    "\n",
    "    if not np.isnan(bloque).any():\n",
    "        X.append(bloque.astype(np.float32))\n",
    "        y_out.append(y_future.iloc[i].values.astype(np.float32))\n",
    "        fechas.append(y_future.index[i])\n",
    "\n",
    "X_arr = np.asarray(X, dtype=np.float32)                # (N, W, n_assets, 2)\n",
    "y_arr = np.asarray(y_out, dtype=np.float32)            # (N, n_assets)\n",
    "fechas = pd.to_datetime(fechas)\n",
    "\n",
    "print(\"✅ X shape :\", X_arr.shape)\n",
    "print(\"✅ y shape :\", y_arr.shape)\n",
    "print(\"✅ Fechas  :\", fechas.min().date(), \"→\", fechas.max().date())\n",
    "\n"
   ]
  },
  {
   "cell_type": "code",
   "execution_count": 5,
   "id": "930945a0-91f4-4cd7-9b9c-7e5385c3b528",
   "metadata": {},
   "outputs": [
    {
     "name": "stdout",
     "output_type": "stream",
     "text": [
      "✅ Dataset cnn5d_data.pkl guardado.\n"
     ]
    }
   ],
   "source": [
    "\n",
    "# 6. Guardar dataset -----------------------------------------------------------\n",
    "joblib.dump(\n",
    "    {\"X\": X_arr, \"y\": y_arr, \"tickers\": df.columns.tolist(), \"fechas\": fechas},\n",
    "    cfg.DATA / \"processed\" / \"cnn5d_data.pkl\"\n",
    ")\n",
    "print(\"✅ Dataset cnn5d_data.pkl guardado.\")\n"
   ]
  },
  {
   "cell_type": "code",
   "execution_count": 6,
   "id": "2f2bb8ce",
   "metadata": {},
   "outputs": [
    {
     "name": "stdout",
     "output_type": "stream",
     "text": [
      "✅ Dataset cnn5d_data.pkl corregido y guardado nuevamente.\n"
     ]
    }
   ],
   "source": [
    "# ✅ CORRECCIÓN: Re-guardar con las fechas correctas\n",
    "# El archivo anterior tenía un error en la variable 'dates'\n",
    "joblib.dump(\n",
    "    {\"X\": X_arr, \"y\": y_arr, \"tickers\": df.columns.tolist(), \"dates\": fechas},\n",
    "    cfg.DATA / \"processed\" / \"cnn5d_data.pkl\"\n",
    ")\n",
    "print(\"✅ Dataset cnn5d_data.pkl corregido y guardado nuevamente.\")\n"
   ]
  },
  {
   "cell_type": "code",
   "execution_count": null,
   "id": "aaa872e3-548e-4742-8d6f-40f0e65417c6",
   "metadata": {},
   "outputs": [],
   "source": []
  }
 ],
 "metadata": {
  "kernelspec": {
   "display_name": "Python 3",
   "language": "python",
   "name": "python3"
  },
  "language_info": {
   "codemirror_mode": {
    "name": "ipython",
    "version": 3
   },
   "file_extension": ".py",
   "mimetype": "text/x-python",
   "name": "python",
   "nbconvert_exporter": "python",
   "pygments_lexer": "ipython3",
   "version": "3.11.9"
  }
 },
 "nbformat": 4,
 "nbformat_minor": 5
}
