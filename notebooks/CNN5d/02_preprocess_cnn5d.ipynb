{
 "cells": [
  {
   "cell_type": "code",
   "execution_count": 1,
   "id": "e0ad8c09-a994-44a6-a6da-f640b9bebe91",
   "metadata": {},
   "outputs": [
    {
     "name": "stdout",
     "output_type": "stream",
     "text": [
      "✅ X shape: (4455, 60, 80)\n",
      "✅ y shape: (4455, 40)\n"
     ]
    }
   ],
   "source": [
    "import sys, pathlib\n",
    "import pandas as pd\n",
    "import numpy as np\n",
    "import joblib\n",
    "\n",
    "# Añadir src/ al path para poder importar config\n",
    "PROJECT_ROOT = pathlib.Path().resolve().parent.parent  # estamos en /notebooks/lstm5d\n",
    "if str(PROJECT_ROOT) not in sys.path:\n",
    "    sys.path.insert(0, str(PROJECT_ROOT))\n",
    "\n",
    "from src import config as cfg\n",
    "\n",
    "# === 1. Cargar precios ===\n",
    "df = pd.read_parquet(cfg.DATA / \"raw\" / \"prices.parquet\")\n",
    "df = df.ffill().dropna()\n",
    "\n",
    "# === 2. Calcular retornos y características ===\n",
    "ret = np.log(df / df.shift(1)).dropna()\n",
    "ret5 = ret.rolling(5).sum()\n",
    "vol5 = ret.rolling(5).std()\n",
    "momentum = (ret5 / (vol5 + 1e-6)).clip(-10, 10)\n",
    "\n",
    "# === 3. Definir target ===\n",
    "y = ret5.shift(-5).dropna()  # retorno acumulado futuro\n",
    "\n",
    "# === 4. Alinear features con el target ===\n",
    "ret = ret.shift(1).reindex(y.index)\n",
    "momentum = momentum.shift(1).reindex(y.index)\n",
    "\n",
    "# === 5. Crear ventanas ===\n",
    "X = []\n",
    "for i in range(cfg.WINDOW, len(y)):\n",
    "    ventana_ret = ret.iloc[i - cfg.WINDOW:i].values       # (60, N)\n",
    "    ventana_mom = momentum.iloc[i - cfg.WINDOW:i].values  # (60, N)\n",
    "    bloque = np.concatenate([ventana_ret, ventana_mom], axis=1)  # (60, 2N)\n",
    "    X.append(bloque)\n",
    "\n",
    "X = np.stack(X)  # shape = (n_muestras, 60, 2N)\n",
    "y = y.iloc[cfg.WINDOW:].values  # shape = (n_muestras, N)\n",
    "\n",
    "print(f\"✅ X shape: {X.shape}\")\n",
    "print(f\"✅ y shape: {y.shape}\")"
   ]
  },
  {
   "cell_type": "code",
   "execution_count": 3,
   "id": "930945a0-91f4-4cd7-9b9c-7e5385c3b528",
   "metadata": {},
   "outputs": [
    {
     "name": "stdout",
     "output_type": "stream",
     "text": [
      "Tickers guardados: 40\n"
     ]
    }
   ],
   "source": [
    "# === 6. Guardar datos procesados ===\n",
    "joblib.dump({\n",
    "    \"X\": X,\n",
    "    \"y\": y,\n",
    "    \"tickers\": df.columns.tolist()\n",
    "}, cfg.DATA / \"processed\" / \"cnn5d_data.pkl\")\n",
    "\n",
    "loaded = joblib.load(cfg.DATA / \"processed\" / \"cnn5d_data.pkl\")\n",
    "print(\"Tickers guardados:\", len(loaded[\"tickers\"]))"
   ]
  },
  {
   "cell_type": "code",
   "execution_count": null,
   "id": "aaa872e3-548e-4742-8d6f-40f0e65417c6",
   "metadata": {},
   "outputs": [],
   "source": []
  }
 ],
 "metadata": {
  "kernelspec": {
   "display_name": "TFM (tfmm)",
   "language": "python",
   "name": "tfmm"
  },
  "language_info": {
   "codemirror_mode": {
    "name": "ipython",
    "version": 3
   },
   "file_extension": ".py",
   "mimetype": "text/x-python",
   "name": "python",
   "nbconvert_exporter": "python",
   "pygments_lexer": "ipython3",
   "version": "3.11.0"
  }
 },
 "nbformat": 4,
 "nbformat_minor": 5
}
