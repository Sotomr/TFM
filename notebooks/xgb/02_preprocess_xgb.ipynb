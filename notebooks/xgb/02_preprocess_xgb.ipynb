{
 "cells": [
  {
   "cell_type": "code",
   "execution_count": 12,
   "id": "c9b8f782-5580-4959-946c-1bcdd810fe0e",
   "metadata": {},
   "outputs": [
    {
     "name": "stdout",
     "output_type": "stream",
     "text": [
      "📈 Dimensiones: (4521, 40)\n",
      "🗓️ Rango de fechas: 2012-05-18 a 2025-06-26\n",
      "📊 Activos disponibles: 40\n",
      "⚠️ Las fechas no están exactamente en frecuencia 'B' (puede haber feriados).\n",
      "❓ Valores nulos: 0\n"
     ]
    }
   ],
   "source": [
    "# PASO 1: Cargar precios correctamente y validar\n",
    "import sys, pathlib\n",
    "import pandas as pd\n",
    "import numpy as np\n",
    "import matplotlib.pyplot as plt\n",
    "import seaborn as sns\n",
    "\n",
    "# Añadir src/ al path\n",
    "PROJECT_ROOT = pathlib.Path().resolve().parent.parent  # notebooks/xgb/ → proyecto raíz\n",
    "if str(PROJECT_ROOT) not in sys.path:\n",
    "    sys.path.insert(0, str(PROJECT_ROOT))\n",
    "\n",
    "from src import config as cfg\n",
    "\n",
    "# 1. Cargar datos\n",
    "df = pd.read_parquet(cfg.DATA / \"raw\" / \"prices.parquet\")\n",
    "df = df.ffill().dropna()\n",
    "\n",
    "# 2. Info general\n",
    "print(f\"📈 Dimensiones: {df.shape}\")\n",
    "print(f\"🗓️ Rango de fechas: {df.index.min().date()} a {df.index.max().date()}\")\n",
    "print(f\"📊 Activos disponibles: {len(df.columns)}\")\n",
    "\n",
    "# 3. Checks\n",
    "# 3. Checks\n",
    "assert df.index.is_monotonic_increasing, \"❌ Fechas no ordenadas\"\n",
    "\n",
    "if df.index.inferred_freq != \"B\":\n",
    "    print(\"⚠️ Las fechas no están exactamente en frecuencia 'B' (puede haber feriados).\")\n",
    "\n",
    "n_nulos = df.isna().sum().sum()\n",
    "print(f\"❓ Valores nulos: {n_nulos}\")"
   ]
  },
  {
   "cell_type": "code",
   "execution_count": 16,
   "id": "ae59663f-b9fb-475a-b059-6d6486e959a9",
   "metadata": {},
   "outputs": [
    {
     "name": "stdout",
     "output_type": "stream",
     "text": [
      "📏 ret shape: (4515, 40)\n",
      "📏 momentum shape: (4515, 40)\n",
      "🎯 target shape (y): (4515, 40)\n"
     ]
    }
   ],
   "source": [
    "# PASO 2: calcular retornos, momentum y target\n",
    "# --------------------------------------------\n",
    "\n",
    "# 1. Retornos logarítmicos diarios\n",
    "ret = np.log(df / df.shift(1)).dropna()\n",
    "\n",
    "# 2. Retorno acumulado 5 días\n",
    "ret5 = ret.rolling(5).sum()\n",
    "\n",
    "# 3. Volatilidad 5 días\n",
    "vol5 = ret.rolling(5).std()\n",
    "\n",
    "# 4. Momentum = retorno / volatilidad\n",
    "momentum = (ret5 / (vol5 + 1e-6)).clip(-10, 10)\n",
    "\n",
    "# 5. Target: retorno futuro (t+1 a t+5)\n",
    "y = ret5.shift(-5).dropna()\n",
    "\n",
    "# 6. Alinear features al target (ventana t-1)\n",
    "ret = ret.shift(1).reindex(y.index)\n",
    "momentum = momentum.shift(1).reindex(y.index)\n",
    "\n",
    "# Visual quick check\n",
    "print(\"📏 ret shape:\", ret.shape)\n",
    "print(\"📏 momentum shape:\", momentum.shape)\n",
    "print(\"🎯 target shape (y):\", y.shape)\n"
   ]
  },
  {
   "cell_type": "code",
   "execution_count": 18,
   "id": "57a6af33-f4ae-4645-af38-8143533d0058",
   "metadata": {},
   "outputs": [
    {
     "name": "stdout",
     "output_type": "stream",
     "text": [
      "✅ Dataset total: 180400 muestras × 7 columnas\n"
     ]
    },
    {
     "data": {
      "text/html": [
       "<div>\n",
       "<style scoped>\n",
       "    .dataframe tbody tr th:only-of-type {\n",
       "        vertical-align: middle;\n",
       "    }\n",
       "\n",
       "    .dataframe tbody tr th {\n",
       "        vertical-align: top;\n",
       "    }\n",
       "\n",
       "    .dataframe thead th {\n",
       "        text-align: right;\n",
       "    }\n",
       "</style>\n",
       "<table border=\"1\" class=\"dataframe\">\n",
       "  <thead>\n",
       "    <tr style=\"text-align: right;\">\n",
       "      <th></th>\n",
       "      <th>ret_1d</th>\n",
       "      <th>ret_5d</th>\n",
       "      <th>vol_5d</th>\n",
       "      <th>momentum</th>\n",
       "      <th>target_5d</th>\n",
       "      <th>ticker</th>\n",
       "      <th>date</th>\n",
       "    </tr>\n",
       "  </thead>\n",
       "  <tbody>\n",
       "    <tr>\n",
       "      <th>0</th>\n",
       "      <td>-0.005374</td>\n",
       "      <td>0.019391</td>\n",
       "      <td>0.015723</td>\n",
       "      <td>2.040688</td>\n",
       "      <td>-0.016634</td>\n",
       "      <td>AAPL</td>\n",
       "      <td>2012-05-29</td>\n",
       "    </tr>\n",
       "    <tr>\n",
       "      <th>1</th>\n",
       "      <td>-0.002728</td>\n",
       "      <td>0.005325</td>\n",
       "      <td>0.010027</td>\n",
       "      <td>1.104154</td>\n",
       "      <td>-0.030058</td>\n",
       "      <td>ABT</td>\n",
       "      <td>2012-05-29</td>\n",
       "    </tr>\n",
       "    <tr>\n",
       "      <th>2</th>\n",
       "      <td>0.001901</td>\n",
       "      <td>0.001249</td>\n",
       "      <td>0.012598</td>\n",
       "      <td>0.612189</td>\n",
       "      <td>-0.042709</td>\n",
       "      <td>ADBE</td>\n",
       "      <td>2012-05-29</td>\n",
       "    </tr>\n",
       "    <tr>\n",
       "      <th>3</th>\n",
       "      <td>-0.010978</td>\n",
       "      <td>-0.015525</td>\n",
       "      <td>0.010986</td>\n",
       "      <td>-0.310394</td>\n",
       "      <td>-0.007197</td>\n",
       "      <td>AMZN</td>\n",
       "      <td>2012-05-29</td>\n",
       "    </tr>\n",
       "    <tr>\n",
       "      <th>4</th>\n",
       "      <td>0.001400</td>\n",
       "      <td>0.085547</td>\n",
       "      <td>0.018234</td>\n",
       "      <td>0.842262</td>\n",
       "      <td>-0.045431</td>\n",
       "      <td>BAC</td>\n",
       "      <td>2012-05-29</td>\n",
       "    </tr>\n",
       "  </tbody>\n",
       "</table>\n",
       "</div>"
      ],
      "text/plain": [
       "     ret_1d    ret_5d    vol_5d  momentum  target_5d ticker       date\n",
       "0 -0.005374  0.019391  0.015723  2.040688  -0.016634   AAPL 2012-05-29\n",
       "1 -0.002728  0.005325  0.010027  1.104154  -0.030058    ABT 2012-05-29\n",
       "2  0.001901  0.001249  0.012598  0.612189  -0.042709   ADBE 2012-05-29\n",
       "3 -0.010978 -0.015525  0.010986 -0.310394  -0.007197   AMZN 2012-05-29\n",
       "4  0.001400  0.085547  0.018234  0.842262  -0.045431    BAC 2012-05-29"
      ]
     },
     "execution_count": 18,
     "metadata": {},
     "output_type": "execute_result"
    }
   ],
   "source": [
    "# PASO 3: Construcción de dataset plano por ticker/fecha\n",
    "# ------------------------------------------------------\n",
    "\n",
    "df_list = []\n",
    "\n",
    "for ticker in df.columns:\n",
    "    df_feat = pd.DataFrame(index=ret.index)\n",
    "    df_feat[\"ret_1d\"] = ret[ticker]\n",
    "    df_feat[\"ret_5d\"] = ret5[ticker].reindex(ret.index)\n",
    "    df_feat[\"vol_5d\"] = vol5[ticker].reindex(ret.index)\n",
    "    df_feat[\"momentum\"] = momentum[ticker]\n",
    "    df_feat[\"target_5d\"] = y[ticker]\n",
    "    \n",
    "    df_feat[\"ticker\"] = ticker\n",
    "    df_feat[\"date\"] = df_feat.index\n",
    "\n",
    "    df_list.append(df_feat.dropna())\n",
    "\n",
    "# Unir todos los tickers\n",
    "df_xgb = pd.concat(df_list).reset_index(drop=True)\n",
    "\n",
    "# Ordenar por fecha\n",
    "df_xgb = df_xgb.sort_values([\"date\", \"ticker\"]).reset_index(drop=True)\n",
    "\n",
    "# Quick check\n",
    "print(f\"✅ Dataset total: {df_xgb.shape[0]} muestras × {df_xgb.shape[1]} columnas\")\n",
    "df_xgb.head()\n"
   ]
  },
  {
   "cell_type": "code",
   "execution_count": 22,
   "id": "cfd06f89-7d9a-4489-980c-28abb7bb8843",
   "metadata": {},
   "outputs": [
    {
     "name": "stdout",
     "output_type": "stream",
     "text": [
      "💾 Dataset guardado en: C:\\Users\\ferra\\Documents\\TFM\\data\\processed\\xgb_data.pkl\n",
      "📦 Filas: 180,400 | Columnas: 7\n"
     ]
    }
   ],
   "source": [
    "import joblib\n",
    "from pathlib import Path\n",
    "\n",
    "# Ruta de guardado\n",
    "output_path = cfg.DATA / \"processed\" / \"xgb_data.pkl\"\n",
    "\n",
    "# Guardar\n",
    "joblib.dump(df_xgb, output_path)\n",
    "\n",
    "print(f\"💾 Dataset guardado en: {output_path}\")\n",
    "print(f\"📦 Filas: {len(df_xgb):,} | Columnas: {df_xgb.shape[1]}\")\n"
   ]
  },
  {
   "cell_type": "code",
   "execution_count": null,
   "id": "9cc4f473-970f-4f00-918d-b603973dec0b",
   "metadata": {},
   "outputs": [],
   "source": []
  }
 ],
 "metadata": {
  "kernelspec": {
   "display_name": "TFM (tfmm)",
   "language": "python",
   "name": "tfmm"
  },
  "language_info": {
   "codemirror_mode": {
    "name": "ipython",
    "version": 3
   },
   "file_extension": ".py",
   "mimetype": "text/x-python",
   "name": "python",
   "nbconvert_exporter": "python",
   "pygments_lexer": "ipython3",
   "version": "3.11.0"
  }
 },
 "nbformat": 4,
 "nbformat_minor": 5
}
