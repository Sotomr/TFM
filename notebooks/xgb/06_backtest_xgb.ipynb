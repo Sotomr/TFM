{
 "cells": [
  {
   "cell_type": "code",
   "execution_count": 3,
   "id": "8cd219f2-53db-479e-a3ce-96a2e95502bf",
   "metadata": {},
   "outputs": [
    {
     "name": "stdout",
     "output_type": "stream",
     "text": [
      "✅ Precios y retornos listos\n",
      "🟢 40 activos | Fechas: 2012-05-21 → 2025-06-26\n"
     ]
    }
   ],
   "source": [
    "# MÓDULO 1: Setup inicial\n",
    "import sys, pathlib\n",
    "import pandas as pd\n",
    "import numpy as np\n",
    "import joblib\n",
    "\n",
    "# Añadir src al path\n",
    "PROJECT_ROOT = pathlib.Path().resolve().parent.parent\n",
    "if str(PROJECT_ROOT) not in sys.path:\n",
    "    sys.path.insert(0, str(PROJECT_ROOT))\n",
    "\n",
    "from src import config as cfg\n",
    "from src import evol_utils as eu\n",
    "from src.predict_xgb import predict_xgb\n",
    "\n",
    "# Cargar precios y retornos\n",
    "df_prices = pd.read_parquet(cfg.DATA / \"raw\" / \"prices.parquet\").sort_index().ffill()\n",
    "df_ret = np.log(df_prices / df_prices.shift(1)).dropna()\n",
    "\n",
    "# Cargar lista de tickers usada en entrenamiento XGB\n",
    "df_xgb = joblib.load(cfg.DATA / \"processed\" / \"xgb_data.pkl\")\n",
    "tickers = sorted(df_xgb[\"ticker\"].unique())\n",
    "df_prices = df_prices[tickers]\n",
    "df_ret = df_ret[tickers]\n",
    "\n",
    "print(\"✅ Precios y retornos listos\")\n",
    "print(f\"🟢 {len(tickers)} activos | Fechas: {df_ret.index.min().date()} → {df_ret.index.max().date()}\")\n"
   ]
  },
  {
   "cell_type": "code",
   "execution_count": 5,
   "id": "7317a305-c2ea-43c8-98cb-351139170fd9",
   "metadata": {},
   "outputs": [],
   "source": [
    "# MÓDULO 2: Función específica para XGB\n",
    "def rebalancear_en_fecha_xgb(fecha, df_prices, df_ret, tickers):\n",
    "    try:\n",
    "        r_hat = predict_xgb(df_prices, fecha, tickers)\n",
    "        if r_hat.isna().any():\n",
    "            raise ValueError(\"Predicción XGB contiene NaNs\")\n",
    "\n",
    "        idx = df_ret.index.get_loc(fecha)\n",
    "        ventana = df_ret.iloc[idx - cfg.WINDOW: idx]\n",
    "        Sigma = ventana.cov().values\n",
    "\n",
    "        if r_hat.shape[0] != Sigma.shape[0]:\n",
    "            raise ValueError(\"Dimensión inconsistente entre r̂ y Σ\")\n",
    "\n",
    "        res = eu.resolver_optimizacion(r_hat.values, Sigma)\n",
    "        w_star = eu.elegir_w_star(res, r_hat.values, Sigma)\n",
    "\n",
    "        future = df_ret.iloc[idx : idx + cfg.REBAL_FREQ].values @ w_star\n",
    "        return {\"fecha\": fecha, \"retorno\": future.sum(), \"w_star\": w_star}\n",
    "    except Exception as e:\n",
    "        print(f\"⚠️ {fecha.date()} | Error: {e}\")\n",
    "        return None\n"
   ]
  },
  {
   "cell_type": "code",
   "execution_count": 7,
   "id": "02cfcd11-cd22-4461-80e7-811dfae4672a",
   "metadata": {},
   "outputs": [
    {
     "name": "stdout",
     "output_type": "stream",
     "text": [
      "✅ 2019-03-02 | Retorno 0.0238%\n"
     ]
    },
    {
     "ename": "KeyboardInterrupt",
     "evalue": "",
     "output_type": "error",
     "traceback": [
      "\u001b[31m---------------------------------------------------------------------------\u001b[39m",
      "\u001b[31mKeyboardInterrupt\u001b[39m                         Traceback (most recent call last)",
      "\u001b[36mCell\u001b[39m\u001b[36m \u001b[39m\u001b[32mIn[7]\u001b[39m\u001b[32m, line 7\u001b[39m\n\u001b[32m      5\u001b[39m \u001b[38;5;28;01mfor\u001b[39;00m i \u001b[38;5;129;01min\u001b[39;00m \u001b[38;5;28mrange\u001b[39m(cfg.WINDOW, \u001b[38;5;28mlen\u001b[39m(fechas) - cfg.REBAL_FREQ, cfg.REBAL_FREQ):\n\u001b[32m      6\u001b[39m     fecha = fechas[i]\n\u001b[32m----> \u001b[39m\u001b[32m7\u001b[39m     out = rebalancear_en_fecha_xgb(fecha, df_prices, df_ret, tickers)\n\u001b[32m      8\u001b[39m     \u001b[38;5;28;01mif\u001b[39;00m out \u001b[38;5;129;01mis\u001b[39;00m \u001b[38;5;129;01mnot\u001b[39;00m \u001b[38;5;28;01mNone\u001b[39;00m:\n\u001b[32m      9\u001b[39m         resultados.append(out)\n",
      "\u001b[36mCell\u001b[39m\u001b[36m \u001b[39m\u001b[32mIn[5]\u001b[39m\u001b[32m, line 15\u001b[39m, in \u001b[36mrebalancear_en_fecha_xgb\u001b[39m\u001b[34m(fecha, df_prices, df_ret, tickers)\u001b[39m\n\u001b[32m     12\u001b[39m \u001b[38;5;28;01mif\u001b[39;00m r_hat.shape[\u001b[32m0\u001b[39m] != Sigma.shape[\u001b[32m0\u001b[39m]:\n\u001b[32m     13\u001b[39m     \u001b[38;5;28;01mraise\u001b[39;00m \u001b[38;5;167;01mValueError\u001b[39;00m(\u001b[33m\"\u001b[39m\u001b[33mDimensión inconsistente entre r̂ y Σ\u001b[39m\u001b[33m\"\u001b[39m)\n\u001b[32m---> \u001b[39m\u001b[32m15\u001b[39m res = eu.resolver_optimizacion(r_hat.values, Sigma)\n\u001b[32m     16\u001b[39m w_star = eu.elegir_w_star(res, r_hat.values, Sigma)\n\u001b[32m     18\u001b[39m future = df_ret.iloc[idx : idx + cfg.REBAL_FREQ].values @ w_star\n",
      "\u001b[36mFile \u001b[39m\u001b[32m~\\Documents\\TFM\\src\\evol_utils.py:35\u001b[39m, in \u001b[36mresolver_optimizacion\u001b[39m\u001b[34m(mu_hat, Sigma)\u001b[39m\n\u001b[32m     32\u001b[39m         out[\u001b[33m\"\u001b[39m\u001b[33mG\u001b[39m\u001b[33m\"\u001b[39m] = np.column_stack([g1, g2])\n\u001b[32m     34\u001b[39m algo = NSGA2(pop_size=cfg.POP_SIZE)\n\u001b[32m---> \u001b[39m\u001b[32m35\u001b[39m res = minimize(PortOpt(), algo, termination=(\u001b[33m'\u001b[39m\u001b[33mn_gen\u001b[39m\u001b[33m'\u001b[39m, cfg.N_GENS), verbose=\u001b[38;5;28;01mFalse\u001b[39;00m)\n\u001b[32m     36\u001b[39m \u001b[38;5;28;01mreturn\u001b[39;00m res\n",
      "\u001b[36mFile \u001b[39m\u001b[32m~\\anaconda3\\envs\\TFMM\\Lib\\site-packages\\pymoo\\optimize.py:67\u001b[39m, in \u001b[36mminimize\u001b[39m\u001b[34m(problem, algorithm, termination, copy_algorithm, copy_termination, **kwargs)\u001b[39m\n\u001b[32m     64\u001b[39m     algorithm.setup(problem, **kwargs)\n\u001b[32m     66\u001b[39m \u001b[38;5;66;03m# actually execute the algorithm\u001b[39;00m\n\u001b[32m---> \u001b[39m\u001b[32m67\u001b[39m res = algorithm.run()\n\u001b[32m     69\u001b[39m \u001b[38;5;66;03m# store the deep copied algorithm in the result object\u001b[39;00m\n\u001b[32m     70\u001b[39m res.algorithm = algorithm\n",
      "\u001b[36mFile \u001b[39m\u001b[32m~\\anaconda3\\envs\\TFMM\\Lib\\site-packages\\pymoo\\core\\algorithm.py:138\u001b[39m, in \u001b[36mAlgorithm.run\u001b[39m\u001b[34m(self)\u001b[39m\n\u001b[32m    136\u001b[39m \u001b[38;5;28;01mdef\u001b[39;00m\u001b[38;5;250m \u001b[39m\u001b[34mrun\u001b[39m(\u001b[38;5;28mself\u001b[39m):\n\u001b[32m    137\u001b[39m     \u001b[38;5;28;01mwhile\u001b[39;00m \u001b[38;5;28mself\u001b[39m.has_next():\n\u001b[32m--> \u001b[39m\u001b[32m138\u001b[39m         \u001b[38;5;28mself\u001b[39m.next()\n\u001b[32m    139\u001b[39m     \u001b[38;5;28;01mreturn\u001b[39;00m \u001b[38;5;28mself\u001b[39m.result()\n",
      "\u001b[36mFile \u001b[39m\u001b[32m~\\anaconda3\\envs\\TFMM\\Lib\\site-packages\\pymoo\\core\\algorithm.py:154\u001b[39m, in \u001b[36mAlgorithm.next\u001b[39m\u001b[34m(self)\u001b[39m\n\u001b[32m    151\u001b[39m \u001b[38;5;28;01mdef\u001b[39;00m\u001b[38;5;250m \u001b[39m\u001b[34mnext\u001b[39m(\u001b[38;5;28mself\u001b[39m):\n\u001b[32m    152\u001b[39m \n\u001b[32m    153\u001b[39m     \u001b[38;5;66;03m# get the infill solutions\u001b[39;00m\n\u001b[32m--> \u001b[39m\u001b[32m154\u001b[39m     infills = \u001b[38;5;28mself\u001b[39m.infill()\n\u001b[32m    156\u001b[39m     \u001b[38;5;66;03m# call the advance with them after evaluation\u001b[39;00m\n\u001b[32m    157\u001b[39m     \u001b[38;5;28;01mif\u001b[39;00m infills \u001b[38;5;129;01mis\u001b[39;00m \u001b[38;5;129;01mnot\u001b[39;00m \u001b[38;5;28;01mNone\u001b[39;00m:\n",
      "\u001b[36mFile \u001b[39m\u001b[32m~\\anaconda3\\envs\\TFMM\\Lib\\site-packages\\pymoo\\core\\algorithm.py:190\u001b[39m, in \u001b[36mAlgorithm.infill\u001b[39m\u001b[34m(self)\u001b[39m\n\u001b[32m    186\u001b[39m     infills = \u001b[38;5;28mself\u001b[39m._initialize_infill()\n\u001b[32m    188\u001b[39m \u001b[38;5;28;01melse\u001b[39;00m:\n\u001b[32m    189\u001b[39m     \u001b[38;5;66;03m# request the infill solutions if the algorithm has implemented it\u001b[39;00m\n\u001b[32m--> \u001b[39m\u001b[32m190\u001b[39m     infills = \u001b[38;5;28mself\u001b[39m._infill()\n\u001b[32m    192\u001b[39m \u001b[38;5;66;03m# set the current generation to the offsprings\u001b[39;00m\n\u001b[32m    193\u001b[39m \u001b[38;5;28;01mif\u001b[39;00m infills \u001b[38;5;129;01mis\u001b[39;00m \u001b[38;5;129;01mnot\u001b[39;00m \u001b[38;5;28;01mNone\u001b[39;00m:\n",
      "\u001b[36mFile \u001b[39m\u001b[32m~\\anaconda3\\envs\\TFMM\\Lib\\site-packages\\pymoo\\algorithms\\base\\genetic.py:85\u001b[39m, in \u001b[36mGeneticAlgorithm._infill\u001b[39m\u001b[34m(self)\u001b[39m\n\u001b[32m     82\u001b[39m \u001b[38;5;28;01mdef\u001b[39;00m\u001b[38;5;250m \u001b[39m\u001b[34m_infill\u001b[39m(\u001b[38;5;28mself\u001b[39m):\n\u001b[32m     83\u001b[39m \n\u001b[32m     84\u001b[39m     \u001b[38;5;66;03m# do the mating using the current population\u001b[39;00m\n\u001b[32m---> \u001b[39m\u001b[32m85\u001b[39m     off = \u001b[38;5;28mself\u001b[39m.mating.do(\u001b[38;5;28mself\u001b[39m.problem, \u001b[38;5;28mself\u001b[39m.pop, \u001b[38;5;28mself\u001b[39m.n_offsprings, algorithm=\u001b[38;5;28mself\u001b[39m)\n\u001b[32m     87\u001b[39m     \u001b[38;5;66;03m# if the mating could not generate any new offspring (duplicate elimination might make that happen)\u001b[39;00m\n\u001b[32m     88\u001b[39m     \u001b[38;5;28;01mif\u001b[39;00m \u001b[38;5;28mlen\u001b[39m(off) == \u001b[32m0\u001b[39m:\n",
      "\u001b[36mFile \u001b[39m\u001b[32m~\\anaconda3\\envs\\TFMM\\Lib\\site-packages\\pymoo\\core\\infill.py:44\u001b[39m, in \u001b[36mInfillCriterion.do\u001b[39m\u001b[34m(self, problem, pop, n_offsprings, **kwargs)\u001b[39m\n\u001b[32m     41\u001b[39m _off = \u001b[38;5;28mself\u001b[39m.repair(problem, _off, **kwargs)\n\u001b[32m     43\u001b[39m \u001b[38;5;66;03m# eliminate the duplicates\u001b[39;00m\n\u001b[32m---> \u001b[39m\u001b[32m44\u001b[39m _off = \u001b[38;5;28mself\u001b[39m.eliminate_duplicates.do(_off, pop, off)\n\u001b[32m     46\u001b[39m \u001b[38;5;66;03m# if more offsprings than necessary - truncate them randomly\u001b[39;00m\n\u001b[32m     47\u001b[39m \u001b[38;5;28;01mif\u001b[39;00m \u001b[38;5;28mlen\u001b[39m(off) + \u001b[38;5;28mlen\u001b[39m(_off) > n_offsprings:\n\u001b[32m     48\u001b[39m \n\u001b[32m     49\u001b[39m     \u001b[38;5;66;03m# IMPORTANT: Interestingly, this makes a difference in performance for some algorithms\u001b[39;00m\n",
      "\u001b[36mFile \u001b[39m\u001b[32m~\\anaconda3\\envs\\TFMM\\Lib\\site-packages\\pymoo\\core\\duplicate.py:36\u001b[39m, in \u001b[36mDuplicateElimination.do\u001b[39m\u001b[34m(self, pop, return_indices, to_itself, *args)\u001b[39m\n\u001b[32m     34\u001b[39m             \u001b[38;5;28;01mcontinue\u001b[39;00m\n\u001b[32m     35\u001b[39m         \u001b[38;5;28;01melse\u001b[39;00m:\n\u001b[32m---> \u001b[39m\u001b[32m36\u001b[39m             pop = pop[~\u001b[38;5;28mself\u001b[39m._do(pop, arg, np.full(\u001b[38;5;28mlen\u001b[39m(pop), \u001b[38;5;28;01mFalse\u001b[39;00m))]\n\u001b[32m     38\u001b[39m \u001b[38;5;28;01mif\u001b[39;00m return_indices:\n\u001b[32m     39\u001b[39m     no_duplicate, is_duplicate = [], []\n",
      "\u001b[36mFile \u001b[39m\u001b[32m~\\anaconda3\\envs\\TFMM\\Lib\\site-packages\\pymoo\\core\\duplicate.py:75\u001b[39m, in \u001b[36mDefaultDuplicateElimination._do\u001b[39m\u001b[34m(self, pop, other, is_duplicate)\u001b[39m\n\u001b[32m     74\u001b[39m \u001b[38;5;28;01mdef\u001b[39;00m\u001b[38;5;250m \u001b[39m\u001b[34m_do\u001b[39m(\u001b[38;5;28mself\u001b[39m, pop, other, is_duplicate):\n\u001b[32m---> \u001b[39m\u001b[32m75\u001b[39m     D = \u001b[38;5;28mself\u001b[39m.calc_dist(pop, other)\n\u001b[32m     76\u001b[39m     D[np.isnan(D)] = np.inf\n\u001b[32m     78\u001b[39m     is_duplicate[np.any(D <= \u001b[38;5;28mself\u001b[39m.epsilon, axis=\u001b[32m1\u001b[39m)] = \u001b[38;5;28;01mTrue\u001b[39;00m\n",
      "\u001b[36mFile \u001b[39m\u001b[32m~\\anaconda3\\envs\\TFMM\\Lib\\site-packages\\pymoo\\core\\duplicate.py:69\u001b[39m, in \u001b[36mDefaultDuplicateElimination.calc_dist\u001b[39m\u001b[34m(self, pop, other)\u001b[39m\n\u001b[32m     67\u001b[39m     D[np.triu_indices(\u001b[38;5;28mlen\u001b[39m(X))] = np.inf\n\u001b[32m     68\u001b[39m \u001b[38;5;28;01melse\u001b[39;00m:\n\u001b[32m---> \u001b[39m\u001b[32m69\u001b[39m     _X = \u001b[38;5;28mself\u001b[39m.func(other)\n\u001b[32m     70\u001b[39m     D = cdist(X, _X)\n\u001b[32m     72\u001b[39m \u001b[38;5;28;01mreturn\u001b[39;00m D\n",
      "\u001b[36mFile \u001b[39m\u001b[32m~\\anaconda3\\envs\\TFMM\\Lib\\site-packages\\pymoo\\core\\duplicate.py:7\u001b[39m, in \u001b[36mdefault_attr\u001b[39m\u001b[34m(pop)\u001b[39m\n\u001b[32m      6\u001b[39m \u001b[38;5;28;01mdef\u001b[39;00m\u001b[38;5;250m \u001b[39m\u001b[34mdefault_attr\u001b[39m(pop):\n\u001b[32m----> \u001b[39m\u001b[32m7\u001b[39m     \u001b[38;5;28;01mreturn\u001b[39;00m pop.get(\u001b[33m\"\u001b[39m\u001b[33mX\u001b[39m\u001b[33m\"\u001b[39m)\n",
      "\u001b[36mFile \u001b[39m\u001b[32m~\\anaconda3\\envs\\TFMM\\Lib\\site-packages\\pymoo\\core\\population.py:72\u001b[39m, in \u001b[36mPopulation.get\u001b[39m\u001b[34m(self, to_numpy, *args, **kwargs)\u001b[39m\n\u001b[32m     70\u001b[39m \u001b[38;5;66;03m# to numpy array if desired - default true\u001b[39;00m\n\u001b[32m     71\u001b[39m \u001b[38;5;28;01mif\u001b[39;00m to_numpy:\n\u001b[32m---> \u001b[39m\u001b[32m72\u001b[39m     res = [np.array(e) \u001b[38;5;28;01mfor\u001b[39;00m e \u001b[38;5;129;01min\u001b[39;00m res]\n\u001b[32m     74\u001b[39m \u001b[38;5;66;03m# return as tuple or single value\u001b[39;00m\n\u001b[32m     75\u001b[39m \u001b[38;5;28;01mif\u001b[39;00m \u001b[38;5;28mlen\u001b[39m(args) == \u001b[32m1\u001b[39m:\n",
      "\u001b[36mFile \u001b[39m\u001b[32m~\\anaconda3\\envs\\TFMM\\Lib\\site-packages\\pymoo\\core\\population.py:72\u001b[39m, in \u001b[36m<listcomp>\u001b[39m\u001b[34m(.0)\u001b[39m\n\u001b[32m     70\u001b[39m \u001b[38;5;66;03m# to numpy array if desired - default true\u001b[39;00m\n\u001b[32m     71\u001b[39m \u001b[38;5;28;01mif\u001b[39;00m to_numpy:\n\u001b[32m---> \u001b[39m\u001b[32m72\u001b[39m     res = [np.array(e) \u001b[38;5;28;01mfor\u001b[39;00m e \u001b[38;5;129;01min\u001b[39;00m res]\n\u001b[32m     74\u001b[39m \u001b[38;5;66;03m# return as tuple or single value\u001b[39;00m\n\u001b[32m     75\u001b[39m \u001b[38;5;28;01mif\u001b[39;00m \u001b[38;5;28mlen\u001b[39m(args) == \u001b[32m1\u001b[39m:\n",
      "\u001b[31mKeyboardInterrupt\u001b[39m: "
     ]
    }
   ],
   "source": [
    "# MÓDULO 3: Loop principal del backtest\n",
    "fechas = df_ret.loc[cfg.START_BACKTEST:].index\n",
    "resultados = []\n",
    "\n",
    "for i in range(cfg.WINDOW, len(fechas) - cfg.REBAL_FREQ, cfg.REBAL_FREQ):\n",
    "    fecha = fechas[i]\n",
    "    out = rebalancear_en_fecha_xgb(fecha, df_prices, df_ret, tickers)\n",
    "    if out is not None:\n",
    "        resultados.append(out)\n",
    "        print(f\"✅ {fecha.date()} | Retorno {out['retorno']:.4%}\")\n",
    "    else:\n",
    "        print(f\"⚠️ {fecha.date()} | Resultado nulo\")\n"
   ]
  },
  {
   "cell_type": "code",
   "execution_count": 10,
   "id": "36d4873a-5b19-48d2-a2b1-f9725dc811e4",
   "metadata": {},
   "outputs": [
    {
     "name": "stdout",
     "output_type": "stream",
     "text": [
      "💾 Backtest guardado en: C:\\Users\\ferra\\Documents\\TFM\\results\\backtest_xgb.pkl\n"
     ]
    }
   ],
   "source": [
    "# MÓDULO 4: Guardar resultados\n",
    "df_res = pd.DataFrame(resultados).set_index(\"fecha\")\n",
    "joblib.dump(df_res, cfg.RESULT / \"backtest_xgb.pkl\")\n",
    "print(\"💾 Backtest guardado en:\", cfg.RESULT / \"backtest_xgb.pkl\")"
   ]
  }
 ],
 "metadata": {
  "kernelspec": {
   "display_name": "TFM (tfmm)",
   "language": "python",
   "name": "tfmm"
  },
  "language_info": {
   "codemirror_mode": {
    "name": "ipython",
    "version": 3
   },
   "file_extension": ".py",
   "mimetype": "text/x-python",
   "name": "python",
   "nbconvert_exporter": "python",
   "pygments_lexer": "ipython3",
   "version": "3.11.0"
  }
 },
 "nbformat": 4,
 "nbformat_minor": 5
}
