{
 "cells": [
  {
   "cell_type": "code",
   "execution_count": 1,
   "id": "4a2db351-8e0c-44d8-9e36-28cc0d72f4f8",
   "metadata": {},
   "outputs": [
    {
     "name": "stdout",
     "output_type": "stream",
     "text": [
      "✅ Entorno funcionando correctamente\n",
      "NumPy: 1.26.4\n",
      "Pandas: 2.3.0\n",
      "TensorFlow: 2.16.2\n",
      "pymoo: 0.6.1.5\n"
     ]
    }
   ],
   "source": [
    "import numpy as np\n",
    "import pandas as pd\n",
    "import tensorflow as tf\n",
    "import yfinance as yf\n",
    "import pymoo\n",
    "\n",
    "print(\"✅ Entorno funcionando correctamente\")\n",
    "print(\"NumPy:\", np.__version__)\n",
    "print(\"Pandas:\", pd.__version__)\n",
    "print(\"TensorFlow:\", tf.__version__)\n",
    "print(\"pymoo:\", pymoo.__version__)\n"
   ]
  },
  {
   "cell_type": "code",
   "execution_count": 2,
   "id": "f4e35579-0dc8-4624-ac84-09dc526cc5b8",
   "metadata": {},
   "outputs": [
    {
     "name": "stdout",
     "output_type": "stream",
     "text": [
      "✅ Carpetas creadas correctamente\n"
     ]
    }
   ],
   "source": [
    "import os\n",
    "\n",
    "folders = [\n",
    "    \"data/raw\", \"data/interim\", \"data/processed\",\n",
    "    \"notebooks\", \"src\", \"models\", \"results\", \"figures\", \"src/utils\"\n",
    "]\n",
    "\n",
    "for folder in folders:\n",
    "    os.makedirs(folder, exist_ok=True)\n",
    "\n",
    "print(\"✅ Carpetas creadas correctamente\")\n"
   ]
  },
  {
   "cell_type": "code",
   "execution_count": null,
   "id": "94080bcd-ffb3-49e7-9e21-87df1a435d56",
   "metadata": {},
   "outputs": [],
   "source": []
  }
 ],
 "metadata": {
  "kernelspec": {
   "display_name": "TFM (tfmm)",
   "language": "python",
   "name": "tfmm"
  },
  "language_info": {
   "codemirror_mode": {
    "name": "ipython",
    "version": 3
   },
   "file_extension": ".py",
   "mimetype": "text/x-python",
   "name": "python",
   "nbconvert_exporter": "python",
   "pygments_lexer": "ipython3",
   "version": "3.11.0"
  }
 },
 "nbformat": 4,
 "nbformat_minor": 5
}
